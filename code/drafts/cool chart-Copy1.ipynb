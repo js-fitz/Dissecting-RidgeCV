{
 "cells": [
  {
   "cell_type": "markdown",
   "metadata": {},
   "source": [
    "### Import libraries & data"
   ]
  },
  {
   "cell_type": "code",
   "execution_count": 1,
   "metadata": {},
   "outputs": [],
   "source": [
    "import math\n",
    "import numpy as np\n",
    "import pandas as pd\n",
    "import seaborn as sns\n",
    "import matplotlib.pyplot as plt\n",
    "from IPython.display import display, HTML\n",
    "from sklearn.linear_model import LinearRegression\n",
    "from sklearn.model_selection import train_test_split, cross_val_score\n",
    "from sklearn.preprocessing import PolynomialFeatures"
   ]
  },
  {
   "cell_type": "code",
   "execution_count": 2,
   "metadata": {},
   "outputs": [
    {
     "data": {
      "text/plain": [
       "((2051, 80), (878, 79))"
      ]
     },
     "execution_count": 2,
     "metadata": {},
     "output_type": "execute_result"
    }
   ],
   "source": [
    "test = pd.read_csv('datasets/test.csv', index_col=0)\n",
    "train = pd.read_csv('datasets/train.csv', index_col=0)\n",
    "train.shape, test.shape"
   ]
  },
  {
   "cell_type": "code",
   "execution_count": 3,
   "metadata": {},
   "outputs": [],
   "source": [
    "test['SalePrice'] = np.nan      # align test data with empty SalePrice column\n",
    "train['dataset'] = 0            # ID train data with dataset col = 0\n",
    "test['dataset'] = 1             # ID test data with dataset col = 0\n",
    "df = pd.concat([test, train])   # concatenate\n",
    "df.reset_index(inplace=True)    # get col for Id"
   ]
  },
  {
   "cell_type": "code",
   "execution_count": 4,
   "metadata": {},
   "outputs": [],
   "source": [
    "df.drop(columns='PID', inplace=True)"
   ]
  },
  {
   "cell_type": "markdown",
   "metadata": {},
   "source": [
    "### Impute missing values"
   ]
  },
  {
   "cell_type": "markdown",
   "metadata": {},
   "source": [
    "<div class=\"alert alert-warning\">\n",
    "Consider being more specific here . . .\n",
    "</div>"
   ]
  },
  {
   "cell_type": "code",
   "execution_count": 5,
   "metadata": {},
   "outputs": [],
   "source": [
    "# iterate through columns with Na values\n",
    "for col in [c for c in df.columns if df[c].isna().sum() > 0]:\n",
    "    if 'Garage Yr' in col:\n",
    "        df[col] = df[col].fillna(df['Year Built'])   # 'Year Built' for na in 'Garage Yr'\n",
    "    elif df[col].dtype == 'object':\n",
    "        df[col] = df[col].fillna(\"None\")             # 'none' for na in object columns\n",
    "    else:\n",
    "        df[col] = df[col].fillna(0)                  # 0 for na in numerical columns"
   ]
  },
  {
   "cell_type": "markdown",
   "metadata": {},
   "source": [
    "---\n",
    "## Addressing features by category"
   ]
  },
  {
   "cell_type": "markdown",
   "metadata": {},
   "source": [
    "### A) Continuous"
   ]
  },
  {
   "cell_type": "code",
   "execution_count": 6,
   "metadata": {},
   "outputs": [],
   "source": [
    "continuous_x = ['Lot Frontage', 'Lot Area', 'Year Built', 'Year Remod/Add',\n",
    "                'BsmtFin SF 1', 'BsmtFin SF 2', 'Bsmt Unf SF', 'Total Bsmt SF',\n",
    "                'Mas Vnr Area', '1st Flr SF', '2nd Flr SF', 'Pool Area',\n",
    "                'Low Qual Fin SF', 'Screen Porch', 'Gr Liv Area', 'Garage Yr Blt',\n",
    "                'Garage Area', 'Wood Deck SF', 'Open Porch SF', 'Enclosed Porch',\n",
    "                '3Ssn Porch', 'Misc Val', 'TotRms AbvGrd', 'Yr Sold', 'Mo Sold']"
   ]
  },
  {
   "cell_type": "code",
   "execution_count": 7,
   "metadata": {},
   "outputs": [
    {
     "data": {
      "text/plain": [
       "Gr Liv Area        0.697038\n",
       "Garage Area        0.650270\n",
       "Total Bsmt SF      0.628925\n",
       "1st Flr SF         0.618486\n",
       "Year Built         0.571849\n",
       "Year Remod/Add     0.550370\n",
       "Garage Yr Blt      0.533922\n",
       "Mas Vnr Area       0.512230\n",
       "TotRms AbvGrd      0.504014\n",
       "BsmtFin SF 1       0.423519\n",
       "Lot Frontage       0.341842\n",
       "Open Porch SF      0.333476\n",
       "Wood Deck SF       0.326490\n",
       "Lot Area           0.296566\n",
       "2nd Flr SF         0.248452\n",
       "Bsmt Unf SF        0.190210\n",
       "Screen Porch       0.134581\n",
       "3Ssn Porch         0.048732\n",
       "Mo Sold            0.032735\n",
       "Pool Area          0.023106\n",
       "BsmtFin SF 2       0.016255\n",
       "Misc Val          -0.007375\n",
       "Yr Sold           -0.015203\n",
       "Low Qual Fin SF   -0.041594\n",
       "Enclosed Porch    -0.135656\n",
       "Name: SalePrice, dtype: float64"
      ]
     },
     "execution_count": 7,
     "metadata": {},
     "output_type": "execute_result"
    }
   ],
   "source": [
    "# list by r to SalePrice in train\n",
    "train.corr().loc['SalePrice', continuous_x].sort_values(ascending=False)"
   ]
  },
  {
   "cell_type": "markdown",
   "metadata": {},
   "source": [
    "#### Dealing with weaker columns"
   ]
  },
  {
   "cell_type": "code",
   "execution_count": 8,
   "metadata": {},
   "outputs": [],
   "source": [
    "# make year and month sold categorical\n",
    "df[['Yr Sold', 'Mo Sold']] = df[['Yr Sold', 'Mo Sold']].astype('str')\n",
    "\n",
    "# dummy zeros in 'Pool Area', BsmtFin SF 2', 'Bsmt Unf SF' & 'Low Qual Fin SF'\n",
    "df['has_Pool'] = [1 if x >0 else 0 for x in df['Pool Area']]\n",
    "df['has_BsFn2'] = [1 if x >0 else 0 for x in df['BsmtFin SF 2']]\n",
    "df['has_BsUnf'] = [1 if x >0 else 0 for x in df['Bsmt Unf SF']]\n",
    "df['has_LoQuFin'] = [1 if x > 0 else 0 for x in df['Low Qual Fin SF']]\n",
    "\n",
    "# interact and sum porches\n",
    "df['Total Porch'] = df['Open Porch SF']+df['Enclosed Porch']+df['3Ssn Porch']+df['Screen Porch']\n",
    "df['Porch_inter'] = df['Open Porch SF']*df['Enclosed Porch']*df['3Ssn Porch']*df['Screen Porch']\n",
    "\n",
    "# interact and sum SF\n",
    "df['Total SF'] = df['Gr Liv Area'] + df['Total Bsmt SF'] + df['Total Porch'] + df['Garage Area']\n",
    "df['SF_inter'] = df['Gr Liv Area']*df['Total Bsmt SF']*df['Total Porch']*df['Garage Area']\n",
    "\n",
    "# dummy zeros in weaker porches \n",
    "df['has_EncPo'] = [1 if x > 0 else 0 for x in df['Enclosed Porch']]\n",
    "df['has_ScrPo'] = [1 if x > 0 else 0 for x in df['Screen Porch']]\n",
    "df['has_3SsPo'] = [1 if x > 0 else 0 for x in df['3Ssn Porch']]\n",
    "\n",
    "# drop remaining variables with abs(r)<.2 to target\n",
    "df.drop(columns=['Bsmt Unf SF', 'BsmtFin SF 2', 'Low Qual Fin SF',\n",
    "                 'Screen Porch', '3Ssn Porch', 'Enclosed Porch',\n",
    "                 'Pool Area', 'Misc Val', ], inplace=True)  # (** totally dropping misc val? **)"
   ]
  },
  {
   "cell_type": "code",
   "execution_count": 9,
   "metadata": {},
   "outputs": [
    {
     "name": "stdout",
     "output_type": "stream",
     "text": [
      "Dropping 2207.0...\n"
     ]
    }
   ],
   "source": [
    "# replace typo with mean in Garage Yr Blt\n",
    "print(f\"Dropping {df['Garage Yr Blt'].max()}...\")\n",
    "df['Garage Yr Blt'].replace(df['Garage Yr Blt'].max(), df['Garage Yr Blt'].mean(), inplace=True)"
   ]
  },
  {
   "cell_type": "markdown",
   "metadata": {},
   "source": [
    "#### Log transform key continous x variables"
   ]
  },
  {
   "cell_type": "code",
   "execution_count": 10,
   "metadata": {},
   "outputs": [
    {
     "name": "stdout",
     "output_type": "stream",
     "text": [
      "Log transformed Lot Area\n",
      "Log transformed Lot Frontage\n",
      "Log transformed Gr Liv Area\n",
      "Log transformed BsmtFin SF 1\n",
      "Log transformed Total Bsmt SF\n",
      "Log transformed 1st Flr SF\n",
      "Log transformed Total Porch\n",
      "Log transformed Open Porch SF\n",
      "Log transformed Wood Deck SF\n",
      "Log transformed Mas Vnr Area\n",
      "Log transformed TotRms AbvGrd\n"
     ]
    }
   ],
   "source": [
    "x_to_log = ['Lot Area', 'Lot Frontage',  'Gr Liv Area',\n",
    "            'BsmtFin SF 1', 'Total Bsmt SF', '1st Flr SF',\n",
    "            'Total Porch', 'Open Porch SF', 'Wood Deck SF',\n",
    "            'Mas Vnr Area', 'TotRms AbvGrd', ]\n",
    "for x in x_to_log:\n",
    "    df[x+'_log'] = (df[x]+1).apply(np.log)\n",
    "    print('Log transformed', x)"
   ]
  },
  {
   "cell_type": "markdown",
   "metadata": {},
   "source": [
    "---\n",
    "### B) Ordinal Features"
   ]
  },
  {
   "cell_type": "code",
   "execution_count": 11,
   "metadata": {},
   "outputs": [],
   "source": [
    "ordinal_x = ['BsmtFin Type 1', 'BsmtFin Type 2', 'Exter Qual', 'Exter Cond', 'Bsmt Cond', \n",
    "             'Bsmt Qual', 'Heating QC', 'Kitchen Qual', 'Fireplace Qu', 'Garage Qual',\n",
    "             'Garage Cond', 'Pool QC', 'Lot Shape', 'Utilities', 'Land Slope', 'Bsmt Exposure',\n",
    "             'Electrical', 'Functional', 'Garage Finish', 'Paved Drive', 'Fence', 'Overall Qual',\n",
    "             'Overall Cond', 'Mo Sold', ]"
   ]
  },
  {
   "cell_type": "markdown",
   "metadata": {},
   "source": [
    "Before getting r to Saleprice, ordinals must be encoded:"
   ]
  },
  {
   "cell_type": "code",
   "execution_count": 12,
   "metadata": {},
   "outputs": [],
   "source": [
    "# standard ordinal scale:\n",
    "standard_mapper =  {'Ex': 5, 'Gd': 4, 'TA': 3, 'Fa': 2, 'Po': 1, 'None':0}\n",
    "standard_cols = ['Exter Qual', 'Exter Cond', 'Bsmt Cond', 'Bsmt Qual',\n",
    "               'Heating QC', 'Kitchen Qual', 'Fireplace Qu', 'Garage Qual',\n",
    "               'Garage Cond', 'Pool QC']\n",
    "for col in standard_cols:\n",
    "    df[col] = df[col].replace(standard_mapper).astype('float')"
   ]
  },
  {
   "cell_type": "code",
   "execution_count": 13,
   "metadata": {},
   "outputs": [],
   "source": [
    "# basement ordinals:\n",
    "bsmt_mapper =  { 'None': 0, 'Unf': 0, 'LwQ': 2, 'Rec': 3, 'BLQ': 4, 'ALQ': 5, 'GLQ': 6, }\n",
    "bsmt_cols = ['BsmtFin Type 1', 'BsmtFin Type 2']\n",
    "for col in bsmt_cols:\n",
    "    df[col] = df[col].replace(bsmt_mapper).astype('float')"
   ]
  },
  {
   "cell_type": "code",
   "execution_count": 14,
   "metadata": {},
   "outputs": [],
   "source": [
    "# unique ordinals:\n",
    "unique_ords = {\n",
    "    'Lot Shape': { 'None': 0, 'Reg': 0, 'IR1': 1, 'IR2': 2, 'IR3': 3, },\n",
    "    'Utilities': { 'AllPub': 4, 'NoSewr': 3, 'NoSeWa': 2, 'ELO': 1, 'None': 0, },\n",
    "    'Land Slope': { 'None': 0, 'Gtl': 0, 'Mod': 1, 'Sev': 2, },\n",
    "    'Bsmt Exposure': { 'Gd': 5, 'Av': 3, 'Mn': 2, 'No': 0, 'None': 0, },\n",
    "    'Electrical': { 'SBrkr': 4, 'FuseA': 3, 'FuseF': 2, 'FuseP': 1, 'Mix': 4, 'None': 0, },\n",
    "    'Functional': { 'None': 0, 'Typ': 0, 'Min1': 2, 'Min2': 3, 'Mod': 4, 'Maj1': 6, 'Maj2': 7, 'Sev': 8, 'Sal': 10, },\n",
    "    'Garage Finish': { 'Fin': 3, 'RFn': 2, 'Unf': 1, 'None': 0, },\n",
    "    'Paved Drive': { 'Y': 3, 'P': 2, 'N': 1, 'None': 0, },\n",
    "    'Fence': { 'GdPrv': 4, 'MnPrv': 3, 'GdWo': 2, 'MnWw': 1, 'None': 0, },}\n",
    "for col, mapper in unique_ords.items():\n",
    "    df[col] = df[col].replace(mapper).astype('float')"
   ]
  },
  {
   "cell_type": "code",
   "execution_count": 15,
   "metadata": {},
   "outputs": [
    {
     "name": "stderr",
     "output_type": "stream",
     "text": [
      "/Users/jfitz/opt/anaconda3/lib/python3.7/site-packages/pandas/core/indexing.py:961: FutureWarning: \n",
      "Passing list-likes to .loc or [] with any missing label will raise\n",
      "KeyError in the future, you can use .reindex() as an alternative.\n",
      "\n",
      "See the documentation here:\n",
      "https://pandas.pydata.org/pandas-docs/stable/user_guide/indexing.html#deprecate-loc-reindex-listlike\n",
      "  return getattr(section, self.name)[new_key]\n"
     ]
    },
    {
     "data": {
      "text/plain": [
       "Overall Qual      0.800207\n",
       "Exter Qual        0.712146\n",
       "Kitchen Qual      0.692336\n",
       "Bsmt Qual         0.612188\n",
       "Garage Finish     0.557839\n",
       "Fireplace Qu      0.538925\n",
       "Heating QC        0.458354\n",
       "Bsmt Exposure     0.417279\n",
       "BsmtFin Type 1    0.321022\n",
       "Lot Shape         0.294542\n",
       "Paved Drive       0.290472\n",
       "Garage Qual       0.285281\n",
       "Garage Cond       0.265021\n",
       "Electrical        0.246507\n",
       "Bsmt Cond         0.225075\n",
       "Land Slope        0.057990\n",
       "Exter Cond        0.036418\n",
       "Pool QC           0.029275\n",
       "Utilities         0.026404\n",
       "BsmtFin Type 2   -0.022096\n",
       "Overall Cond     -0.097019\n",
       "Functional       -0.126927\n",
       "Fence            -0.159060\n",
       "Mo Sold                NaN\n",
       "Name: SalePrice, dtype: float64"
      ]
     },
     "execution_count": 15,
     "metadata": {},
     "output_type": "execute_result"
    }
   ],
   "source": [
    "# list by r to SalePrice in train\n",
    "df[df['dataset']==0].corr().loc['SalePrice', ordinal_x].sort_values(ascending=False)"
   ]
  },
  {
   "cell_type": "markdown",
   "metadata": {},
   "source": [
    "<div class='alert alert-success'>\n",
    "Use this graphic to explain binarizing\n",
    "</div>"
   ]
  },
  {
   "cell_type": "code",
   "execution_count": 16,
   "metadata": {},
   "outputs": [
    {
     "data": {
      "image/png": "[encoded data removed]",
      "text/plain": [
       "<Figure size 432x288 with 1 Axes>"
      ]
     },
     "metadata": {
      "needs_background": "light"
     },
     "output_type": "display_data"
    }
   ],
   "source": [
    "plt.scatter(df[df['dataset']==0]['Overall Cond'], df[df['dataset']==0]['SalePrice']);"
   ]
  },
  {
   "cell_type": "code",
   "execution_count": 17,
   "metadata": {},
   "outputs": [],
   "source": [
    "# binarize 'Electrical', 'Paved Drive', 'BsmtFin Type 2' and 'Overall Cond'\n",
    "df['Electrical'] = [1 if x == 4 else 0 for x in df['Electrical']]         # has SBrkr or not(else)\n",
    "df['Paved Drive'] = [1 if x == 3 else 0 for x in df['Paved Drive']]        # has paved drive or not(Partial/No)\n",
    "df['Overall Cond'] = [1 if x >= 5 else 0 for x in df['Overall Cond']]    # >=5 overall cond or <5 \n",
    "df['BsmtFin Type 2'] = [1 if x == 3 else 0 for x in df['BsmtFin Type 2']] # has BsFin T2 or not(None/Unf)\n",
    "\n",
    "# drop columns with >99% values in one category\n",
    "df.drop(columns=['Pool QC', 'Utilities',], inplace=True)"
   ]
  },
  {
   "cell_type": "markdown",
   "metadata": {},
   "source": [
    "Some ordinals lend themselves better than others to encoding:"
   ]
  },
  {
   "cell_type": "code",
   "execution_count": 18,
   "metadata": {},
   "outputs": [],
   "source": [
    "# treat as categorical and ordinal:\n",
    "cat_plus_ord = ['Overall Qual', 'Exter Qual', 'Kitchen Qual', 'Heating QC', 'Bsmt Qual',\n",
    "                 'Fence', 'Overall Cond', 'Garage Finish', 'Fireplace Qu', 'Garage Qual']\n",
    "for x in cat_plus_ord:\n",
    "    df[x+'_ord'] = df[x]        # store encoded ordinal scale\n",
    "    df[x] = df[x].astype('str') # revert orig to str for dummies"
   ]
  },
  {
   "cell_type": "code",
   "execution_count": 19,
   "metadata": {},
   "outputs": [],
   "source": [
    "# treat as categorical only:\n",
    "cat_only = ['Bsmt Exposure', 'BsmtFin Type 1', 'BsmtFin Type 2', 'Lot Shape', 'Exter Cond', \n",
    "            'Land Slope', 'Bsmt Qual', 'Overall Cond', 'Functional', 'Paved Drive', 'Bsmt Cond',\n",
    "            'Garage Cond', ]\n",
    "for x in cat_only:\n",
    "    df[x] = df[x].astype('str') # revert to str for dummies"
   ]
  },
  {
   "cell_type": "markdown",
   "metadata": {},
   "source": [
    "#### Log transform key ordinals"
   ]
  },
  {
   "cell_type": "code",
   "execution_count": 20,
   "metadata": {},
   "outputs": [
    {
     "name": "stdout",
     "output_type": "stream",
     "text": [
      "Log transformed Fence_ord\n",
      "Log transformed Garage Qual_ord\n",
      "Log transformed Garage Finish_ord\n",
      "Log transformed Heating QC_ord\n",
      "Log transformed Fireplace Qu_ord\n"
     ]
    }
   ],
   "source": [
    "x_to_log =  ['Fence', 'Garage Qual', 'Garage Finish', 'Heating QC', 'Fireplace Qu', ]\n",
    "for x in x_to_log:\n",
    "    x+='_ord'                             # get ordinal (numeric) version of x\n",
    "    df[x+'_log'] = (df[x]+1).apply(np.log)  # log transform\n",
    "    print('Log transformed', x)           # print success"
   ]
  },
  {
   "cell_type": "code",
   "execution_count": 21,
   "metadata": {},
   "outputs": [],
   "source": [
    "# exploiting seasonality | credit to https://jackdry.com/house-prices-advanced-regression-techniques-kaggle\n",
    "#df['sin_Mo Sold'] = np.sin(2 * np.pi * df[\"Mo Sold\"] / 12)\n",
    "#df['cos_Mo Sold'] = np.cos(2 * np.pi * df[\"Mo Sold\"] / 12)\n",
    "#df = df.drop(\"Mo Sold\", axis=1)"
   ]
  },
  {
   "cell_type": "markdown",
   "metadata": {},
   "source": [
    "---\n",
    "### c) Nominal"
   ]
  },
  {
   "cell_type": "code",
   "execution_count": 22,
   "metadata": {},
   "outputs": [],
   "source": [
    "nominal_x = ['MS SubClass', 'Street', 'Alley', 'Land Contour', 'Lot Config', 'MS Zoning',\n",
    "             'Neighborhood', 'House Style', 'Condition 1', 'Condition 2','Bldg Type',\n",
    "             'House Style', 'Roof Style', 'Roof Matl', 'Exterior 1st', 'Exterior 2nd',\n",
    "             'Mas Vnr Type', 'Foundation', 'Heating', 'Bsmt Full Bath', 'Bsmt Half Bath',\n",
    "             'Full Bath', 'Half Bath', 'Bedroom AbvGr', 'Kitchen AbvGr', 'Fireplaces',\n",
    "             'Garage Type', 'Garage Cars', 'Sale Type', 'Lot Config',\n",
    "             'Central Air',  'Misc Feature',]\n",
    "\n",
    "# create total bath column (sum baths)\n",
    "df['Total Bath'] = df['Bsmt Full Bath'] + df['Full Bath'] + .5*(df['Bsmt Half Bath'] + df['Half Bath'])\n",
    "\n"
   ]
  },
  {
   "cell_type": "code",
   "execution_count": 23,
   "metadata": {},
   "outputs": [],
   "source": [
    "# binarize a few nominals: \n",
    "df['Heating'] = [1 if x == 'GasA' else 0 for x in df['Heating']]            # has GasA type heating?\n",
    "df['Misc Feature'] = [1 if x == 'Shed' else 0 for x in df['Misc Feature']]  # has shed?\n",
    "df['Bsmt Half Bath'] = [1 if x > 0 else 0 for x in df['Bsmt Half Bath']]    # has bsmt half bath?\n",
    "\n"
   ]
  },
  {
   "cell_type": "code",
   "execution_count": 24,
   "metadata": {},
   "outputs": [],
   "source": [
    "## treat these as categorical:\n",
    "cat_only = ['MS SubClass', 'Street', 'Alley', 'Lot Config', 'MS Zoning', 'Neighborhood',\n",
    "                'House Style', 'Condition 1',  'Condition 2', 'Bldg Type', 'House Style',\n",
    "                'Roof Style', 'Roof Matl', 'Exterior 1st', 'Exterior 2nd', 'Mas Vnr Type',\n",
    "                'Foundation', 'Bsmt Half Bath', 'Kitchen AbvGr', 'Heating', 'Misc Feature',\n",
    "                'Garage Type', 'Sale Type', 'Land Contour', 'Central Air']\n",
    "# str for dummy\n",
    "df[cat_only] = df[cat_only].astype('str')"
   ]
  },
  {
   "cell_type": "code",
   "execution_count": 25,
   "metadata": {},
   "outputs": [],
   "source": [
    "## treat these as categorical AND numerical:\n",
    "cat_plus_nom = ['Full Bath', 'Half Bath', 'Bsmt Full Bath', 'Total Bath',\n",
    "                'Bedroom AbvGr', 'Fireplaces', 'Garage Cars' ] \n",
    "# str for dummy\n",
    "for x in cat_plus_nom:\n",
    "    df[x+'_cat'] = df[x].astype('str')"
   ]
  },
  {
   "cell_type": "markdown",
   "metadata": {},
   "source": [
    "#### Log transform key nominals"
   ]
  },
  {
   "cell_type": "code",
   "execution_count": 26,
   "metadata": {},
   "outputs": [
    {
     "name": "stdout",
     "output_type": "stream",
     "text": [
      "Log transformed Full Bath\n",
      "Log transformed Half Bath\n",
      "Log transformed Bsmt Full Bath\n",
      "Log transformed Total Bath\n",
      "Log transformed Fireplaces\n",
      "Log transformed Garage Cars\n"
     ]
    }
   ],
   "source": [
    "x_to_log = ['Full Bath', 'Half Bath', 'Bsmt Full Bath', 'Total Bath', 'Fireplaces', 'Garage Cars']\n",
    "for x in x_to_log:\n",
    "    df[x+'_log'] = (df[x]+1).apply(np.log)  # log transform\n",
    "    print('Log transformed', x)           # print success"
   ]
  },
  {
   "cell_type": "markdown",
   "metadata": {},
   "source": [
    "Dummies for big zeros"
   ]
  },
  {
   "cell_type": "code",
   "execution_count": 27,
   "metadata": {},
   "outputs": [],
   "source": [
    "# (big zero dummies)\n",
    "dummify_zeros = ['Mas Vnr Area', 'Total Bsmt SF', '2nd Flr SF', 'Garage Area', 'Wood Deck SF', 'Open Porch SF',]"
   ]
  },
  {
   "cell_type": "markdown",
   "metadata": {},
   "source": [
    "remove outliers from:\n",
    " def   'Garage Yr Blt',>2050\n",
    " def   'Lot Frontage'>175,\n",
    " def   'Lot Area'>100000,\n",
    "    'BsmtFin SF 1',>3000\n",
    "    'Total Bsmt SF'> 4000\n",
    "    '1st Flr SF',>3000\n",
    "    'Gr Liv Area',>4000\n",
    "    'TotRms AbvGrd*dropem!',\n",
    "    'Wood Deck SF',>1000\n",
    "    \n",
    "    "
   ]
  },
  {
   "cell_type": "markdown",
   "metadata": {},
   "source": [
    "<div class='alert alert-warning'>\n",
    "    ### Feature interactions\n",
    "</div>"
   ]
  },
  {
   "cell_type": "markdown",
   "metadata": {},
   "source": [
    "df['Total SF*Overall Qual'] = df['Total SF']*df['Overall Qual']\n",
    "df['Garage Cars*Overall Qual'] = df['Garage Cars']*df['Overall Qual']\n",
    "df['Total Bsmt SF*Overall Qual'] = df['Total Bsmt SF']*df['Overall Qual']\n",
    "df['1st Flr SF*Overall Qual'] = df['1st Flr SF']*df['Overall Qual']\n",
    "df['Year Built*Overall Qual'] = df['Year Built']*df['Overall Qual']\n",
    "df['Full Bath*Overall Qual'] = df['Full Bath']*df['Overall Qual']\n",
    "df['Garage Area*Overall Qual'] = df['Garage Area']*df['Overall Qual']\n",
    "df['Fireplaces*Overall Qual'] = df['Fireplaces']*df['Overall Qual']\n",
    "\n",
    "df['Gr Liv Area*Garage Cars'] = df['Gr Liv Area']*df['Garage Cars']\n",
    "df['Full Bath*Garage Cars'] = df['Gr Liv Area']*df['Garage Cars']\n",
    "\n",
    "#kitchen qual times number of kitchens\n",
    "#aka __ qual of thing * __ total n of thing\n",
    "\n",
    "#log any of these?\n",
    "\n"
   ]
  },
  {
   "cell_type": "code",
   "execution_count": 28,
   "metadata": {},
   "outputs": [],
   "source": [
    "# exploiting seasonality | credit to https://jackdry.com/house-prices-advanced-regression-techniques-kaggle\n",
    "#df[\"SinMoSold\"] = np.sin(2 * np.pi * df[\"Mo Sold\"] / 12)\n",
    "#df[\"CosMoSold\"] = np.cos(2 * np.pi * df[\"Mo Sold\"] / 12)\n",
    "#df = df.drop(\"Mo Sold\", axis=1)"
   ]
  },
  {
   "cell_type": "markdown",
   "metadata": {},
   "source": [
    "### Get Dummies"
   ]
  },
  {
   "cell_type": "code",
   "execution_count": 29,
   "metadata": {},
   "outputs": [
    {
     "data": {
      "text/plain": [
       "(2929, 356)"
      ]
     },
     "execution_count": 29,
     "metadata": {},
     "output_type": "execute_result"
    }
   ],
   "source": [
    "df = pd.get_dummies(df, drop_first=True)\n",
    "df.shape"
   ]
  },
  {
   "cell_type": "markdown",
   "metadata": {},
   "source": [
    "### Recover train and test"
   ]
  },
  {
   "cell_type": "code",
   "execution_count": 31,
   "metadata": {},
   "outputs": [
    {
     "name": "stderr",
     "output_type": "stream",
     "text": [
      "/Users/jfitz/opt/anaconda3/lib/python3.7/site-packages/pandas/core/frame.py:4117: SettingWithCopyWarning: \n",
      "A value is trying to be set on a copy of a slice from a DataFrame\n",
      "\n",
      "See the caveats in the documentation: http://pandas.pydata.org/pandas-docs/stable/user_guide/indexing.html#returning-a-view-versus-a-copy\n",
      "  errors=errors,\n"
     ]
    }
   ],
   "source": [
    "# define train X and y\n",
    "X_train = df[df['dataset'] == 0]\n",
    "y_train = X_train['SalePrice']\n",
    "X_train.drop(columns='dataset', inplace=True)\n",
    "X_train.drop(columns='SalePrice', inplace=True)\n",
    "\n",
    "# define test X\n",
    "X_test = df[df['dataset'] == 1]\n",
    "X_test.drop(columns='dataset', inplace=True)\n",
    "X_test.drop(columns='SalePrice', inplace=True)"
   ]
  },
  {
   "cell_type": "markdown",
   "metadata": {},
   "source": [
    "---\n",
    "# Modeling"
   ]
  },
  {
   "cell_type": "code",
   "execution_count": 30,
   "metadata": {},
   "outputs": [],
   "source": [
    "from sklearn.linear_model import Lasso, Ridge, RidgeCV"
   ]
  },
  {
   "cell_type": "markdown",
   "metadata": {},
   "source": [
    "### Evaluating on t/t split"
   ]
  },
  {
   "cell_type": "code",
   "execution_count": 32,
   "metadata": {},
   "outputs": [],
   "source": [
    "Xs_train, Xs_test, ys_train, ys_test = train_test_split(X_train, y_train, random_state=3)"
   ]
  },
  {
   "cell_type": "markdown",
   "metadata": {},
   "source": [
    "#### MLR"
   ]
  },
  {
   "cell_type": "code",
   "execution_count": 33,
   "metadata": {},
   "outputs": [
    {
     "data": {
      "text/plain": [
       "(0.9553122579329079, 0.5199437075822144)"
      ]
     },
     "execution_count": 33,
     "metadata": {},
     "output_type": "execute_result"
    }
   ],
   "source": [
    "ols = LinearRegression()\n",
    "ols.fit(Xs_train, ys_train)\n",
    "ols.score(Xs_train, ys_train), ols.score(Xs_test, ys_test)"
   ]
  },
  {
   "cell_type": "markdown",
   "metadata": {},
   "source": [
    "#### Ridge"
   ]
  },
  {
   "cell_type": "code",
   "execution_count": 34,
   "metadata": {},
   "outputs": [],
   "source": [
    "# scale\n",
    "from sklearn.preprocessing import StandardScaler\n",
    "ss = StandardScaler()\n",
    "Z_train = ss.fit_transform(X_train)\n",
    "Z_test = ss.transform(X_test)\n",
    "# re-t/t split\n",
    "Zs_train, Zs_test, ys_train, ys_test = train_test_split(Z_train, y_train, random_state=117)"
   ]
  },
  {
   "cell_type": "code",
   "execution_count": null,
   "metadata": {},
   "outputs": [],
   "source": []
  },
  {
   "cell_type": "code",
   "execution_count": 35,
   "metadata": {},
   "outputs": [
    {
     "name": "stdout",
     "output_type": "stream",
     "text": [
      "\n",
      "seed = 0\n",
      "alpha=0 | train: 0.9325860870973393 | test: -4.321847809456503e+27\n",
      "alpha=100 | train: 0.9406984851658583 | test: 0.8958306355368784\n",
      "alpha=200 | train: 0.9376065449983806 | test: 0.8948189725972755\n",
      "alpha=300 | train: 0.9349224359016097 | test: 0.8932322937574116\n",
      "alpha=400 | train: 0.9324858835527674 | test: 0.8915643615722183\n",
      "alpha=500 | train: 0.9302332520419287 | test: 0.8899357686292958\n",
      "alpha=600 | train: 0.9281276380559857 | test: 0.8883800479550683\n",
      "alpha=700 | train: 0.9261439532717708 | test: 0.8869036884071666\n",
      "alpha=800 | train: 0.9242636936309918 | test: 0.8855038890138042\n",
      "alpha=900 | train: 0.9224725417554338 | test: 0.8841747568010833\n",
      "alpha=1000 | train: 0.9207590669987487 | test: 0.8829096592206784\n",
      "alpha=1100 | train: 0.9191139377761394 | test: 0.8817021372050129\n",
      "alpha=1200 | train: 0.9175294065193288 | test: 0.880546239497595\n",
      "alpha=1300 | train: 0.9159989541770495 | test: 0.879436615783048\n",
      "alpha=1400 | train: 0.9145170348573887 | test: 0.8783685095094733\n",
      "\n",
      "seed = 2\n",
      "alpha=0 | train: 0.9469601913834375 | test: -3.835008789525398e+27\n",
      "alpha=100 | train: 0.9492072273470926 | test: 0.45348766118775113\n",
      "alpha=200 | train: 0.9466670196208042 | test: 0.5663124395301727\n",
      "alpha=300 | train: 0.9446565887950715 | test: 0.6186652180063508\n",
      "alpha=400 | train: 0.9428873958324416 | test: 0.6502653520768611\n",
      "alpha=500 | train: 0.941257611181032 | test: 0.6719906607808128\n",
      "alpha=600 | train: 0.9397206566351581 | test: 0.6881237554906732\n",
      "alpha=700 | train: 0.9382514513471684 | test: 0.7007262303723774\n",
      "alpha=800 | train: 0.936834871519517 | test: 0.7109276410819576\n",
      "alpha=900 | train: 0.9354610055018154 | test: 0.7194055669647809\n",
      "alpha=1000 | train: 0.9341229312376049 | test: 0.7265946340628522\n",
      "alpha=1100 | train: 0.9328155683006673 | test: 0.7327883810161836\n",
      "alpha=1200 | train: 0.9315350378382762 | test: 0.7381933333214903\n",
      "alpha=1300 | train: 0.9302782829492938 | test: 0.7429597035676275\n",
      "alpha=1400 | train: 0.9290428316939096 | test: 0.7471997934228696\n",
      "\n",
      "seed = 4\n",
      "alpha=0 | train: 0.944200905004291 | test: -5.030322932225673e+26\n",
      "alpha=100 | train: 0.9524327844987565 | test: 0.42314704365789796\n",
      "alpha=200 | train: 0.9501459604255378 | test: 0.5248521514627364\n",
      "alpha=300 | train: 0.9483021056098675 | test: 0.5741753008818552\n",
      "alpha=400 | train: 0.9466620411335478 | test: 0.6045332157963283\n",
      "alpha=500 | train: 0.9451448538718374 | test: 0.6256227796916582\n",
      "alpha=600 | train: 0.9437130021776993 | test: 0.6413894019541699\n",
      "alpha=700 | train: 0.9423455354848564 | test: 0.65377110406872\n",
      "alpha=800 | train: 0.9410292540823227 | test: 0.6638433232282815\n",
      "alpha=900 | train: 0.9397551124145596 | test: 0.6722563141405246\n",
      "alpha=1000 | train: 0.9385165272085186 | test: 0.6794291499942454\n",
      "alpha=1100 | train: 0.9373084905777505 | test: 0.6856455710321994\n",
      "alpha=1200 | train: 0.9361270641920469 | test: 0.6911053896792854\n",
      "alpha=1300 | train: 0.9349690706530398 | test: 0.6959539016213054\n",
      "alpha=1400 | train: 0.9338318945581878 | test: 0.7002996172011496\n",
      "\n",
      "seed = 6\n",
      "alpha=0 | train: 0.932545315790284 | test: -2.948541820340165e+27\n",
      "alpha=100 | train: 0.9415039515635516 | test: 0.8757419989836364\n",
      "alpha=200 | train: 0.9384809396822958 | test: 0.8772849876910055\n",
      "alpha=300 | train: 0.9358614713122165 | test: 0.8768322739199871\n",
      "alpha=400 | train: 0.9335057147147447 | test: 0.8757108920444899\n",
      "alpha=500 | train: 0.9313472266285034 | test: 0.8743584683221177\n",
      "alpha=600 | train: 0.9293438100974921 | test: 0.8729436863773478\n",
      "alpha=700 | train: 0.9274660566471794 | test: 0.8715362965018398\n",
      "alpha=800 | train: 0.9256924365721872 | test: 0.8701652980198253\n",
      "alpha=900 | train: 0.9240066409878882 | test: 0.8688416890483636\n",
      "alpha=1000 | train: 0.9223959834955565 | test: 0.8675682065076731\n",
      "alpha=1100 | train: 0.9208503791297826 | test: 0.8663437717677983\n",
      "alpha=1200 | train: 0.9193616638870143 | test: 0.8651656112299302\n",
      "alpha=1300 | train: 0.9179231259123947 | test: 0.8640302950965308\n",
      "alpha=1400 | train: 0.9165291734434702 | test: 0.8629342502729587\n",
      "\n",
      "seed = 8\n",
      "alpha=0 | train: 0.9410208806635102 | test: -5.904873124610443e+27\n",
      "alpha=100 | train: 0.9393072942786473 | test: 0.8999021373965386\n",
      "alpha=200 | train: 0.9361663219902219 | test: 0.8988908128231515\n",
      "alpha=300 | train: 0.9336292644421351 | test: 0.8970450575233055\n",
      "alpha=400 | train: 0.9313858419456552 | test: 0.8951686121511057\n",
      "alpha=500 | train: 0.9293348898993786 | test: 0.8933770168866568\n",
      "alpha=600 | train: 0.927424805531416 | test: 0.8916844247604278\n",
      "alpha=700 | train: 0.9256240526876202 | test: 0.890083419066285\n",
      "alpha=800 | train: 0.9239114425001609 | test: 0.8885625061602985\n",
      "alpha=900 | train: 0.9222718710697934 | test: 0.8871105935954688\n",
      "alpha=1000 | train: 0.9206941154408113 | test: 0.8857180536367311\n",
      "alpha=1100 | train: 0.9191695690104221 | test: 0.8843768075824205\n",
      "alpha=1200 | train: 0.9176914627222761 | test: 0.883080142205974\n",
      "alpha=1300 | train: 0.9162543601132626 | test: 0.8818224789365599\n",
      "alpha=1400 | train: 0.9148538167436994 | test: 0.8805991622404439\n",
      "\n",
      "seed = 10\n",
      "alpha=0 | train: 0.9449722903704536 | test: -1.7973696739107447e+27\n",
      "alpha=100 | train: 0.9517889138555938 | test: 0.5076856906375182\n",
      "alpha=200 | train: 0.9493331728439153 | test: 0.5981697180822542\n",
      "alpha=300 | train: 0.9473095860678601 | test: 0.6419361997874061\n",
      "alpha=400 | train: 0.9455029067390163 | test: 0.6687151488152301\n",
      "alpha=500 | train: 0.9438315216316767 | test: 0.6871848523353924\n",
      "alpha=600 | train: 0.9422550760603389 | test: 0.7008844751126373\n",
      "alpha=700 | train: 0.9407503355644056 | test: 0.7115533500764242\n",
      "alpha=800 | train: 0.9393025095574447 | test: 0.720156226583204\n",
      "alpha=900 | train: 0.9379014819473133 | test: 0.7272759249100822\n",
      "alpha=1000 | train: 0.9365399504339332 | test: 0.7332876904365168\n",
      "alpha=1100 | train: 0.9352124186978921 | test: 0.7384453589486089\n",
      "alpha=1200 | train: 0.9339146102974877 | test: 0.7429275530743201\n",
      "alpha=1300 | train: 0.9326431078992724 | test: 0.7468640939149492\n",
      "alpha=1400 | train: 0.9313951205878018 | test: 0.7503519086516695\n",
      "\n",
      "seed = 12\n",
      "alpha=0 | train: 0.9466696631658419 | test: -1.385435593267951e+27\n",
      "alpha=100 | train: 0.9403593466455766 | test: 0.8939262778091479\n",
      "alpha=200 | train: 0.9373990557552284 | test: 0.8914200520674795\n",
      "alpha=300 | train: 0.9349668659940006 | test: 0.8892111203656874\n",
      "alpha=400 | train: 0.932788137052343 | test: 0.8873282697893838\n",
      "alpha=500 | train: 0.9307746299432256 | test: 0.885672704914985\n",
      "alpha=600 | train: 0.9288828450088111 | test: 0.8841744157397206\n",
      "alpha=700 | train: 0.9270867590025875 | test: 0.8827883248085362\n",
      "alpha=800 | train: 0.9253690360228692 | test: 0.8814850949948189\n",
      "alpha=900 | train: 0.9237173126232122 | test: 0.8802450823080837\n",
      "alpha=1000 | train: 0.9221223429417081 | test: 0.8790547207281877\n",
      "alpha=1100 | train: 0.9205769639304433 | test: 0.8779043599543845\n",
      "alpha=1200 | train: 0.9190754711025491 | test: 0.8767869441842581\n",
      "alpha=1300 | train: 0.9176132194468815 | test: 0.8756971834143017\n",
      "alpha=1400 | train: 0.9161863565993554 | test: 0.8746310198382583\n",
      "\n",
      "seed = 14\n",
      "alpha=0 | train: 0.9270345332277413 | test: -1.8751488063193018e+28\n",
      "alpha=100 | train: 0.9415910037359196 | test: 0.8891933997815786\n",
      "alpha=200 | train: 0.9387809733986601 | test: 0.8865865294206479\n",
      "alpha=300 | train: 0.936346135425943 | test: 0.883910600740662\n",
      "alpha=400 | train: 0.9341382243157437 | test: 0.8814521445240496\n",
      "alpha=500 | train: 0.9320932138324495 | test: 0.8792258890146037\n",
      "alpha=600 | train: 0.9301751128158016 | test: 0.8772038528148124\n",
      "alpha=700 | train: 0.9283605310404264 | test: 0.8753543602421812\n",
      "alpha=800 | train: 0.9266328716792421 | test: 0.8736496812628024\n",
      "alpha=900 | train: 0.9249796721613172 | test: 0.8720669535547092\n",
      "alpha=1000 | train: 0.9233912041971714 | test: 0.8705876022051796\n",
      "alpha=1100 | train: 0.9218596575761993 | test: 0.8691965316462472\n",
      "alpha=1200 | train: 0.9203786269525128 | test: 0.8678814024781392\n",
      "alpha=1300 | train: 0.9189427702276888 | test: 0.8666320491111589\n",
      "alpha=1400 | train: 0.9175475709568511 | test: 0.8654400266379974\n",
      "\n",
      "seed = 16\n",
      "alpha=0 | train: 0.9508347315771095 | test: -9.226361518590326e+27\n",
      "alpha=100 | train: 0.9521631818618993 | test: 0.4975152375925842\n",
      "alpha=200 | train: 0.9498627525057272 | test: 0.5854789304480609\n",
      "alpha=300 | train: 0.9479865838470533 | test: 0.6281573934139565\n"
     ]
    },
    {
     "name": "stdout",
     "output_type": "stream",
     "text": [
      "alpha=400 | train: 0.9463125363542066 | test: 0.6544398408610679\n",
      "alpha=500 | train: 0.9447576687789849 | test: 0.6727279124569583\n",
      "alpha=600 | train: 0.9432829219996569 | test: 0.6864238519192234\n",
      "alpha=700 | train: 0.9418670534226773 | test: 0.6971925876834422\n",
      "alpha=800 | train: 0.9404972449675302 | test: 0.7059564079442817\n",
      "alpha=900 | train: 0.9391651170907467 | test: 0.7132730302629086\n",
      "alpha=1000 | train: 0.9378648312117267 | test: 0.7195024532019758\n",
      "alpha=1100 | train: 0.9365921041163275 | test: 0.7248890625408878\n",
      "alpha=1200 | train: 0.9353436592675177 | test: 0.729605540947081\n",
      "alpha=1300 | train: 0.9341169033594674 | test: 0.7337779466435008\n",
      "alpha=1400 | train: 0.932909726177679 | test: 0.7375008210683767\n",
      "\n",
      "seed = 18\n",
      "alpha=0 | train: 0.9213142787002273 | test: -9.821254180407019e+25\n",
      "alpha=100 | train: 0.9405276357647161 | test: 0.8971906224698302\n",
      "alpha=200 | train: 0.9377496319169438 | test: 0.89456287657571\n",
      "alpha=300 | train: 0.9352566981032994 | test: 0.8920058084799685\n",
      "alpha=400 | train: 0.9329689720654243 | test: 0.8896350650053995\n",
      "alpha=500 | train: 0.9308457679284916 | test: 0.8874657235071866\n",
      "alpha=600 | train: 0.9288585266916837 | test: 0.88548493190008\n",
      "alpha=700 | train: 0.9269855828894763 | test: 0.8836725052408883\n",
      "alpha=800 | train: 0.9252099753431153 | test: 0.8820077630065823\n",
      "alpha=900 | train: 0.9235181638565612 | test: 0.8804717690207007\n",
      "alpha=1000 | train: 0.921899173815316 | test: 0.8790479088209932\n",
      "alpha=1100 | train: 0.9203439941240295 | test: 0.8777218596110569\n",
      "alpha=1200 | train: 0.9188451407785341 | test: 0.8764813556732591\n",
      "alpha=1300 | train: 0.9173963340313724 | test: 0.8753159062923268\n",
      "alpha=1400 | train: 0.9159922556730974 | test: 0.8742165257137086\n",
      "\n",
      "seed = 20\n",
      "alpha=0 | train: 0.9337669155327569 | test: -3.2605968820323546e+27\n",
      "alpha=100 | train: 0.9392479501438991 | test: 0.9130101678641671\n",
      "alpha=200 | train: 0.9364917181984319 | test: 0.9120724920796919\n",
      "alpha=300 | train: 0.9339739529599325 | test: 0.9109722340859112\n",
      "alpha=400 | train: 0.9316170866303359 | test: 0.9097808109564774\n",
      "alpha=500 | train: 0.9293909754701501 | test: 0.9085479650539219\n",
      "alpha=600 | train: 0.9272752720625633 | test: 0.9072989351856705\n",
      "alpha=700 | train: 0.9252544513865941 | test: 0.9060463545516241\n",
      "alpha=800 | train: 0.9233162477060074 | test: 0.9047966176731995\n",
      "alpha=900 | train: 0.9214507930574583 | test: 0.9035529731914049\n",
      "alpha=1000 | train: 0.9196500321271389 | test: 0.9023170423072091\n",
      "alpha=1100 | train: 0.9179073006189921 | test: 0.9010895852443572\n",
      "alpha=1200 | train: 0.9162170153456239 | test: 0.8998708993588507\n",
      "alpha=1300 | train: 0.9145744438172144 | test: 0.8986610312374304\n",
      "alpha=1400 | train: 0.9129755311639277 | test: 0.8974598920968669\n",
      "\n",
      "seed = 22\n",
      "alpha=0 | train: 0.9376563263362152 | test: -6.526980221663107e+27\n",
      "alpha=100 | train: 0.9427531402083537 | test: 0.8765236674060654\n",
      "alpha=200 | train: 0.9397319585477095 | test: 0.8762094865023141\n",
      "alpha=300 | train: 0.9373021821563651 | test: 0.875530620260301\n",
      "alpha=400 | train: 0.9351445093898307 | test: 0.8749480976889925\n",
      "alpha=500 | train: 0.9331590082491165 | test: 0.8744606398594044\n",
      "alpha=600 | train: 0.9312971682605312 | test: 0.8740382001469258\n",
      "alpha=700 | train: 0.9295304270971226 | test: 0.8736568760088137\n",
      "alpha=800 | train: 0.927840099535976 | test: 0.8733002731037915\n",
      "alpha=900 | train: 0.9262131202957044 | test: 0.8729574459066654\n",
      "alpha=1000 | train: 0.9246399156854888 | test: 0.8726210954468102\n",
      "alpha=1100 | train: 0.9231132168277882 | test: 0.8722863334740714\n",
      "alpha=1200 | train: 0.9216273459935599 | test: 0.8719498752543478\n",
      "alpha=1300 | train: 0.9201777630789355 | test: 0.8716095147645603\n",
      "alpha=1400 | train: 0.9187607649272407 | test: 0.871263780430535\n",
      "\n",
      "seed = 24\n",
      "alpha=0 | train: 0.9303635388985209 | test: -3.1714720066550616e+27\n",
      "alpha=100 | train: 0.9363761368119959 | test: 0.9231205173247943\n",
      "alpha=200 | train: 0.9335020530002792 | test: 0.9242104155638909\n",
      "alpha=300 | train: 0.9309641737700106 | test: 0.9247374927577338\n",
      "alpha=400 | train: 0.9286081092265768 | test: 0.9249837261807284\n",
      "alpha=500 | train: 0.926384373581712 | test: 0.9250529777675291\n",
      "alpha=600 | train: 0.9242670785276251 | test: 0.9249983712250587\n",
      "alpha=700 | train: 0.922239445278151 | test: 0.9248511341302906\n",
      "alpha=800 | train: 0.92028939458325 | test: 0.9246313188065135\n",
      "alpha=900 | train: 0.9184076988011018 | test: 0.9243526799458431\n",
      "alpha=1000 | train: 0.9165870325052696 | test: 0.9240251550881571\n",
      "alpha=1100 | train: 0.9148214174649688 | test: 0.9236562273292664\n",
      "alpha=1200 | train: 0.9131058699684101 | test: 0.9232517210960599\n",
      "alpha=1300 | train: 0.9114361636912092 | test: 0.9228162914541098\n",
      "alpha=1400 | train: 0.9098086636098163 | test: 0.9223537388165886\n",
      "\n",
      "seed = 26\n",
      "alpha=0 | train: 0.9355754316880971 | test: -4.325583854814878e+27\n",
      "alpha=100 | train: 0.9381883329465003 | test: 0.9199705382468937\n",
      "alpha=200 | train: 0.9350536297437518 | test: 0.9209210043638458\n",
      "alpha=300 | train: 0.9323391183043019 | test: 0.9209699237949139\n",
      "alpha=400 | train: 0.9298550054138427 | test: 0.920690165606962\n",
      "alpha=500 | train: 0.9275356644649008 | test: 0.9202450084884428\n",
      "alpha=600 | train: 0.9253459041575164 | test: 0.9197019321438937\n",
      "alpha=700 | train: 0.9232630578500957 | test: 0.9190944977960102\n",
      "alpha=800 | train: 0.9212710732457683 | test: 0.918441582450283\n",
      "alpha=900 | train: 0.9193579066533595 | test: 0.9177548232203999\n",
      "alpha=1000 | train: 0.9175141584267856 | test: 0.9170419260179921\n",
      "alpha=1100 | train: 0.9157322755875635 | test: 0.9163082909955446\n",
      "alpha=1200 | train: 0.9140060498654494 | test: 0.9155578764665843\n",
      "alpha=1300 | train: 0.9123302842722075 | test: 0.9147936890353617\n",
      "alpha=1400 | train: 0.9107005623838638 | test: 0.9140180776528356\n",
      "\n",
      "seed = 28\n",
      "alpha=0 | train: 0.9411228662048238 | test: -9.364843790352207e+27\n",
      "alpha=100 | train: 0.9435722894396018 | test: 0.8937868050899038\n",
      "alpha=200 | train: 0.9405440234094988 | test: 0.8943151267654\n",
      "alpha=300 | train: 0.937923987885611 | test: 0.894026327360235\n",
      "alpha=400 | train: 0.9355238744681089 | test: 0.8934831009721813\n",
      "alpha=500 | train: 0.9332775370738607 | test: 0.8928201186799753\n",
      "alpha=600 | train: 0.9311506561083235 | test: 0.892088604356268\n",
      "alpha=700 | train: 0.929121788190237 | test: 0.8913133120465274\n",
      "alpha=800 | train: 0.9271760579736414 | test: 0.8905080756496934\n",
      "alpha=900 | train: 0.9253024480220952 | test: 0.8896814080884955\n",
      "alpha=1000 | train: 0.9234924264152615 | test: 0.8888389161551156\n",
      "alpha=1100 | train: 0.9217391687839418 | test: 0.8879844828278036\n",
      "alpha=1200 | train: 0.9200370802576033 | test: 0.8871209029370131\n",
      "alpha=1300 | train: 0.9183814835982691 | test: 0.8862502503027326\n",
      "alpha=1400 | train: 0.916768406199111 | test: 0.885374102084698\n"
     ]
    }
   ],
   "source": [
    "for seed in range(0, 30, 2):\n",
    "    print(f'\\nseed = {seed}')\n",
    "    for a in range(0, 1500, 100):\n",
    "        Zs_train, Zs_test, ys_train, ys_test = train_test_split(Z_train, y_train, random_state=seed)\n",
    "        ridge = Ridge(alpha=a)\n",
    "        ridge.fit(Zs_train, ys_train)\n",
    "        train_score = ridge.score(Zs_train, ys_train)\n",
    "        test_score = ridge.score(Zs_test, ys_test)\n",
    "        print(f'alpha={a} | train: {train_score} | test: {test_score}')"
   ]
  },
  {
   "cell_type": "code",
   "execution_count": 45,
   "metadata": {},
   "outputs": [
    {
     "data": {
      "image/png": "[encoded data removed]",
      "text/plain": [
       "<Figure size 1152x576 with 1 Axes>"
      ]
     },
     "metadata": {
      "needs_background": "light"
     },
     "output_type": "display_data"
    }
   ],
   "source": [
    "plt.figure(figsize=(16,8))\n",
    "for seed in np.random.randint(0, 500, 20):\n",
    "    x = []\n",
    "    y = []\n",
    "    for a in range(1, 200, 2):\n",
    "        x.append(a)\n",
    "        Zs_train, Zs_test, ys_train, ys_test = train_test_split(Z_train, y_train, random_state=seed)\n",
    "        ridge = Ridge(alpha=a)\n",
    "        ridge.fit(Zs_train, ys_train)\n",
    "        test_score = ridge.score(Zs_test, ys_test)\n",
    "        y.append(test_score)\n",
    "    plt.plot(x, y,\n",
    "             #marker='.',\n",
    "             label=seed)\n",
    "    #plt.axvline(x[y.index(max(y))])\n",
    "plt.ylim([.75, 1])\n",
    "plt.ylabel('test r**2')\n",
    "plt.xlabel('alpha')\n",
    "plt.legend(loc='upper right', title='t-t r split seed');"
   ]
  },
  {
   "cell_type": "code",
   "execution_count": 307,
   "metadata": {},
   "outputs": [
    {
     "data": {
      "text/plain": [
       "(0.9443716307443103, 0.8996207499257911)"
      ]
     },
     "execution_count": 307,
     "metadata": {},
     "output_type": "execute_result"
    }
   ],
   "source": [
    "# custom alpha (t/t rs=3 for really bad)\n",
    "ridge = Ridge(alpha=3)\n",
    "ridge.fit(Zs_train, ys_train)\n",
    "ridge.score(Zs_train, ys_train), ridge.score(Zs_test, ys_test)"
   ]
  },
  {
   "cell_type": "code",
   "execution_count": 308,
   "metadata": {},
   "outputs": [
    {
     "data": {
      "text/plain": [
       "(0.9163639204250474, 0.8801788986043769)"
      ]
     },
     "execution_count": 308,
     "metadata": {},
     "output_type": "execute_result"
    }
   ],
   "source": [
    "# alpha search\n",
    "ridge_alphas = np.logspace(3,3.3,100)\n",
    "ridge_cv = RidgeCV(alphas=ridge_alphas, scoring='r2', cv=5)\n",
    "ridge_cv.fit(Zs_train, ys_train)\n",
    "ridge_cv.score(Zs_train, ys_train), ridge_cv.score(Zs_test, ys_test)"
   ]
  },
  {
   "cell_type": "code",
   "execution_count": 310,
   "metadata": {},
   "outputs": [
    {
     "data": {
      "text/plain": [
       "1224.2744550784755"
      ]
     },
     "execution_count": 310,
     "metadata": {},
     "output_type": "execute_result"
    }
   ],
   "source": [
    "ridge_cv.alpha_"
   ]
  },
  {
   "cell_type": "code",
   "execution_count": null,
   "metadata": {},
   "outputs": [],
   "source": []
  },
  {
   "cell_type": "code",
   "execution_count": 311,
   "metadata": {},
   "outputs": [
    {
     "data": {
      "text/plain": [
       "107.22672220103232"
      ]
     },
     "execution_count": 311,
     "metadata": {},
     "output_type": "execute_result"
    }
   ],
   "source": [
    "ridge_alphas = np.logspace(1,4,100)\n",
    "ridge_cv = RidgeCV(alphas=ridge_alphas, scoring='r2', cv=5)\n",
    "ridge_cv.fit(Z_train, y_train)\n",
    "ridge_cv.alpha_"
   ]
  },
  {
   "cell_type": "code",
   "execution_count": 303,
   "metadata": {},
   "outputs": [
    {
     "data": {
      "text/plain": [
       "0.9371513162039374"
      ]
     },
     "execution_count": 303,
     "metadata": {},
     "output_type": "execute_result"
    }
   ],
   "source": [
    "ridge_cv.score(Z_train, y_train)"
   ]
  },
  {
   "cell_type": "markdown",
   "metadata": {},
   "source": [
    "write a function to run model with range of hyperparameters:\n",
    "    - t/t split 'random_state'\n",
    "    - ridge 'alpha'\n",
    "    - ridge_cv 'cv'"
   ]
  },
  {
   "cell_type": "code",
   "execution_count": null,
   "metadata": {},
   "outputs": [],
   "source": []
  },
  {
   "cell_type": "code",
   "execution_count": 312,
   "metadata": {},
   "outputs": [
    {
     "data": {
      "text/plain": [
       "107.22672220103232"
      ]
     },
     "execution_count": 312,
     "metadata": {},
     "output_type": "execute_result"
    }
   ],
   "source": [
    "ridge_cv.fit(Z_train, y_train)\n",
    "ridge_cv.alpha_"
   ]
  },
  {
   "cell_type": "code",
   "execution_count": 117,
   "metadata": {},
   "outputs": [],
   "source": [
    "y_pred = ridge_cv.predict(X_test)"
   ]
  },
  {
   "cell_type": "code",
   "execution_count": 118,
   "metadata": {},
   "outputs": [
    {
     "data": {
      "text/html": [
       "<div>\n",
       "<style scoped>\n",
       "    .dataframe tbody tr th:only-of-type {\n",
       "        vertical-align: middle;\n",
       "    }\n",
       "\n",
       "    .dataframe tbody tr th {\n",
       "        vertical-align: top;\n",
       "    }\n",
       "\n",
       "    .dataframe thead th {\n",
       "        text-align: right;\n",
       "    }\n",
       "</style>\n",
       "<table border=\"1\" class=\"dataframe\">\n",
       "  <thead>\n",
       "    <tr style=\"text-align: right;\">\n",
       "      <th></th>\n",
       "      <th>Id</th>\n",
       "      <th>SalePrice</th>\n",
       "    </tr>\n",
       "  </thead>\n",
       "  <tbody>\n",
       "    <tr>\n",
       "      <th>0</th>\n",
       "      <td>2658</td>\n",
       "      <td>-1.874728e+15</td>\n",
       "    </tr>\n",
       "    <tr>\n",
       "      <th>1</th>\n",
       "      <td>2718</td>\n",
       "      <td>9.050481e+07</td>\n",
       "    </tr>\n",
       "    <tr>\n",
       "      <th>2</th>\n",
       "      <td>2414</td>\n",
       "      <td>-1.260027e+14</td>\n",
       "    </tr>\n",
       "    <tr>\n",
       "      <th>3</th>\n",
       "      <td>1989</td>\n",
       "      <td>-1.042461e+15</td>\n",
       "    </tr>\n",
       "    <tr>\n",
       "      <th>4</th>\n",
       "      <td>625</td>\n",
       "      <td>-3.283818e+15</td>\n",
       "    </tr>\n",
       "  </tbody>\n",
       "</table>\n",
       "</div>"
      ],
      "text/plain": [
       "     Id     SalePrice\n",
       "0  2658 -1.874728e+15\n",
       "1  2718  9.050481e+07\n",
       "2  2414 -1.260027e+14\n",
       "3  1989 -1.042461e+15\n",
       "4   625 -3.283818e+15"
      ]
     },
     "execution_count": 118,
     "metadata": {},
     "output_type": "execute_result"
    }
   ],
   "source": [
    "# create output df\n",
    "output = pd.DataFrame( {'Id': X_test['Id']} )\n",
    "output['SalePrice'] = y_pred\n",
    "\n",
    "output.head()"
   ]
  },
  {
   "cell_type": "code",
   "execution_count": 1704,
   "metadata": {},
   "outputs": [],
   "source": [
    "# output.to_csv('submissions/submission_32.csv', index=False)"
   ]
  },
  {
   "cell_type": "code",
   "execution_count": null,
   "metadata": {},
   "outputs": [],
   "source": []
  }
 ],
 "metadata": {
  "kernelspec": {
   "display_name": "Python 3",
   "language": "python",
   "name": "python3"
  },
  "language_info": {
   "codemirror_mode": {
    "name": "ipython",
    "version": 3
   },
   "file_extension": ".py",
   "mimetype": "text/x-python",
   "name": "python",
   "nbconvert_exporter": "python",
   "pygments_lexer": "ipython3",
   "version": "3.7.4"
  }
 },
 "nbformat": 4,
 "nbformat_minor": 2
}
