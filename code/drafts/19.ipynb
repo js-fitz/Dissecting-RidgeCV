{
 "cells": [
  {
   "cell_type": "markdown",
   "metadata": {},
   "source": [
    "### Import libraries & data"
   ]
  },
  {
   "cell_type": "code",
   "execution_count": 1,
   "metadata": {},
   "outputs": [],
   "source": [
    "# import libraries\n",
    "import math\n",
    "import numpy as np\n",
    "import pandas as pd\n",
    "import seaborn as sns\n",
    "import matplotlib.pyplot as plt\n",
    "from IPython.display import display, HTML\n",
    "from sklearn.linear_model import LinearRegression\n",
    "from sklearn.model_selection import train_test_split, cross_val_score\n",
    "from sklearn.preprocessing import PolynomialFeatures"
   ]
  },
  {
   "cell_type": "code",
   "execution_count": 2,
   "metadata": {},
   "outputs": [
    {
     "data": {
      "text/plain": [
       "((2051, 80), (878, 79))"
      ]
     },
     "execution_count": 2,
     "metadata": {},
     "output_type": "execute_result"
    }
   ],
   "source": [
    "# read test and train data, print shapes\n",
    "test = pd.read_csv('datasets/test.csv', index_col=0)\n",
    "train = pd.read_csv('datasets/train.csv', index_col=0)\n",
    "train.shape, test.shape"
   ]
  },
  {
   "cell_type": "code",
   "execution_count": 3,
   "metadata": {},
   "outputs": [],
   "source": [
    "test['SalePrice'] = np.nan      # align test data with empty SalePrice column\n",
    "train['dataset'] = 0            # ID train data with dataset col = 0\n",
    "test['dataset'] = 1             # ID test data with dataset col = 0\n",
    "df = pd.concat([test, train])   # concatenate"
   ]
  },
  {
   "cell_type": "markdown",
   "metadata": {},
   "source": [
    "### Fill missing values"
   ]
  },
  {
   "cell_type": "code",
   "execution_count": 4,
   "metadata": {},
   "outputs": [],
   "source": [
    "# iterate through columns will Na values\n",
    "for col in [c for c in df.columns if df[c].isna().sum() > 0]:\n",
    "    if df[col].dtype == 'object':\n",
    "        df[col] = df[col].fillna(\"None\")  # fill na with 'none' in object columns\n",
    "    else:\n",
    "        df[col] = df[col].fillna(0)       # fill na with 0 in numerical columns"
   ]
  },
  {
   "cell_type": "markdown",
   "metadata": {},
   "source": [
    "### Encode ordinal categories"
   ]
  },
  {
   "cell_type": "code",
   "execution_count": 5,
   "metadata": {},
   "outputs": [],
   "source": [
    "# map over ordinals with standard scale:\n",
    "standard_mapper =  {'Ex': 5, 'Gd': 4, 'TA': 3, 'Fa': 2, 'Po': 1, 'None':0}\n",
    "standard_cols = ['Exter Qual', 'Exter Cond', 'Bsmt Cond', 'Bsmt Qual',\n",
    "               'Heating QC', 'Kitchen Qual', 'Fireplace Qu', 'Garage Qual',\n",
    "               'Garage Cond', 'Pool QC']\n",
    "for col in standard_cols:\n",
    "    df[col] = df[col].replace(standard_mapper).astype('float')"
   ]
  },
  {
   "cell_type": "code",
   "execution_count": 6,
   "metadata": {},
   "outputs": [],
   "source": [
    "# map over basement ordinals:\n",
    "bsmtft_mapper =  { 'None': 0, 'Unf': 1, 'LwQ': 2, 'Rec': 3, 'BLQ': 4, 'ALQ': 5, 'GLQ': 6, }\n",
    "bsmt_fincols = ['BsmtFin Type 1', 'BsmtFin Type 2']\n",
    "for col in bsmt_fincols:\n",
    "    df[col] = df[col].replace(bsmtft_mapper).astype('float')"
   ]
  },
  {
   "cell_type": "code",
   "execution_count": 7,
   "metadata": {},
   "outputs": [],
   "source": [
    "# map over ordinals with unique scales:\n",
    "other_mapper = {\n",
    "    'Lot Shape': { 'None': 0, 'Reg': 0, 'IR1': 1, 'IR2': 2, 'IR3': 3, },\n",
    "    'Utilities': { 'AllPub': 4, 'NoSewr': 3, 'NoSeWa': 2, 'ELO': 1, 'None': 0, },\n",
    "    'Land Slope': { 'None': 0, 'Gtl': 0, 'Mod': 1, 'Sev': 2, },\n",
    "    'Bsmt Exposure': { 'Gd': 5, 'Av': 3, 'Mn': 2, 'No': 0, 'None': 0, },\n",
    "    'Electrical': { 'SBrkr': 4, 'FuseA': 3, 'FuseF': 2, 'FuseP': 1, 'Mix': 4, 'None': 0, },\n",
    "    'Functional': { 'None': 0, 'Typ': 0, 'Min1': 2, 'Min2': 3, 'Mod': 4, 'Maj1': 6, 'Maj2': 7, 'Sev': 8, 'Sal': 10, },\n",
    "    'Garage Finish': { 'Fin': 3, 'RFn': 2, 'Unf': 1, 'None': 0, },\n",
    "    'Paved Drive': { 'Y': 3, 'P': 2, 'N': 1, 'None': 0, },\n",
    "    'Fence': { 'GdPrv': 4, 'MnPrv': 3, 'GdWo': 2, 'MnWw': 1, 'None': 0, },}\n",
    "for col, mapper in other_mapper.items():\n",
    "    df[col] = df[col].replace(mapper).astype('float')"
   ]
  },
  {
   "cell_type": "markdown",
   "metadata": {},
   "source": [
    "#### Also convert ordinals to objects :\n",
    "(so they get dummied)"
   ]
  },
  {
   "cell_type": "code",
   "execution_count": 8,
   "metadata": {},
   "outputs": [
    {
     "data": {
      "text/plain": [
       "['BsmtFin Type 1',\n",
       " 'BsmtFin Type 2',\n",
       " 'Exter Qual',\n",
       " 'Exter Cond',\n",
       " 'Bsmt Cond',\n",
       " 'Bsmt Qual',\n",
       " 'Heating QC',\n",
       " 'Kitchen Qual',\n",
       " 'Fireplace Qu',\n",
       " 'Garage Qual',\n",
       " 'Garage Cond',\n",
       " 'Pool QC',\n",
       " 'Lot Shape',\n",
       " 'Utilities',\n",
       " 'Land Slope',\n",
       " 'Bsmt Exposure',\n",
       " 'Electrical',\n",
       " 'Functional',\n",
       " 'Garage Finish',\n",
       " 'Paved Drive',\n",
       " 'Fence']"
      ]
     },
     "execution_count": 8,
     "metadata": {},
     "output_type": "execute_result"
    }
   ],
   "source": [
    "ordinals = bsmt_fincols + standard_cols + [k for k in other_mapper.keys()] # list ordinals\n",
    "df[[col+'_num' for col in ordinals]] = df[ordinals] # save numericals in new _num cols\n",
    "df[ordinals] = df[ordinals].astype('str') # revert original to string to catch get_dummies\n",
    "ordinals"
   ]
  },
  {
   "cell_type": "markdown",
   "metadata": {},
   "source": [
    "### A few custom features"
   ]
  },
  {
   "cell_type": "code",
   "execution_count": 9,
   "metadata": {},
   "outputs": [],
   "source": [
    "# total porch\n",
    "porches = [col for col in df.columns if 'porch' in col.lower()]\n",
    "df['Total Porch'] = 0\n",
    "for col in porches:\n",
    "    df['porch_sum'] = df['Total Porch'] + df[col]"
   ]
  },
  {
   "cell_type": "code",
   "execution_count": 10,
   "metadata": {},
   "outputs": [],
   "source": [
    "# total SF\n",
    "df['Total SF'] = df['Gr Liv Area'] + df['Total Bsmt SF'] + df['Total Porch'] + df['Garage Area']"
   ]
  },
  {
   "cell_type": "code",
   "execution_count": 11,
   "metadata": {},
   "outputs": [],
   "source": [
    "# total baths\n",
    "df['total baths'] = df['Bsmt Full Bath'] + df['Full Bath'] + 2*df['Bsmt Half Bath'] + 2*df['Half Bath']"
   ]
  },
  {
   "cell_type": "code",
   "execution_count": 12,
   "metadata": {},
   "outputs": [],
   "source": [
    "# avg room size\n",
    "\n",
    "df['avgroomsize'] = df['Total SF'] = df['TotRms AbvGrd']"
   ]
  },
  {
   "cell_type": "markdown",
   "metadata": {},
   "source": [
    "### Feature interactions"
   ]
  },
  {
   "cell_type": "code",
   "execution_count": 13,
   "metadata": {},
   "outputs": [],
   "source": [
    "# BE INTELLIGENT HERE\n",
    "\n",
    "df['Total SF*Overall Qual'] = df['Total SF']*df['Overall Qual']\n",
    "df['Garage Cars*Overall Qual'] = df['Garage Cars']*df['Overall Qual']\n",
    "df['Total Bsmt SF*Overall Qual'] = df['Total Bsmt SF']*df['Overall Qual']\n",
    "df['1st Flr SF*Overall Qual'] = df['1st Flr SF']*df['Overall Qual']\n",
    "df['Year Built*Overall Qual'] = df['Year Built']*df['Overall Qual']\n",
    "df['Full Bath*Overall Qual'] = df['Full Bath']*df['Overall Qual']\n",
    "df['Garage Area*Overall Qual'] = df['Garage Area']*df['Overall Qual']\n",
    "df['Fireplaces*Overall Qual'] = df['Fireplaces']*df['Overall Qual']\n",
    "\n",
    "df['Gr Liv Area*Garage Cars'] = df['Gr Liv Area']*df['Garage Cars']\n",
    "df['Full Bath*Garage Cars'] = df['Gr Liv Area']*df['Garage Cars']\n",
    "\n"
   ]
  },
  {
   "cell_type": "markdown",
   "metadata": {},
   "source": [
    "### Convert specific numericals to categorical\n",
    "(and save numeric versions)"
   ]
  },
  {
   "cell_type": "code",
   "execution_count": 14,
   "metadata": {},
   "outputs": [],
   "source": [
    "# We want these numerical features to get dummified\n",
    "categoricals = ['Yr Sold', 'MS SubClass', 'Overall Qual', 'Overall Cond', 'Full Bath', 'Half Bath',\n",
    " 'Bedroom AbvGr', 'Kitchen AbvGr', 'TotRms AbvGrd', 'Fireplaces', 'Garage Type']\n",
    "df[[col+'_num' for col in categoricals]] = df[categoricals]\n",
    "df[categoricals] = df[categoricals].astype('str')"
   ]
  },
  {
   "cell_type": "code",
   "execution_count": 15,
   "metadata": {},
   "outputs": [],
   "source": [
    "# exploiting seasonality | credit to https://jackdry.com/house-prices-advanced-regression-techniques-kaggle\n",
    "df[\"SinMoSold\"] = np.sin(2 * np.pi * df[\"Mo Sold\"] / 12)\n",
    "df[\"CosMoSold\"] = np.cos(2 * np.pi * df[\"Mo Sold\"] / 12)\n",
    "df = df.drop(\"Mo Sold\", axis=1)"
   ]
  },
  {
   "cell_type": "markdown",
   "metadata": {},
   "source": [
    "### Dummies for big zeros"
   ]
  },
  {
   "cell_type": "code",
   "execution_count": 16,
   "metadata": {},
   "outputs": [
    {
     "name": "stdout",
     "output_type": "stream",
     "text": [
      "28 columns have zeros.\n"
     ]
    }
   ],
   "source": [
    "zeros = [col for col in df.columns if\n",
    "         len(df[df[col] == 0]) > 0 and '_' not in col and 'Price' not in col]\n",
    "zeros.remove('dataset')\n",
    "print('{} columns have zeros.'.format(len(zeros)))"
   ]
  },
  {
   "cell_type": "code",
   "execution_count": 17,
   "metadata": {},
   "outputs": [],
   "source": [
    "# create dummy columns to identify zero values \n",
    "for col in zeros :   \n",
    "    df[col+'_is_zero'] = np.where(df[col] == 0, 1, 0)"
   ]
  },
  {
   "cell_type": "code",
   "execution_count": null,
   "metadata": {},
   "outputs": [],
   "source": []
  },
  {
   "cell_type": "code",
   "execution_count": null,
   "metadata": {},
   "outputs": [],
   "source": [
    "from sklearn.preprocessing import PolynomialFeatures"
   ]
  },
  {
   "cell_type": "markdown",
   "metadata": {},
   "source": [
    "### Get Dummies"
   ]
  },
  {
   "cell_type": "code",
   "execution_count": 18,
   "metadata": {},
   "outputs": [],
   "source": [
    "df = pd.get_dummies(df, drop_first=True)"
   ]
  },
  {
   "cell_type": "markdown",
   "metadata": {},
   "source": [
    "### Log transform key X variables"
   ]
  },
  {
   "cell_type": "code",
   "execution_count": null,
   "metadata": {},
   "outputs": [],
   "source": []
  },
  {
   "cell_type": "code",
   "execution_count": 19,
   "metadata": {},
   "outputs": [],
   "source": [
    "x_to_log = [ 'Lot Area', 'Year Built', 'Year Remod/Add', 'Total SF', 'Gr Liv Area',\n",
    "            '1st Flr SF', 'Total SF*Overall Qual', 'total baths', ]\n",
    "for target in x_to_log:\n",
    "    df[target] = df[target].apply(np.log)\n"
   ]
  },
  {
   "cell_type": "code",
   "execution_count": null,
   "metadata": {},
   "outputs": [],
   "source": []
  },
  {
   "cell_type": "markdown",
   "metadata": {},
   "source": [
    "---\n",
    "# Modeling"
   ]
  },
  {
   "cell_type": "markdown",
   "metadata": {},
   "source": [
    "### Recover train and test"
   ]
  },
  {
   "cell_type": "code",
   "execution_count": 20,
   "metadata": {},
   "outputs": [
    {
     "name": "stderr",
     "output_type": "stream",
     "text": [
      "/Users/jfitz/opt/anaconda3/lib/python3.7/site-packages/pandas/core/frame.py:4117: SettingWithCopyWarning: \n",
      "A value is trying to be set on a copy of a slice from a DataFrame\n",
      "\n",
      "See the caveats in the documentation: http://pandas.pydata.org/pandas-docs/stable/user_guide/indexing.html#returning-a-view-versus-a-copy\n",
      "  errors=errors,\n"
     ]
    }
   ],
   "source": [
    "X_train = df[df['dataset'] == 0]\n",
    "X_test = df[df['dataset'] == 1]\n",
    "X_train.drop(columns='dataset', inplace=True)\n",
    "X_test.drop(columns='dataset', inplace=True)"
   ]
  },
  {
   "cell_type": "code",
   "execution_count": 21,
   "metadata": {},
   "outputs": [],
   "source": [
    "y_train = X_train['SalePrice']\n",
    "X_train = X_train[X_train._get_numeric_data().drop(columns='SalePrice').columns]\n",
    "X_test = X_test[X_test._get_numeric_data().drop(columns='SalePrice').columns]"
   ]
  },
  {
   "cell_type": "markdown",
   "metadata": {},
   "source": [
    "#### Log transform"
   ]
  },
  {
   "cell_type": "code",
   "execution_count": 47,
   "metadata": {},
   "outputs": [],
   "source": [
    "y_train_log = y_train.apply(np.log)"
   ]
  },
  {
   "cell_type": "code",
   "execution_count": 48,
   "metadata": {},
   "outputs": [],
   "source": [
    "X_train.fillna(0, inplace=True)\n",
    "X_test.fillna(0, inplace=True)"
   ]
  },
  {
   "cell_type": "code",
   "execution_count": 49,
   "metadata": {},
   "outputs": [
    {
     "data": {
      "text/plain": [
       "0.8097674114163282"
      ]
     },
     "execution_count": 49,
     "metadata": {},
     "output_type": "execute_result"
    }
   ],
   "source": [
    "model = LinearRegression()\n",
    "model_log = LinearRegression()\n",
    "cross_val_score(model, X_train, y_train_log, cv=5).mean()"
   ]
  },
  {
   "cell_type": "code",
   "execution_count": 50,
   "metadata": {},
   "outputs": [
    {
     "data": {
      "text/plain": [
       "LinearRegression(copy_X=True, fit_intercept=True, n_jobs=None, normalize=False)"
      ]
     },
     "execution_count": 50,
     "metadata": {},
     "output_type": "execute_result"
    }
   ],
   "source": [
    "model.fit(X_train, y_train_log)\n",
    "model_log.fit(X_train, y_train_log)"
   ]
  },
  {
   "cell_type": "code",
   "execution_count": 51,
   "metadata": {},
   "outputs": [],
   "source": [
    "model.fit(X_train, y_train_log)\n",
    "y_pred_log = np.exp(model.predict(X_train))"
   ]
  },
  {
   "cell_type": "code",
   "execution_count": 52,
   "metadata": {},
   "outputs": [],
   "source": [
    "resids = y_train - y_pred\n",
    "resids = y_train - y_pred"
   ]
  },
  {
   "cell_type": "code",
   "execution_count": 53,
   "metadata": {},
   "outputs": [
    {
     "data": {
      "text/plain": [
       "<matplotlib.axes._subplots.AxesSubplot at 0x1a213538d0>"
      ]
     },
     "execution_count": 53,
     "metadata": {},
     "output_type": "execute_result"
    },
    {
     "data": {
      "image/png": "[encoded data removed]",
      "text/plain": [
       "<Figure size 432x288 with 1 Axes>"
      ]
     },
     "metadata": {
      "needs_background": "light"
     },
     "output_type": "display_data"
    }
   ],
   "source": [
    "sns.residplot(y_pred, y_train)"
   ]
  },
  {
   "cell_type": "code",
   "execution_count": 54,
   "metadata": {},
   "outputs": [
    {
     "data": {
      "text/plain": [
       "<matplotlib.axes._subplots.AxesSubplot at 0x1a21b976d0>"
      ]
     },
     "execution_count": 54,
     "metadata": {},
     "output_type": "execute_result"
    },
    {
     "data": {
      "image/png": "[encoded data removed]",
      "text/plain": [
       "<Figure size 432x288 with 1 Axes>"
      ]
     },
     "metadata": {
      "needs_background": "light"
     },
     "output_type": "display_data"
    }
   ],
   "source": [
    "sns.residplot(y_pred, resids)"
   ]
  },
  {
   "cell_type": "code",
   "execution_count": 55,
   "metadata": {},
   "outputs": [],
   "source": [
    "X_test.reset_index(inplace=True)"
   ]
  },
  {
   "cell_type": "code",
   "execution_count": null,
   "metadata": {},
   "outputs": [],
   "source": [
    "# create output df\n",
    "output = pd.DataFrame( {'Id': X_test['Id']} )\n",
    "output['SalePrice'] = y_pred\n",
    "\n",
    "output.head()"
   ]
  },
  {
   "cell_type": "code",
   "execution_count": null,
   "metadata": {},
   "outputs": [],
   "source": [
    "#output.to_csv('submissions/submission_30.csv', index=False)"
   ]
  }
 ],
 "metadata": {
  "kernelspec": {
   "display_name": "Python 3",
   "language": "python",
   "name": "python3"
  },
  "language_info": {
   "codemirror_mode": {
    "name": "ipython",
    "version": 3
   },
   "file_extension": ".py",
   "mimetype": "text/x-python",
   "name": "python",
   "nbconvert_exporter": "python",
   "pygments_lexer": "ipython3",
   "version": "3.7.4"
  }
 },
 "nbformat": 4,
 "nbformat_minor": 2
}
