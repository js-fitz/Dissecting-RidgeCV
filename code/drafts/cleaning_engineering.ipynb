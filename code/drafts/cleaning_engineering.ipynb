{
 "cells": [
  {
   "cell_type": "markdown",
   "metadata": {},
   "source": [
    "### Import libraries & data"
   ]
  },
  {
   "cell_type": "code",
   "execution_count": 2,
   "metadata": {},
   "outputs": [],
   "source": [
    "import math\n",
    "import numpy as np\n",
    "import pandas as pd\n",
    "import seaborn as sns\n",
    "import matplotlib.pyplot as plt\n",
    "from IPython.display import display, HTML\n",
    "from sklearn.linear_model import LinearRegression\n",
    "from sklearn.model_selection import train_test_split, cross_val_score\n",
    "from sklearn.preprocessing import PolynomialFeatures"
   ]
  },
  {
   "cell_type": "code",
   "execution_count": 3,
   "metadata": {},
   "outputs": [
    {
     "data": {
      "text/plain": [
       "((2051, 80), (878, 79))"
      ]
     },
     "execution_count": 3,
     "metadata": {},
     "output_type": "execute_result"
    }
   ],
   "source": [
    "test = pd.read_csv('datasets/test.csv', index_col=0)\n",
    "train = pd.read_csv('datasets/train.csv', index_col=0)\n",
    "train.shape, test.shape"
   ]
  },
  {
   "cell_type": "code",
   "execution_count": 4,
   "metadata": {},
   "outputs": [],
   "source": [
    "test['SalePrice'] = np.nan      # create empty SalePrice column in test\n",
    "train['dataset'] = 0            # id train data with dataset col = 0\n",
    "test['dataset'] = 1             # id test data with dataset col = 0\n",
    "df = pd.concat([test, train])   # concatenate\n",
    "df.reset_index(inplace=True)    # get 'Id' col"
   ]
  },
  {
   "cell_type": "code",
   "execution_count": 5,
   "metadata": {},
   "outputs": [],
   "source": [
    "df.drop(columns='PID', inplace=True)"
   ]
  },
  {
   "cell_type": "markdown",
   "metadata": {},
   "source": [
    "#### Impute missing values"
   ]
  },
  {
   "cell_type": "markdown",
   "metadata": {},
   "source": [
    "<div class=\"alert alert-warning\">\n",
    "Consider being more specific here . . .\n",
    "</div>"
   ]
  },
  {
   "cell_type": "code",
   "execution_count": 6,
   "metadata": {},
   "outputs": [],
   "source": [
    "# iterate through columns with Na values\n",
    "for col in [c for c in df.columns if df[c].isna().sum() > 0]:\n",
    "    if 'Garage Yr' in col:\n",
    "        df[col] = df[col].fillna(df['Year Built'])   # 'Year Built' for na in 'Garage Yr'\n",
    "    elif df[col].dtype == 'object':\n",
    "        df[col] = df[col].fillna(\"None\")             # 'none' for na in object columns\n",
    "    else:\n",
    "        df[col] = df[col].fillna(0)                  # 0 for na in numerical columns"
   ]
  },
  {
   "cell_type": "markdown",
   "metadata": {},
   "source": [
    "---\n",
    "## Cleaning & engineering"
   ]
  },
  {
   "cell_type": "markdown",
   "metadata": {},
   "source": [
    "### A) Continuous features"
   ]
  },
  {
   "cell_type": "code",
   "execution_count": 7,
   "metadata": {},
   "outputs": [],
   "source": [
    "continuous_x = ['Lot Frontage', 'Lot Area', 'Year Built', 'Year Remod/Add',\n",
    "                'BsmtFin SF 1', 'BsmtFin SF 2', 'Bsmt Unf SF', 'Total Bsmt SF',\n",
    "                'Mas Vnr Area', '1st Flr SF', '2nd Flr SF', 'Pool Area',\n",
    "                'Low Qual Fin SF', 'Screen Porch', 'Gr Liv Area', 'Garage Yr Blt',\n",
    "                'Garage Area', 'Wood Deck SF', 'Open Porch SF', 'Enclosed Porch',\n",
    "                '3Ssn Porch', 'Misc Val', 'TotRms AbvGrd', 'Yr Sold', 'Mo Sold']"
   ]
  },
  {
   "cell_type": "code",
   "execution_count": 8,
   "metadata": {},
   "outputs": [
    {
     "data": {
      "text/plain": [
       "Gr Liv Area        0.697038\n",
       "Garage Area        0.650270\n",
       "Total Bsmt SF      0.628925\n",
       "1st Flr SF         0.618486\n",
       "Year Built         0.571849\n",
       "Year Remod/Add     0.550370\n",
       "Garage Yr Blt      0.533922\n",
       "Mas Vnr Area       0.512230\n",
       "TotRms AbvGrd      0.504014\n",
       "BsmtFin SF 1       0.423519\n",
       "Lot Frontage       0.341842\n",
       "Open Porch SF      0.333476\n",
       "Wood Deck SF       0.326490\n",
       "Lot Area           0.296566\n",
       "2nd Flr SF         0.248452\n",
       "Bsmt Unf SF        0.190210\n",
       "Screen Porch       0.134581\n",
       "3Ssn Porch         0.048732\n",
       "Mo Sold            0.032735\n",
       "Pool Area          0.023106\n",
       "BsmtFin SF 2       0.016255\n",
       "Misc Val          -0.007375\n",
       "Yr Sold           -0.015203\n",
       "Low Qual Fin SF   -0.041594\n",
       "Enclosed Porch    -0.135656\n",
       "Name: SalePrice, dtype: float64"
      ]
     },
     "execution_count": 8,
     "metadata": {},
     "output_type": "execute_result"
    }
   ],
   "source": [
    "# list by r to SalePrice in train\n",
    "train.corr().loc['SalePrice', continuous_x].sort_values(ascending=False)"
   ]
  },
  {
   "cell_type": "markdown",
   "metadata": {},
   "source": [
    "#### Dealing with weaker columns"
   ]
  },
  {
   "cell_type": "code",
   "execution_count": 9,
   "metadata": {},
   "outputs": [],
   "source": [
    "# make year and month sold categorical\n",
    "df[['Yr Sold', 'Mo Sold']] = df[['Yr Sold', 'Mo Sold']].astype('str')\n",
    "\n",
    "# dummy zeros in 'Pool Area', BsmtFin SF 2', 'Bsmt Unf SF' & 'Low Qual Fin SF'\n",
    "df['has_Pool'] = [1 if x >0 else 0 for x in df['Pool Area']]\n",
    "df['has_BsFn2'] = [1 if x >0 else 0 for x in df['BsmtFin SF 2']]\n",
    "df['has_BsUnf'] = [1 if x >0 else 0 for x in df['Bsmt Unf SF']]\n",
    "df['has_LoQuFin'] = [1 if x > 0 else 0 for x in df['Low Qual Fin SF']]\n",
    "\n",
    "# interact and sum porches\n",
    "df['Total Porch'] = df['Open Porch SF']+df['Enclosed Porch']+df['3Ssn Porch']+df['Screen Porch']\n",
    "df['Porch_inter'] = df['Open Porch SF']*df['Enclosed Porch']*df['3Ssn Porch']*df['Screen Porch']\n",
    "\n",
    "# interact and sum SF\n",
    "df['Total SF'] = df['Gr Liv Area'] + df['Total Bsmt SF'] + df['Total Porch'] + df['Garage Area']\n",
    "df['SF_inter'] = df['Gr Liv Area']*df['Total Bsmt SF']*df['Total Porch']*df['Garage Area']\n",
    "\n",
    "# dummy zeros in weaker porches \n",
    "df['has_EncPo'] = [1 if x > 0 else 0 for x in df['Enclosed Porch']]\n",
    "df['has_ScrPo'] = [1 if x > 0 else 0 for x in df['Screen Porch']]\n",
    "df['has_3SsPo'] = [1 if x > 0 else 0 for x in df['3Ssn Porch']]\n",
    "\n",
    "# drop remaining variables with abs(r)<.2 to target\n",
    "df.drop(columns=['Bsmt Unf SF', 'BsmtFin SF 2', 'Low Qual Fin SF',\n",
    "                 'Screen Porch', '3Ssn Porch', 'Enclosed Porch',\n",
    "                 'Pool Area', 'Misc Val', ], inplace=True)  # (** totally dropping misc val? **)"
   ]
  },
  {
   "cell_type": "code",
   "execution_count": 10,
   "metadata": {},
   "outputs": [
    {
     "name": "stdout",
     "output_type": "stream",
     "text": [
      "Dropping 2207.0...\n"
     ]
    }
   ],
   "source": [
    "# replace typo with mean in Garage Yr Blt\n",
    "print(f\"Dropping {df['Garage Yr Blt'].max()}...\")\n",
    "df['Garage Yr Blt'].replace(df['Garage Yr Blt'].max(), df['Garage Yr Blt'].mean(), inplace=True)"
   ]
  },
  {
   "cell_type": "markdown",
   "metadata": {},
   "source": [
    "#### Log transform key continous x variables"
   ]
  },
  {
   "cell_type": "code",
   "execution_count": 11,
   "metadata": {},
   "outputs": [
    {
     "name": "stdout",
     "output_type": "stream",
     "text": [
      "Log transformed Lot Area\n",
      "Log transformed Lot Frontage\n",
      "Log transformed Gr Liv Area\n",
      "Log transformed BsmtFin SF 1\n",
      "Log transformed Total Bsmt SF\n",
      "Log transformed 1st Flr SF\n",
      "Log transformed Total Porch\n",
      "Log transformed Open Porch SF\n",
      "Log transformed Wood Deck SF\n",
      "Log transformed Mas Vnr Area\n",
      "Log transformed TotRms AbvGrd\n"
     ]
    }
   ],
   "source": [
    "x_to_log = ['Lot Area', 'Lot Frontage',  'Gr Liv Area',\n",
    "            'BsmtFin SF 1', 'Total Bsmt SF', '1st Flr SF',\n",
    "            'Total Porch', 'Open Porch SF', 'Wood Deck SF',\n",
    "            'Mas Vnr Area', 'TotRms AbvGrd', ]\n",
    "for x in x_to_log:\n",
    "    df[x+'_log'] = (df[x]+1).apply(np.log)\n",
    "    print('Log transformed', x)"
   ]
  },
  {
   "cell_type": "markdown",
   "metadata": {},
   "source": [
    "---\n",
    "### B) Ordinal Features"
   ]
  },
  {
   "cell_type": "code",
   "execution_count": 12,
   "metadata": {},
   "outputs": [],
   "source": [
    "ordinal_x = ['BsmtFin Type 1', 'BsmtFin Type 2', 'Exter Qual', 'Exter Cond', 'Bsmt Cond', \n",
    "             'Bsmt Qual', 'Heating QC', 'Kitchen Qual', 'Fireplace Qu', 'Garage Qual',\n",
    "             'Garage Cond', 'Pool QC', 'Lot Shape', 'Utilities', 'Land Slope', 'Bsmt Exposure',\n",
    "             'Electrical', 'Functional', 'Garage Finish', 'Paved Drive', 'Fence', 'Overall Qual',\n",
    "             'Overall Cond', 'Mo Sold', ]"
   ]
  },
  {
   "cell_type": "markdown",
   "metadata": {},
   "source": [
    "Before getting r to Saleprice, ordinals must be encoded:"
   ]
  },
  {
   "cell_type": "code",
   "execution_count": 13,
   "metadata": {},
   "outputs": [],
   "source": [
    "# standard ordinal scale:\n",
    "standard_mapper =  {'Ex': 5, 'Gd': 4, 'TA': 3, 'Fa': 2, 'Po': 1, 'None':0}\n",
    "standard_cols = ['Exter Qual', 'Exter Cond', 'Bsmt Cond', 'Bsmt Qual',\n",
    "               'Heating QC', 'Kitchen Qual', 'Fireplace Qu', 'Garage Qual',\n",
    "               'Garage Cond', 'Pool QC']\n",
    "for col in standard_cols:\n",
    "    df[col] = df[col].replace(standard_mapper).astype('float')"
   ]
  },
  {
   "cell_type": "code",
   "execution_count": 14,
   "metadata": {},
   "outputs": [],
   "source": [
    "# basement ordinals:\n",
    "bsmt_mapper =  { 'None': 0, 'Unf': 0, 'LwQ': 2, 'Rec': 3, 'BLQ': 4, 'ALQ': 5, 'GLQ': 6, }\n",
    "bsmt_cols = ['BsmtFin Type 1', 'BsmtFin Type 2']\n",
    "for col in bsmt_cols:\n",
    "    df[col] = df[col].replace(bsmt_mapper).astype('float')"
   ]
  },
  {
   "cell_type": "code",
   "execution_count": 15,
   "metadata": {},
   "outputs": [],
   "source": [
    "# unique ordinals:\n",
    "unique_ords = {\n",
    "    'Lot Shape': { 'None': 0, 'Reg': 0, 'IR1': 1, 'IR2': 2, 'IR3': 3, },\n",
    "    'Utilities': { 'AllPub': 4, 'NoSewr': 3, 'NoSeWa': 2, 'ELO': 1, 'None': 0, },\n",
    "    'Land Slope': { 'None': 0, 'Gtl': 0, 'Mod': 1, 'Sev': 2, },\n",
    "    'Bsmt Exposure': { 'Gd': 5, 'Av': 3, 'Mn': 2, 'No': 0, 'None': 0, },\n",
    "    'Electrical': { 'SBrkr': 4, 'FuseA': 3, 'FuseF': 2, 'FuseP': 1, 'Mix': 4, 'None': 0, },\n",
    "    'Functional': { 'None': 0, 'Typ': 0, 'Min1': 2, 'Min2': 3, 'Mod': 4, 'Maj1': 6, 'Maj2': 7, 'Sev': 8, 'Sal': 10, },\n",
    "    'Garage Finish': { 'Fin': 3, 'RFn': 2, 'Unf': 1, 'None': 0, },\n",
    "    'Paved Drive': { 'Y': 3, 'P': 2, 'N': 1, 'None': 0, },\n",
    "    'Fence': { 'GdPrv': 4, 'MnPrv': 3, 'GdWo': 2, 'MnWw': 1, 'None': 0, },}\n",
    "for col, mapper in unique_ords.items():\n",
    "    df[col] = df[col].replace(mapper).astype('float')"
   ]
  },
  {
   "cell_type": "code",
   "execution_count": 16,
   "metadata": {
    "scrolled": true
   },
   "outputs": [
    {
     "name": "stderr",
     "output_type": "stream",
     "text": [
      "/Users/jfitz/opt/anaconda3/lib/python3.7/site-packages/pandas/core/indexing.py:961: FutureWarning: \n",
      "Passing list-likes to .loc or [] with any missing label will raise\n",
      "KeyError in the future, you can use .reindex() as an alternative.\n",
      "\n",
      "See the documentation here:\n",
      "https://pandas.pydata.org/pandas-docs/stable/user_guide/indexing.html#deprecate-loc-reindex-listlike\n",
      "  return getattr(section, self.name)[new_key]\n"
     ]
    },
    {
     "data": {
      "text/plain": [
       "Overall Qual      0.800207\n",
       "Exter Qual        0.712146\n",
       "Kitchen Qual      0.692336\n",
       "Bsmt Qual         0.612188\n",
       "Garage Finish     0.557839\n",
       "Fireplace Qu      0.538925\n",
       "Heating QC        0.458354\n",
       "Bsmt Exposure     0.417279\n",
       "BsmtFin Type 1    0.321022\n",
       "Lot Shape         0.294542\n",
       "Paved Drive       0.290472\n",
       "Garage Qual       0.285281\n",
       "Garage Cond       0.265021\n",
       "Electrical        0.246507\n",
       "Bsmt Cond         0.225075\n",
       "Land Slope        0.057990\n",
       "Exter Cond        0.036418\n",
       "Pool QC           0.029275\n",
       "Utilities         0.026404\n",
       "BsmtFin Type 2   -0.022096\n",
       "Overall Cond     -0.097019\n",
       "Functional       -0.126927\n",
       "Fence            -0.159060\n",
       "Mo Sold                NaN\n",
       "Name: SalePrice, dtype: float64"
      ]
     },
     "execution_count": 16,
     "metadata": {},
     "output_type": "execute_result"
    }
   ],
   "source": [
    "# list by r to SalePrice in train\n",
    "df[df['dataset']==0].corr().loc['SalePrice', ordinal_x].sort_values(ascending=False)"
   ]
  },
  {
   "cell_type": "markdown",
   "metadata": {},
   "source": [
    "<div class='alert alert-success'>\n",
    "Use this graphic to explain binarizing\n",
    "</div>"
   ]
  },
  {
   "cell_type": "code",
   "execution_count": 17,
   "metadata": {},
   "outputs": [
    {
     "data": {
      "text/plain": [
       "Text(0.5, 0, 'BsmtFin Type 2')"
      ]
     },
     "execution_count": 17,
     "metadata": {},
     "output_type": "execute_result"
    },
    {
     "data": {
      "image/png": "[encoded data removed]",
      "text/plain": [
       "<Figure size 144x144 with 1 Axes>"
      ]
     },
     "metadata": {
      "needs_background": "light"
     },
     "output_type": "display_data"
    }
   ],
   "source": [
    "plt.figure(figsize=(2,2))\n",
    "plt.scatter(df[df['dataset']==0]['BsmtFin Type 2'], df[df['dataset']==0]['SalePrice']);\n",
    "plt.xlabel('BsmtFin Type 2', fontsize=14)"
   ]
  },
  {
   "cell_type": "code",
   "execution_count": 18,
   "metadata": {},
   "outputs": [],
   "source": [
    "# binarize 'Electrical', 'Paved Drive', 'BsmtFin Type 2' and 'Overall Cond'\n",
    "df['Electrical'] = [1 if x == 4 else 0 for x in df['Electrical']]         # has SBrkr or not(else)\n",
    "df['Paved Drive'] = [1 if x == 3 else 0 for x in df['Paved Drive']]        # has paved drive or not(Partial/No)\n",
    "df['Overall Cond'] = [1 if x >= 5 else 0 for x in df['Overall Cond']]    # >=5 overall cond or <5 \n",
    "df['BsmtFin Type 2'] = [1 if x == 3 else 0 for x in df['BsmtFin Type 2']] # has BsFin T2 or not(None/Unf)\n",
    "\n",
    "# drop columns with >99% values in one category\n",
    "df.drop(columns=['Pool QC', 'Utilities',], inplace=True)"
   ]
  },
  {
   "cell_type": "markdown",
   "metadata": {},
   "source": [
    "Some ordinals lend themselves better than others to encoding:"
   ]
  },
  {
   "cell_type": "code",
   "execution_count": 19,
   "metadata": {},
   "outputs": [],
   "source": [
    "# treat as categorical and ordinal:\n",
    "cat_plus_ord = ['Overall Qual', 'Exter Qual', 'Kitchen Qual', 'Heating QC', 'Bsmt Qual',\n",
    "                 'Fence', 'Overall Cond', 'Garage Finish', 'Fireplace Qu', 'Garage Qual']\n",
    "for x in cat_plus_ord:\n",
    "    df[x+'_ord'] = df[x]        # store encoded ordinal scale\n",
    "    df[x] = df[x].astype('str') # revert orig to str for dummies"
   ]
  },
  {
   "cell_type": "code",
   "execution_count": 20,
   "metadata": {},
   "outputs": [],
   "source": [
    "# treat as categorical only:\n",
    "cat_only = ['Bsmt Exposure', 'BsmtFin Type 1', 'BsmtFin Type 2', 'Lot Shape', 'Exter Cond', \n",
    "            'Land Slope', 'Bsmt Qual', 'Overall Cond', 'Functional', 'Paved Drive', 'Bsmt Cond',\n",
    "            'Garage Cond', ]\n",
    "for x in cat_only:\n",
    "    df[x] = df[x].astype('str') # revert to str for dummies"
   ]
  },
  {
   "cell_type": "markdown",
   "metadata": {},
   "source": [
    "#### Log transform key ordinals"
   ]
  },
  {
   "cell_type": "code",
   "execution_count": 21,
   "metadata": {},
   "outputs": [
    {
     "name": "stdout",
     "output_type": "stream",
     "text": [
      "Log transformed Fence_ord\n",
      "Log transformed Garage Qual_ord\n",
      "Log transformed Garage Finish_ord\n",
      "Log transformed Heating QC_ord\n",
      "Log transformed Fireplace Qu_ord\n"
     ]
    }
   ],
   "source": [
    "x_to_log =  ['Fence', 'Garage Qual', 'Garage Finish', 'Heating QC', 'Fireplace Qu', ]\n",
    "for x in x_to_log:\n",
    "    x+='_ord'                             # get ordinal (numeric) version of x\n",
    "    df[x+'_log'] = (df[x]+1).apply(np.log)  # log transform\n",
    "    print('Log transformed', x)           # print success"
   ]
  },
  {
   "cell_type": "code",
   "execution_count": 22,
   "metadata": {},
   "outputs": [],
   "source": [
    "# exploiting seasonality | credit to https://jackdry.com/house-prices-advanced-regression-techniques-kaggle\n",
    "#df['sin_Mo Sold'] = np.sin(2 * np.pi * df[\"Mo Sold\"] / 12)\n",
    "#df['cos_Mo Sold'] = np.cos(2 * np.pi * df[\"Mo Sold\"] / 12)\n",
    "#df = df.drop(\"Mo Sold\", axis=1)"
   ]
  },
  {
   "cell_type": "markdown",
   "metadata": {},
   "source": [
    "---\n",
    "### c) Nominal"
   ]
  },
  {
   "cell_type": "code",
   "execution_count": 23,
   "metadata": {},
   "outputs": [],
   "source": [
    "nominal_x = ['MS SubClass', 'Street', 'Alley', 'Land Contour', 'Lot Config', 'MS Zoning',\n",
    "             'Neighborhood', 'House Style', 'Condition 1', 'Condition 2','Bldg Type',\n",
    "             'House Style', 'Roof Style', 'Roof Matl', 'Exterior 1st', 'Exterior 2nd',\n",
    "             'Mas Vnr Type', 'Foundation', 'Heating', 'Bsmt Full Bath', 'Bsmt Half Bath',\n",
    "             'Full Bath', 'Half Bath', 'Bedroom AbvGr', 'Kitchen AbvGr', 'Fireplaces',\n",
    "             'Garage Type', 'Garage Cars', 'Sale Type', 'Lot Config',\n",
    "             'Central Air',  'Misc Feature',]\n",
    "\n",
    "# create total bath column (sum baths)\n",
    "df['Total Bath'] = df['Bsmt Full Bath'] + df['Full Bath'] + .5*(df['Bsmt Half Bath'] + df['Half Bath'])\n",
    "\n"
   ]
  },
  {
   "cell_type": "code",
   "execution_count": 24,
   "metadata": {},
   "outputs": [],
   "source": [
    "# binarize a few nominals: \n",
    "df['Heating'] = [1 if x == 'GasA' else 0 for x in df['Heating']]            # has GasA type heating?\n",
    "df['Misc Feature'] = [1 if x == 'Shed' else 0 for x in df['Misc Feature']]  # has shed?\n",
    "df['Bsmt Half Bath'] = [1 if x > 0 else 0 for x in df['Bsmt Half Bath']]    # has bsmt half bath?\n",
    "\n"
   ]
  },
  {
   "cell_type": "code",
   "execution_count": 25,
   "metadata": {},
   "outputs": [],
   "source": [
    "## treat these as categorical:\n",
    "cat_only = ['MS SubClass', 'Street', 'Alley', 'Lot Config', 'MS Zoning', 'Neighborhood',\n",
    "                'House Style', 'Condition 1',  'Condition 2', 'Bldg Type', 'House Style',\n",
    "                'Roof Style', 'Roof Matl', 'Exterior 1st', 'Exterior 2nd', 'Mas Vnr Type',\n",
    "                'Foundation', 'Bsmt Half Bath', 'Kitchen AbvGr', 'Heating', 'Misc Feature',\n",
    "                'Garage Type', 'Sale Type', 'Land Contour', 'Central Air']\n",
    "# str for dummy\n",
    "df[cat_only] = df[cat_only].astype('str')"
   ]
  },
  {
   "cell_type": "code",
   "execution_count": 26,
   "metadata": {},
   "outputs": [],
   "source": [
    "## treat these as categorical AND numerical:\n",
    "cat_plus_nom = ['Full Bath', 'Half Bath', 'Bsmt Full Bath', 'Total Bath',\n",
    "                'Bedroom AbvGr', 'Fireplaces', 'Garage Cars' ] \n",
    "# str for dummy\n",
    "for x in cat_plus_nom:\n",
    "    df[x+'_cat'] = df[x].astype('str')"
   ]
  },
  {
   "cell_type": "markdown",
   "metadata": {},
   "source": [
    "#### Log transform key nominals"
   ]
  },
  {
   "cell_type": "code",
   "execution_count": 27,
   "metadata": {},
   "outputs": [
    {
     "name": "stdout",
     "output_type": "stream",
     "text": [
      "Log transformed Full Bath\n",
      "Log transformed Half Bath\n",
      "Log transformed Bsmt Full Bath\n",
      "Log transformed Total Bath\n",
      "Log transformed Fireplaces\n",
      "Log transformed Garage Cars\n"
     ]
    }
   ],
   "source": [
    "x_to_log = ['Full Bath', 'Half Bath', 'Bsmt Full Bath', 'Total Bath', 'Fireplaces', 'Garage Cars']\n",
    "for x in x_to_log:\n",
    "    df[x+'_log'] = (df[x]+1).apply(np.log)  # log transform\n",
    "    print('Log transformed', x)           # print success"
   ]
  },
  {
   "cell_type": "markdown",
   "metadata": {},
   "source": [
    "### Get dummies for big zero counts"
   ]
  },
  {
   "cell_type": "code",
   "execution_count": 28,
   "metadata": {},
   "outputs": [
    {
     "data": {
      "text/html": [
       "<div>\n",
       "<style scoped>\n",
       "    .dataframe tbody tr th:only-of-type {\n",
       "        vertical-align: middle;\n",
       "    }\n",
       "\n",
       "    .dataframe tbody tr th {\n",
       "        vertical-align: top;\n",
       "    }\n",
       "\n",
       "    .dataframe thead th {\n",
       "        text-align: right;\n",
       "    }\n",
       "</style>\n",
       "<table border=\"1\" class=\"dataframe\">\n",
       "  <thead>\n",
       "    <tr style=\"text-align: right;\">\n",
       "      <th></th>\n",
       "      <th>zero_Lot Frontage</th>\n",
       "      <th>zero_Mas Vnr Area</th>\n",
       "      <th>zero_BsmtFin SF 1</th>\n",
       "      <th>zero_Total Bsmt SF</th>\n",
       "      <th>zero_Electrical</th>\n",
       "      <th>zero_2nd Flr SF</th>\n",
       "      <th>zero_Bsmt Full Bath</th>\n",
       "      <th>zero_Half Bath</th>\n",
       "      <th>zero_Fireplaces</th>\n",
       "      <th>zero_Garage Cars</th>\n",
       "      <th>zero_Garage Area</th>\n",
       "      <th>zero_Wood Deck SF</th>\n",
       "      <th>zero_Open Porch SF</th>\n",
       "      <th>zero_Total Porch</th>\n",
       "    </tr>\n",
       "  </thead>\n",
       "  <tbody>\n",
       "    <tr>\n",
       "      <th>0</th>\n",
       "      <td>0</td>\n",
       "      <td>1</td>\n",
       "      <td>1</td>\n",
       "      <td>0</td>\n",
       "      <td>1</td>\n",
       "      <td>0</td>\n",
       "      <td>1</td>\n",
       "      <td>1</td>\n",
       "      <td>1</td>\n",
       "      <td>0</td>\n",
       "      <td>0</td>\n",
       "      <td>1</td>\n",
       "      <td>0</td>\n",
       "      <td>0</td>\n",
       "    </tr>\n",
       "    <tr>\n",
       "      <th>1</th>\n",
       "      <td>1</td>\n",
       "      <td>1</td>\n",
       "      <td>1</td>\n",
       "      <td>0</td>\n",
       "      <td>0</td>\n",
       "      <td>1</td>\n",
       "      <td>1</td>\n",
       "      <td>1</td>\n",
       "      <td>1</td>\n",
       "      <td>0</td>\n",
       "      <td>0</td>\n",
       "      <td>0</td>\n",
       "      <td>1</td>\n",
       "      <td>1</td>\n",
       "    </tr>\n",
       "  </tbody>\n",
       "</table>\n",
       "</div>"
      ],
      "text/plain": [
       "   zero_Lot Frontage  zero_Mas Vnr Area  zero_BsmtFin SF 1  \\\n",
       "0                  0                  1                  1   \n",
       "1                  1                  1                  1   \n",
       "\n",
       "   zero_Total Bsmt SF  zero_Electrical  zero_2nd Flr SF  zero_Bsmt Full Bath  \\\n",
       "0                   0                1                0                    1   \n",
       "1                   0                0                1                    1   \n",
       "\n",
       "   zero_Half Bath  zero_Fireplaces  zero_Garage Cars  zero_Garage Area  \\\n",
       "0               1                1                 0                 0   \n",
       "1               1                1                 0                 0   \n",
       "\n",
       "   zero_Wood Deck SF  zero_Open Porch SF  zero_Total Porch  \n",
       "0                  1                   0                 0  \n",
       "1                  0                   1                 1  "
      ]
     },
     "execution_count": 28,
     "metadata": {},
     "output_type": "execute_result"
    }
   ],
   "source": [
    "dfx = df.drop(columns=['SalePrice', 'dataset'])\n",
    "zero_cols = [col for col in dfx.columns \n",
    "             # get columns with any zeros\n",
    "             if len(df[df[col] == 0]) > 50 and '_' not in col]\n",
    "for c in zero_cols:\n",
    "    df['zero_'+c] = np.where(df[c]==0, 1, 0)\n",
    "    \n",
    "df[[c for c in df.columns if 'zero_' in c]].head(2)"
   ]
  },
  {
   "cell_type": "markdown",
   "metadata": {},
   "source": [
    "<div class='alert alert-warning'>\n",
    "    ### Feature interactions\n",
    "</div>"
   ]
  },
  {
   "cell_type": "markdown",
   "metadata": {},
   "source": [
    "### Interact top features:"
   ]
  },
  {
   "cell_type": "code",
   "execution_count": 29,
   "metadata": {},
   "outputs": [
    {
     "data": {
      "text/html": [
       "<div>\n",
       "<style scoped>\n",
       "    .dataframe tbody tr th:only-of-type {\n",
       "        vertical-align: middle;\n",
       "    }\n",
       "\n",
       "    .dataframe tbody tr th {\n",
       "        vertical-align: top;\n",
       "    }\n",
       "\n",
       "    .dataframe thead th {\n",
       "        text-align: right;\n",
       "    }\n",
       "</style>\n",
       "<table border=\"1\" class=\"dataframe\">\n",
       "  <thead>\n",
       "    <tr style=\"text-align: right;\">\n",
       "      <th></th>\n",
       "      <th>Id</th>\n",
       "      <th>MS SubClass</th>\n",
       "      <th>MS Zoning</th>\n",
       "      <th>Lot Frontage</th>\n",
       "      <th>Lot Area</th>\n",
       "      <th>Street</th>\n",
       "      <th>Alley</th>\n",
       "      <th>Lot Shape</th>\n",
       "      <th>Land Contour</th>\n",
       "      <th>Lot Config</th>\n",
       "      <th>...</th>\n",
       "      <th>Garage Cars^2</th>\n",
       "      <th>Garage Cars Total Bath</th>\n",
       "      <th>Garage Cars Total Bsmt SF</th>\n",
       "      <th>Garage Cars 1st Flr SF</th>\n",
       "      <th>Total Bath^2</th>\n",
       "      <th>Total Bath Total Bsmt SF</th>\n",
       "      <th>Total Bath 1st Flr SF</th>\n",
       "      <th>Total Bsmt SF^2</th>\n",
       "      <th>Total Bsmt SF 1st Flr SF</th>\n",
       "      <th>1st Flr SF^2</th>\n",
       "    </tr>\n",
       "  </thead>\n",
       "  <tbody>\n",
       "    <tr>\n",
       "      <th>0</th>\n",
       "      <td>2658</td>\n",
       "      <td>190</td>\n",
       "      <td>RM</td>\n",
       "      <td>69.0</td>\n",
       "      <td>9142</td>\n",
       "      <td>Pave</td>\n",
       "      <td>Grvl</td>\n",
       "      <td>0.0</td>\n",
       "      <td>Lvl</td>\n",
       "      <td>Inside</td>\n",
       "      <td>...</td>\n",
       "      <td>1.0</td>\n",
       "      <td>2.0</td>\n",
       "      <td>1020.0</td>\n",
       "      <td>908.0</td>\n",
       "      <td>4.00</td>\n",
       "      <td>2040.0</td>\n",
       "      <td>1816.0</td>\n",
       "      <td>1040400.0</td>\n",
       "      <td>926160.0</td>\n",
       "      <td>824464.0</td>\n",
       "    </tr>\n",
       "    <tr>\n",
       "      <th>1</th>\n",
       "      <td>2718</td>\n",
       "      <td>90</td>\n",
       "      <td>RL</td>\n",
       "      <td>0.0</td>\n",
       "      <td>9662</td>\n",
       "      <td>Pave</td>\n",
       "      <td>None</td>\n",
       "      <td>1.0</td>\n",
       "      <td>Lvl</td>\n",
       "      <td>Inside</td>\n",
       "      <td>...</td>\n",
       "      <td>4.0</td>\n",
       "      <td>4.0</td>\n",
       "      <td>3934.0</td>\n",
       "      <td>3934.0</td>\n",
       "      <td>4.00</td>\n",
       "      <td>3934.0</td>\n",
       "      <td>3934.0</td>\n",
       "      <td>3869089.0</td>\n",
       "      <td>3869089.0</td>\n",
       "      <td>3869089.0</td>\n",
       "    </tr>\n",
       "    <tr>\n",
       "      <th>2</th>\n",
       "      <td>2414</td>\n",
       "      <td>60</td>\n",
       "      <td>RL</td>\n",
       "      <td>58.0</td>\n",
       "      <td>17104</td>\n",
       "      <td>Pave</td>\n",
       "      <td>None</td>\n",
       "      <td>1.0</td>\n",
       "      <td>Lvl</td>\n",
       "      <td>Inside</td>\n",
       "      <td>...</td>\n",
       "      <td>4.0</td>\n",
       "      <td>7.0</td>\n",
       "      <td>1308.0</td>\n",
       "      <td>1328.0</td>\n",
       "      <td>12.25</td>\n",
       "      <td>2289.0</td>\n",
       "      <td>2324.0</td>\n",
       "      <td>427716.0</td>\n",
       "      <td>434256.0</td>\n",
       "      <td>440896.0</td>\n",
       "    </tr>\n",
       "    <tr>\n",
       "      <th>3</th>\n",
       "      <td>1989</td>\n",
       "      <td>30</td>\n",
       "      <td>RM</td>\n",
       "      <td>60.0</td>\n",
       "      <td>8520</td>\n",
       "      <td>Pave</td>\n",
       "      <td>None</td>\n",
       "      <td>0.0</td>\n",
       "      <td>Lvl</td>\n",
       "      <td>Inside</td>\n",
       "      <td>...</td>\n",
       "      <td>4.0</td>\n",
       "      <td>2.0</td>\n",
       "      <td>1936.0</td>\n",
       "      <td>1936.0</td>\n",
       "      <td>1.00</td>\n",
       "      <td>968.0</td>\n",
       "      <td>968.0</td>\n",
       "      <td>937024.0</td>\n",
       "      <td>937024.0</td>\n",
       "      <td>937024.0</td>\n",
       "    </tr>\n",
       "    <tr>\n",
       "      <th>4</th>\n",
       "      <td>625</td>\n",
       "      <td>20</td>\n",
       "      <td>RL</td>\n",
       "      <td>0.0</td>\n",
       "      <td>9500</td>\n",
       "      <td>Pave</td>\n",
       "      <td>None</td>\n",
       "      <td>1.0</td>\n",
       "      <td>Lvl</td>\n",
       "      <td>Inside</td>\n",
       "      <td>...</td>\n",
       "      <td>4.0</td>\n",
       "      <td>5.0</td>\n",
       "      <td>2788.0</td>\n",
       "      <td>2788.0</td>\n",
       "      <td>6.25</td>\n",
       "      <td>3485.0</td>\n",
       "      <td>3485.0</td>\n",
       "      <td>1943236.0</td>\n",
       "      <td>1943236.0</td>\n",
       "      <td>1943236.0</td>\n",
       "    </tr>\n",
       "  </tbody>\n",
       "</table>\n",
       "<p>5 rows × 172 columns</p>\n",
       "</div>"
      ],
      "text/plain": [
       "     Id MS SubClass MS Zoning  Lot Frontage  Lot Area Street Alley Lot Shape  \\\n",
       "0  2658         190        RM          69.0      9142   Pave  Grvl       0.0   \n",
       "1  2718          90        RL           0.0      9662   Pave  None       1.0   \n",
       "2  2414          60        RL          58.0     17104   Pave  None       1.0   \n",
       "3  1989          30        RM          60.0      8520   Pave  None       0.0   \n",
       "4   625          20        RL           0.0      9500   Pave  None       1.0   \n",
       "\n",
       "  Land Contour Lot Config  ... Garage Cars^2 Garage Cars Total Bath  \\\n",
       "0          Lvl     Inside  ...           1.0                    2.0   \n",
       "1          Lvl     Inside  ...           4.0                    4.0   \n",
       "2          Lvl     Inside  ...           4.0                    7.0   \n",
       "3          Lvl     Inside  ...           4.0                    2.0   \n",
       "4          Lvl     Inside  ...           4.0                    5.0   \n",
       "\n",
       "  Garage Cars Total Bsmt SF Garage Cars 1st Flr SF Total Bath^2  \\\n",
       "0                    1020.0                  908.0         4.00   \n",
       "1                    3934.0                 3934.0         4.00   \n",
       "2                    1308.0                 1328.0        12.25   \n",
       "3                    1936.0                 1936.0         1.00   \n",
       "4                    2788.0                 2788.0         6.25   \n",
       "\n",
       "  Total Bath Total Bsmt SF Total Bath 1st Flr SF Total Bsmt SF^2  \\\n",
       "0                   2040.0                1816.0       1040400.0   \n",
       "1                   3934.0                3934.0       3869089.0   \n",
       "2                   2289.0                2324.0        427716.0   \n",
       "3                    968.0                 968.0        937024.0   \n",
       "4                   3485.0                3485.0       1943236.0   \n",
       "\n",
       "   Total Bsmt SF 1st Flr SF  1st Flr SF^2  \n",
       "0                  926160.0      824464.0  \n",
       "1                 3869089.0     3869089.0  \n",
       "2                  434256.0      440896.0  \n",
       "3                  937024.0      937024.0  \n",
       "4                 1943236.0     1943236.0  \n",
       "\n",
       "[5 rows x 172 columns]"
      ]
     },
     "execution_count": 29,
     "metadata": {},
     "output_type": "execute_result"
    }
   ],
   "source": [
    "from sklearn.preprocessing import PolynomialFeatures\n",
    "\n",
    "# strongest r in basic features \n",
    "df_orig = df[[c for c in df.columns if '_' not in c]]\n",
    "test = df_orig[df_orig['dataset']==0]\n",
    "best_r = list(test.corr()['SalePrice'].abs().sort_values(ascending=False).index)[1:8]\n",
    "\n",
    "\n",
    "dfp = df[best_r]\n",
    "dfp.head(2)\n",
    "\n",
    "# get 2nd degree polynomials\n",
    "poly = PolynomialFeatures()\n",
    "dfp_fit = poly.fit_transform(dfp)\n",
    "\n",
    "# combine polynomials with df\n",
    "df_poly = pd.DataFrame(dfp_fit, columns = poly.get_feature_names(dfp.columns))\n",
    "df = pd.concat([df, df_poly], axis=1)\n",
    "df.head()"
   ]
  },
  {
   "cell_type": "markdown",
   "metadata": {},
   "source": [
    "### Get Dummies for categoricals"
   ]
  },
  {
   "cell_type": "code",
   "execution_count": 30,
   "metadata": {},
   "outputs": [
    {
     "data": {
      "text/plain": [
       "(2929, 406)"
      ]
     },
     "execution_count": 30,
     "metadata": {},
     "output_type": "execute_result"
    }
   ],
   "source": [
    "df = pd.get_dummies(df, drop_first=True)\n",
    "df.shape"
   ]
  },
  {
   "cell_type": "markdown",
   "metadata": {},
   "source": [
    "### Recover train and test"
   ]
  },
  {
   "cell_type": "code",
   "execution_count": 31,
   "metadata": {},
   "outputs": [
    {
     "name": "stderr",
     "output_type": "stream",
     "text": [
      "/Users/jfitz/opt/anaconda3/lib/python3.7/site-packages/pandas/core/frame.py:4117: SettingWithCopyWarning: \n",
      "A value is trying to be set on a copy of a slice from a DataFrame\n",
      "\n",
      "See the caveats in the documentation: http://pandas.pydata.org/pandas-docs/stable/user_guide/indexing.html#returning-a-view-versus-a-copy\n",
      "  errors=errors,\n"
     ]
    }
   ],
   "source": [
    "# define train X and y\n",
    "X_train = df[df['dataset'] == 0]\n",
    "y_train = pd.DataFrame(X_train['SalePrice'])\n",
    "X_train.drop(columns='dataset', inplace=True)\n",
    "X_train.drop(columns='SalePrice', inplace=True)\n",
    "\n",
    "# define test X\n",
    "X_test = df[df['dataset'] == 1]\n",
    "X_test.drop(columns='dataset', inplace=True)\n",
    "X_test.drop(columns='SalePrice', inplace=True)"
   ]
  },
  {
   "cell_type": "markdown",
   "metadata": {},
   "source": [
    "## Export"
   ]
  },
  {
   "cell_type": "code",
   "execution_count": 32,
   "metadata": {},
   "outputs": [],
   "source": [
    "X_train.to_csv('./datasets/X_train_inter.csv', index=False)\n",
    "y_train.to_csv('./datasets/y_train_inter.csv', index=False)\n",
    "X_test.to_csv('./datasets/X_test_inter.csv', index=False)"
   ]
  },
  {
   "cell_type": "code",
   "execution_count": 33,
   "metadata": {},
   "outputs": [
    {
     "data": {
      "text/plain": [
       "((2051, 404), (2051, 1), (878, 404))"
      ]
     },
     "execution_count": 33,
     "metadata": {},
     "output_type": "execute_result"
    }
   ],
   "source": [
    "X_train.shape, y_train.shape, X_test.shape, "
   ]
  },
  {
   "cell_type": "code",
   "execution_count": null,
   "metadata": {},
   "outputs": [],
   "source": []
  }
 ],
 "metadata": {
  "kernelspec": {
   "display_name": "Python 3",
   "language": "python",
   "name": "python3"
  },
  "language_info": {
   "codemirror_mode": {
    "name": "ipython",
    "version": 3
   },
   "file_extension": ".py",
   "mimetype": "text/x-python",
   "name": "python",
   "nbconvert_exporter": "python",
   "pygments_lexer": "ipython3",
   "version": "3.7.4"
  }
 },
 "nbformat": 4,
 "nbformat_minor": 2
}
