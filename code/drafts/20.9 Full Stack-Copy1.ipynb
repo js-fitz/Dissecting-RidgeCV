{
 "cells": [
  {
   "cell_type": "code",
   "execution_count": 3,
   "metadata": {},
   "outputs": [],
   "source": [
    "# import libraries\n",
    "import math\n",
    "import numpy as np\n",
    "import pandas as pd\n",
    "import seaborn as sns\n",
    "import matplotlib.pyplot as plt\n",
    "from IPython.display import display, HTML\n",
    "from sklearn.linear_model import LinearRegression\n",
    "from sklearn.model_selection import train_test_split, cross_val_score\n",
    "from sklearn.preprocessing import PolynomialFeatures"
   ]
  },
  {
   "cell_type": "markdown",
   "metadata": {},
   "source": [
    "Read in data"
   ]
  },
  {
   "cell_type": "code",
   "execution_count": 4,
   "metadata": {},
   "outputs": [
    {
     "data": {
      "text/plain": [
       "((2051, 80), (878, 79))"
      ]
     },
     "execution_count": 4,
     "metadata": {},
     "output_type": "execute_result"
    }
   ],
   "source": [
    "# read test and train data, print shapes\n",
    "test = pd.read_csv('datasets/test.csv', index_col=0)\n",
    "train = pd.read_csv('datasets/train.csv', index_col=0)\n",
    "train.shape, test.shape"
   ]
  },
  {
   "cell_type": "markdown",
   "metadata": {},
   "source": [
    "Concatenate train and test for data cleaning & feature engineering"
   ]
  },
  {
   "cell_type": "code",
   "execution_count": 5,
   "metadata": {},
   "outputs": [],
   "source": [
    "test['SalePrice'] = np.nan\n",
    "train['dataset'] = 0\n",
    "test['dataset'] = 1"
   ]
  },
  {
   "cell_type": "code",
   "execution_count": 6,
   "metadata": {},
   "outputs": [],
   "source": [
    "train_and_test = [test, train]\n",
    "df = pd.concat(train_and_test)"
   ]
  },
  {
   "cell_type": "markdown",
   "metadata": {},
   "source": [
    "### Fill missing values"
   ]
  },
  {
   "cell_type": "code",
   "execution_count": 7,
   "metadata": {},
   "outputs": [],
   "source": [
    "# iterate through columns will Na values\n",
    "for col in [c for c in df.columns if df[c].isna().sum() > 0]:\n",
    "    if df[col].dtype == 'object':\n",
    "        df[col] = df[col].fillna(\"None\")  # fill na with 'none' in object columns\n",
    "    else:\n",
    "        df[col] = df[col].fillna(0)       # fill na with 0 in numerical columns"
   ]
  },
  {
   "cell_type": "markdown",
   "metadata": {},
   "source": [
    "### Encode ordinal categories"
   ]
  },
  {
   "cell_type": "code",
   "execution_count": 8,
   "metadata": {},
   "outputs": [],
   "source": [
    "# map over ordinals with standard scale:\n",
    "standard_mapper =  {'Ex': 5, 'Gd': 4, 'TA': 3, 'Fa': 2, 'Po': 1, 'None':0}\n",
    "standard_cols = ['Exter Qual', 'Exter Cond', 'Bsmt Cond', 'Bsmt Qual',\n",
    "               'Heating QC', 'Kitchen Qual', 'Fireplace Qu', 'Garage Qual',\n",
    "               'Garage Cond', 'Pool QC']\n",
    "for col in standard_cols:\n",
    "    df[col] = df[col].replace(standard_mapper).astype('float')\n",
    "\n",
    "# map over basement ordinals:\n",
    "bsmtft_mapper =  { 'None': 0, 'Unf': 1, 'LwQ': 2, 'Rec': 3, 'BLQ': 4, 'ALQ': 5, 'GLQ': 6, }\n",
    "bsmt_fincols = ['BsmtFin Type 1', 'BsmtFin Type 2']\n",
    "for col in bsmt_fincols:\n",
    "    df[col] = df[col].replace(bsmtft_mapper).astype('float')\n",
    "\n",
    "# map over ordinals with unique scales:\n",
    "other_mapper = {\n",
    "    'Lot Shape': { 'None': 0, 'Reg': 0, 'IR1': 1, 'IR2': 2, 'IR3': 3, },\n",
    "    'Utilities': { 'AllPub': 4, 'NoSewr': 3, 'NoSeWa': 2, 'ELO': 1, 'None': 0, },\n",
    "    'Land Slope': { 'None': 0, 'Gtl': 0, 'Mod': 1, 'Sev': 2, },\n",
    "    'Bsmt Exposure': { 'Gd': 5, 'Av': 3, 'Mn': 2, 'No': 0, 'None': 0, },\n",
    "    'Electrical': { 'SBrkr': 4, 'FuseA': 3, 'FuseF': 2, 'FuseP': 1, 'Mix': 4, 'None': 0, },\n",
    "    'Functional': { 'None': 0, 'Typ': 0, 'Min1': 2, 'Min2': 3, 'Mod': 4, 'Maj1': 6, 'Maj2': 7, 'Sev': 8, 'Sal': 10, },\n",
    "    'Garage Finish': { 'Fin': 3, 'RFn': 2, 'Unf': 1, 'None': 0, },\n",
    "    'Paved Drive': { 'Y': 3, 'P': 2, 'N': 1, 'None': 0, },\n",
    "    'Fence': { 'GdPrv': 4, 'MnPrv': 3, 'GdWo': 2, 'MnWw': 1, 'None': 0, },}\n",
    "for col, mapper in other_mapper.items():\n",
    "    df[col] = df[col].replace(mapper).astype('float')"
   ]
  },
  {
   "cell_type": "markdown",
   "metadata": {},
   "source": [
    "### Revert ordinals to categorical\n",
    "(Save numerical versions)"
   ]
  },
  {
   "cell_type": "code",
   "execution_count": 9,
   "metadata": {},
   "outputs": [],
   "source": [
    "# define ordinal columns\n",
    "ordinals = bsmt_fincols + standard_cols + [k for k in other_mapper.keys()]\n",
    "ordinals.append('SalePrice')"
   ]
  },
  {
   "cell_type": "code",
   "execution_count": 10,
   "metadata": {},
   "outputs": [],
   "source": [
    "ordinals.remove('SalePrice')\n",
    "#df[[col+'_num' for col in ordinals]] = df[ordinals]\n",
    "df[ordinals] = df[ordinals].astype('str')"
   ]
  },
  {
   "cell_type": "markdown",
   "metadata": {},
   "source": [
    "### Engineer a few custom features"
   ]
  },
  {
   "cell_type": "markdown",
   "metadata": {},
   "source": [
    "Create feature of total porch size"
   ]
  },
  {
   "cell_type": "code",
   "execution_count": 11,
   "metadata": {},
   "outputs": [],
   "source": [
    "porches = [col for col in df.columns if 'porch' in col.lower()]\n",
    "df['Total Porch'] = 0\n",
    "for col in porches:\n",
    "    df['porch_sum'] = df['Total Porch'] + df[col]"
   ]
  },
  {
   "cell_type": "markdown",
   "metadata": {},
   "source": [
    "Create feature of total SF"
   ]
  },
  {
   "cell_type": "code",
   "execution_count": 12,
   "metadata": {},
   "outputs": [],
   "source": [
    "df['Total SF'] = df['Gr Liv Area'] + df['Total Bsmt SF'] + df['Total Porch'] + df['Garage Area']"
   ]
  },
  {
   "cell_type": "code",
   "execution_count": 13,
   "metadata": {},
   "outputs": [],
   "source": [
    "df['total baths'] = df['Bsmt Full Bath'] + df['Full Bath'] + 2*df['Bsmt Half Bath'] + 2*df['Half Bath']"
   ]
  },
  {
   "cell_type": "code",
   "execution_count": 14,
   "metadata": {},
   "outputs": [],
   "source": [
    "df['avgroomsize'] = df['Total SF'] = df['TotRms AbvGrd']"
   ]
  },
  {
   "cell_type": "markdown",
   "metadata": {},
   "source": [
    "A few interaction features"
   ]
  },
  {
   "cell_type": "markdown",
   "metadata": {},
   "source": [
    "strong_corrs = list(train.corr()['SalePrice'].abs().sort_values(ascending=False)[:5].index)\n",
    "strong_corrs.remove('SalePrice')\n",
    "strong_corrs =[c for c in strong_corrs if c in df.columns] + [c+'_num' for c in strong_corrs if c+'_num' in df.columns]\n",
    "for feat in strong_corrs:\n",
    "    df[feat+'**2'] = df[feat]**2\n",
    "    for comp in [c for c in strong_corrs if c != feat]:\n",
    "        df[feat+'*'+comp] = df[feat]*df[comp]\n",
    "    strong_corrs.remove(feat)\n",
    "        "
   ]
  },
  {
   "cell_type": "code",
   "execution_count": 15,
   "metadata": {},
   "outputs": [],
   "source": [
    "df['Total SF*Overall Qual'] = df['Total SF']*df['Overall Qual']\n",
    "df['Garage Cars*Overall Qual'] = df['Garage Cars']*df['Overall Qual']\n",
    "df['Total Bsmt SF*Overall Qual'] = df['Total Bsmt SF']*df['Overall Qual']\n",
    "df['1st Flr SF*Overall Qual'] = df['1st Flr SF']*df['Overall Qual']\n",
    "df['Year Built*Overall Qual'] = df['Year Built']*df['Overall Qual']\n",
    "df['Full Bath*Overall Qual'] = df['Full Bath']*df['Overall Qual']\n",
    "df['Garage Area*Overall Qual'] = df['Garage Area']*df['Overall Qual']\n",
    "df['Fireplaces*Overall Qual'] = df['Fireplaces']*df['Overall Qual']\n",
    "\n",
    "df['Gr Liv Area*Garage Cars'] = df['Gr Liv Area']*df['Garage Cars']\n",
    "df['Full Bath*Garage Cars'] = df['Gr Liv Area']*df['Garage Cars']\n",
    "\n"
   ]
  },
  {
   "cell_type": "markdown",
   "metadata": {},
   "source": [
    "Log a few x-vars"
   ]
  },
  {
   "cell_type": "code",
   "execution_count": 16,
   "metadata": {},
   "outputs": [],
   "source": [
    "x_to_log = [ 'Lot Area', 'Year Built', 'Year Remod/Add', 'Total SF', 'Gr Liv Area',\n",
    "            '1st Flr SF', 'Total SF*Overall Qual', 'total baths', ]\n",
    "for target in x_to_log:\n",
    "    df[target] = df[target].apply(np.log)\n"
   ]
  },
  {
   "cell_type": "markdown",
   "metadata": {},
   "source": [
    "### Convert specific numericals to categorical\n",
    "(Save numeric versions)"
   ]
  },
  {
   "cell_type": "code",
   "execution_count": 17,
   "metadata": {},
   "outputs": [],
   "source": [
    "# We want these numerical features to get dummified\n",
    "categoricals = ['Yr Sold', 'MS SubClass', 'Overall Qual', 'Overall Cond', 'Full Bath', 'Half Bath',\n",
    " 'Bedroom AbvGr', 'Kitchen AbvGr', 'TotRms AbvGrd', 'Fireplaces', 'Garage Type']\n",
    "df[[col+'_num' for col in categoricals]] = df[categoricals]\n",
    "df[categoricals] = df[categoricals].astype('str')"
   ]
  },
  {
   "cell_type": "code",
   "execution_count": 18,
   "metadata": {},
   "outputs": [],
   "source": [
    "# exploiting seasonality | credit to https://jackdry.com/house-prices-advanced-regression-techniques-kaggle\n",
    "df[\"SinMoSold\"] = np.sin(2 * np.pi * df[\"Mo Sold\"] / 12)\n",
    "df[\"CosMoSold\"] = np.cos(2 * np.pi * df[\"Mo Sold\"] / 12)\n",
    "df = df.drop(\"Mo Sold\", axis=1)"
   ]
  },
  {
   "cell_type": "markdown",
   "metadata": {},
   "source": [
    "### Identify high zero counts"
   ]
  },
  {
   "cell_type": "code",
   "execution_count": 19,
   "metadata": {},
   "outputs": [
    {
     "name": "stdout",
     "output_type": "stream",
     "text": [
      "29 columns have more than one zero\n"
     ]
    }
   ],
   "source": [
    "zeros = [col for col in df.columns if\n",
    "         len(df[df[col] == 0]) > 0 and '_' not in col and 'Price' not in col]\n",
    "zeros.remove('dataset')\n",
    "print('{} columns have more than one zero'.format(len(zeros)))"
   ]
  },
  {
   "cell_type": "code",
   "execution_count": 20,
   "metadata": {},
   "outputs": [],
   "source": [
    "# create dummy columns to identify zero values \n",
    "for col in zeros :   \n",
    "    df[col+'_is_zero'] = np.where(df[col] == 0, 1, 0)"
   ]
  },
  {
   "cell_type": "markdown",
   "metadata": {},
   "source": [
    "### Get Dummies"
   ]
  },
  {
   "cell_type": "code",
   "execution_count": 21,
   "metadata": {},
   "outputs": [],
   "source": [
    "df = pd.get_dummies(df, drop_first=True)"
   ]
  },
  {
   "cell_type": "markdown",
   "metadata": {},
   "source": [
    "### Deal with outliers"
   ]
  },
  {
   "cell_type": "markdown",
   "metadata": {},
   "source": [
    "df['Lot Frontage outliers'] = np.where(df['Lot Frontage']>=150, 1, 0)\n",
    "df['BsmtFin SF 1 outliers'] = np.where(df['BsmtFin SF 1']>=3000, 1, 0)\n",
    "df['Total Bsmt SF outliers'] = np.where(df['Total Bsmt SF']>=4000, 1, 0)\n",
    "df['1st Flr SF outliers'] = np.where(df['1st Flr SF']>=3500, 1, 0)\n",
    "df['Garage Cars outliers'] = np.where(df['Garage Cars']>=4, 1, 0)\n",
    "df['Wood Deck SF outliers'] = np.where(df['Wood Deck SF']>=1000, 1, 0)\n",
    "df['Open Porch SF outliers'] = np.where(df['Open Porch SF']>=280, 1, 0)\n",
    "df['Enclosed Porch outliers'] = np.where(df['Enclosed Porch']>=320, 1, 0)\n",
    "df['Screen Porch outliers'] = np.where(df['Screen Porch']>=430, 1, 0)\n",
    "df['Lot Area outliers1'] = df['Lot Area'].map( lambda x: '1' if x > 20000 and x < 80000 else 0)\n",
    "df['Lot Area outliers2'] = df['Lot Area'].map( lambda x: '1' if x > 80000 else 0)"
   ]
  },
  {
   "cell_type": "markdown",
   "metadata": {},
   "source": [
    "### Recover train and test"
   ]
  },
  {
   "cell_type": "code",
   "execution_count": 22,
   "metadata": {},
   "outputs": [
    {
     "name": "stderr",
     "output_type": "stream",
     "text": [
      "/Users/jfitz/opt/anaconda3/lib/python3.7/site-packages/pandas/core/frame.py:4117: SettingWithCopyWarning: \n",
      "A value is trying to be set on a copy of a slice from a DataFrame\n",
      "\n",
      "See the caveats in the documentation: http://pandas.pydata.org/pandas-docs/stable/user_guide/indexing.html#returning-a-view-versus-a-copy\n",
      "  errors=errors,\n"
     ]
    }
   ],
   "source": [
    "X_train = df[df['dataset'] == 0]\n",
    "X_test = df[df['dataset'] == 1]\n",
    "X_train.drop(columns='dataset', inplace=True)\n",
    "X_test.drop(columns='dataset', inplace=True)"
   ]
  },
  {
   "cell_type": "code",
   "execution_count": 23,
   "metadata": {},
   "outputs": [],
   "source": [
    "y_train = X_train['SalePrice']\n",
    "X_train = X_train[X_train._get_numeric_data().drop(columns='SalePrice').columns]\n",
    "X_test = X_test[X_test._get_numeric_data().drop(columns='SalePrice').columns]"
   ]
  },
  {
   "cell_type": "markdown",
   "metadata": {},
   "source": [
    "#### Log transform"
   ]
  },
  {
   "cell_type": "code",
   "execution_count": 24,
   "metadata": {},
   "outputs": [],
   "source": [
    "y_train_log = y_train.apply(np.log)"
   ]
  },
  {
   "cell_type": "code",
   "execution_count": 25,
   "metadata": {},
   "outputs": [],
   "source": [
    "X_train.fillna(0, inplace=True)\n",
    "X_test.fillna(0, inplace=True)"
   ]
  },
  {
   "cell_type": "code",
   "execution_count": 27,
   "metadata": {},
   "outputs": [
    {
     "data": {
      "text/plain": [
       "0.809563642563686"
      ]
     },
     "execution_count": 27,
     "metadata": {},
     "output_type": "execute_result"
    }
   ],
   "source": [
    "model = LinearRegression()\n",
    "cross_val_score(model, X_train, y_train_log, cv=5).mean()"
   ]
  },
  {
   "cell_type": "code",
   "execution_count": 45,
   "metadata": {},
   "outputs": [
    {
     "data": {
      "text/html": [
       "<div>\n",
       "<style scoped>\n",
       "    .dataframe tbody tr th:only-of-type {\n",
       "        vertical-align: middle;\n",
       "    }\n",
       "\n",
       "    .dataframe tbody tr th {\n",
       "        vertical-align: top;\n",
       "    }\n",
       "\n",
       "    .dataframe thead th {\n",
       "        text-align: right;\n",
       "    }\n",
       "</style>\n",
       "<table border=\"1\" class=\"dataframe\">\n",
       "  <thead>\n",
       "    <tr style=\"text-align: right;\">\n",
       "      <th></th>\n",
       "      <th>PID</th>\n",
       "      <th>Lot Frontage</th>\n",
       "      <th>Lot Area</th>\n",
       "      <th>Year Built</th>\n",
       "      <th>Year Remod/Add</th>\n",
       "      <th>Mas Vnr Area</th>\n",
       "      <th>BsmtFin SF 1</th>\n",
       "      <th>BsmtFin SF 2</th>\n",
       "      <th>Bsmt Unf SF</th>\n",
       "      <th>Total Bsmt SF</th>\n",
       "      <th>...</th>\n",
       "      <th>Sale Type_New</th>\n",
       "      <th>Sale Type_Oth</th>\n",
       "      <th>Sale Type_VWD</th>\n",
       "      <th>Sale Type_WD</th>\n",
       "      <th>Garage Type_num_Attchd</th>\n",
       "      <th>Garage Type_num_Basment</th>\n",
       "      <th>Garage Type_num_BuiltIn</th>\n",
       "      <th>Garage Type_num_CarPort</th>\n",
       "      <th>Garage Type_num_Detchd</th>\n",
       "      <th>Garage Type_num_None</th>\n",
       "    </tr>\n",
       "    <tr>\n",
       "      <th>Id</th>\n",
       "      <th></th>\n",
       "      <th></th>\n",
       "      <th></th>\n",
       "      <th></th>\n",
       "      <th></th>\n",
       "      <th></th>\n",
       "      <th></th>\n",
       "      <th></th>\n",
       "      <th></th>\n",
       "      <th></th>\n",
       "      <th></th>\n",
       "      <th></th>\n",
       "      <th></th>\n",
       "      <th></th>\n",
       "      <th></th>\n",
       "      <th></th>\n",
       "      <th></th>\n",
       "      <th></th>\n",
       "      <th></th>\n",
       "      <th></th>\n",
       "      <th></th>\n",
       "    </tr>\n",
       "  </thead>\n",
       "  <tbody>\n",
       "    <tr>\n",
       "      <th>2658</th>\n",
       "      <td>902301120</td>\n",
       "      <td>69.0</td>\n",
       "      <td>9.120634</td>\n",
       "      <td>7.554859</td>\n",
       "      <td>7.575585</td>\n",
       "      <td>0.0</td>\n",
       "      <td>0.0</td>\n",
       "      <td>0.0</td>\n",
       "      <td>1020.0</td>\n",
       "      <td>1020.0</td>\n",
       "      <td>...</td>\n",
       "      <td>0</td>\n",
       "      <td>0</td>\n",
       "      <td>0</td>\n",
       "      <td>1</td>\n",
       "      <td>0</td>\n",
       "      <td>0</td>\n",
       "      <td>0</td>\n",
       "      <td>0</td>\n",
       "      <td>1</td>\n",
       "      <td>0</td>\n",
       "    </tr>\n",
       "    <tr>\n",
       "      <th>2718</th>\n",
       "      <td>905108090</td>\n",
       "      <td>0.0</td>\n",
       "      <td>9.175956</td>\n",
       "      <td>7.589336</td>\n",
       "      <td>7.589336</td>\n",
       "      <td>0.0</td>\n",
       "      <td>0.0</td>\n",
       "      <td>0.0</td>\n",
       "      <td>1967.0</td>\n",
       "      <td>1967.0</td>\n",
       "      <td>...</td>\n",
       "      <td>0</td>\n",
       "      <td>0</td>\n",
       "      <td>0</td>\n",
       "      <td>1</td>\n",
       "      <td>1</td>\n",
       "      <td>0</td>\n",
       "      <td>0</td>\n",
       "      <td>0</td>\n",
       "      <td>0</td>\n",
       "      <td>0</td>\n",
       "    </tr>\n",
       "    <tr>\n",
       "      <th>2414</th>\n",
       "      <td>528218130</td>\n",
       "      <td>58.0</td>\n",
       "      <td>9.747068</td>\n",
       "      <td>7.603898</td>\n",
       "      <td>7.603898</td>\n",
       "      <td>0.0</td>\n",
       "      <td>554.0</td>\n",
       "      <td>0.0</td>\n",
       "      <td>100.0</td>\n",
       "      <td>654.0</td>\n",
       "      <td>...</td>\n",
       "      <td>1</td>\n",
       "      <td>0</td>\n",
       "      <td>0</td>\n",
       "      <td>0</td>\n",
       "      <td>1</td>\n",
       "      <td>0</td>\n",
       "      <td>0</td>\n",
       "      <td>0</td>\n",
       "      <td>0</td>\n",
       "      <td>0</td>\n",
       "    </tr>\n",
       "    <tr>\n",
       "      <th>1989</th>\n",
       "      <td>902207150</td>\n",
       "      <td>60.0</td>\n",
       "      <td>9.050172</td>\n",
       "      <td>7.561642</td>\n",
       "      <td>7.603898</td>\n",
       "      <td>0.0</td>\n",
       "      <td>0.0</td>\n",
       "      <td>0.0</td>\n",
       "      <td>968.0</td>\n",
       "      <td>968.0</td>\n",
       "      <td>...</td>\n",
       "      <td>0</td>\n",
       "      <td>0</td>\n",
       "      <td>0</td>\n",
       "      <td>1</td>\n",
       "      <td>0</td>\n",
       "      <td>0</td>\n",
       "      <td>0</td>\n",
       "      <td>0</td>\n",
       "      <td>1</td>\n",
       "      <td>0</td>\n",
       "    </tr>\n",
       "    <tr>\n",
       "      <th>625</th>\n",
       "      <td>535105100</td>\n",
       "      <td>0.0</td>\n",
       "      <td>9.159047</td>\n",
       "      <td>7.582229</td>\n",
       "      <td>7.582229</td>\n",
       "      <td>247.0</td>\n",
       "      <td>609.0</td>\n",
       "      <td>0.0</td>\n",
       "      <td>785.0</td>\n",
       "      <td>1394.0</td>\n",
       "      <td>...</td>\n",
       "      <td>0</td>\n",
       "      <td>0</td>\n",
       "      <td>0</td>\n",
       "      <td>1</td>\n",
       "      <td>1</td>\n",
       "      <td>0</td>\n",
       "      <td>0</td>\n",
       "      <td>0</td>\n",
       "      <td>0</td>\n",
       "      <td>0</td>\n",
       "    </tr>\n",
       "    <tr>\n",
       "      <th>...</th>\n",
       "      <td>...</td>\n",
       "      <td>...</td>\n",
       "      <td>...</td>\n",
       "      <td>...</td>\n",
       "      <td>...</td>\n",
       "      <td>...</td>\n",
       "      <td>...</td>\n",
       "      <td>...</td>\n",
       "      <td>...</td>\n",
       "      <td>...</td>\n",
       "      <td>...</td>\n",
       "      <td>...</td>\n",
       "      <td>...</td>\n",
       "      <td>...</td>\n",
       "      <td>...</td>\n",
       "      <td>...</td>\n",
       "      <td>...</td>\n",
       "      <td>...</td>\n",
       "      <td>...</td>\n",
       "      <td>...</td>\n",
       "      <td>...</td>\n",
       "    </tr>\n",
       "    <tr>\n",
       "      <th>1662</th>\n",
       "      <td>527377110</td>\n",
       "      <td>80.0</td>\n",
       "      <td>8.987197</td>\n",
       "      <td>7.587817</td>\n",
       "      <td>7.587817</td>\n",
       "      <td>0.0</td>\n",
       "      <td>931.0</td>\n",
       "      <td>153.0</td>\n",
       "      <td>0.0</td>\n",
       "      <td>1084.0</td>\n",
       "      <td>...</td>\n",
       "      <td>0</td>\n",
       "      <td>0</td>\n",
       "      <td>0</td>\n",
       "      <td>1</td>\n",
       "      <td>1</td>\n",
       "      <td>0</td>\n",
       "      <td>0</td>\n",
       "      <td>0</td>\n",
       "      <td>0</td>\n",
       "      <td>0</td>\n",
       "    </tr>\n",
       "    <tr>\n",
       "      <th>1234</th>\n",
       "      <td>535126140</td>\n",
       "      <td>90.0</td>\n",
       "      <td>9.593560</td>\n",
       "      <td>7.583756</td>\n",
       "      <td>7.600402</td>\n",
       "      <td>410.0</td>\n",
       "      <td>575.0</td>\n",
       "      <td>0.0</td>\n",
       "      <td>529.0</td>\n",
       "      <td>1104.0</td>\n",
       "      <td>...</td>\n",
       "      <td>0</td>\n",
       "      <td>0</td>\n",
       "      <td>0</td>\n",
       "      <td>1</td>\n",
       "      <td>1</td>\n",
       "      <td>0</td>\n",
       "      <td>0</td>\n",
       "      <td>0</td>\n",
       "      <td>0</td>\n",
       "      <td>0</td>\n",
       "    </tr>\n",
       "    <tr>\n",
       "      <th>1373</th>\n",
       "      <td>904100040</td>\n",
       "      <td>55.0</td>\n",
       "      <td>9.017968</td>\n",
       "      <td>7.584773</td>\n",
       "      <td>7.584773</td>\n",
       "      <td>0.0</td>\n",
       "      <td>250.0</td>\n",
       "      <td>492.0</td>\n",
       "      <td>210.0</td>\n",
       "      <td>952.0</td>\n",
       "      <td>...</td>\n",
       "      <td>0</td>\n",
       "      <td>0</td>\n",
       "      <td>0</td>\n",
       "      <td>1</td>\n",
       "      <td>1</td>\n",
       "      <td>0</td>\n",
       "      <td>0</td>\n",
       "      <td>0</td>\n",
       "      <td>0</td>\n",
       "      <td>0</td>\n",
       "    </tr>\n",
       "    <tr>\n",
       "      <th>1672</th>\n",
       "      <td>527425140</td>\n",
       "      <td>60.0</td>\n",
       "      <td>9.104980</td>\n",
       "      <td>7.586296</td>\n",
       "      <td>7.586296</td>\n",
       "      <td>0.0</td>\n",
       "      <td>616.0</td>\n",
       "      <td>0.0</td>\n",
       "      <td>248.0</td>\n",
       "      <td>864.0</td>\n",
       "      <td>...</td>\n",
       "      <td>0</td>\n",
       "      <td>0</td>\n",
       "      <td>0</td>\n",
       "      <td>1</td>\n",
       "      <td>0</td>\n",
       "      <td>0</td>\n",
       "      <td>0</td>\n",
       "      <td>0</td>\n",
       "      <td>1</td>\n",
       "      <td>0</td>\n",
       "    </tr>\n",
       "    <tr>\n",
       "      <th>1939</th>\n",
       "      <td>535327160</td>\n",
       "      <td>70.0</td>\n",
       "      <td>9.035987</td>\n",
       "      <td>7.578145</td>\n",
       "      <td>7.578145</td>\n",
       "      <td>0.0</td>\n",
       "      <td>793.0</td>\n",
       "      <td>0.0</td>\n",
       "      <td>130.0</td>\n",
       "      <td>923.0</td>\n",
       "      <td>...</td>\n",
       "      <td>0</td>\n",
       "      <td>0</td>\n",
       "      <td>0</td>\n",
       "      <td>1</td>\n",
       "      <td>1</td>\n",
       "      <td>0</td>\n",
       "      <td>0</td>\n",
       "      <td>0</td>\n",
       "      <td>0</td>\n",
       "      <td>0</td>\n",
       "    </tr>\n",
       "  </tbody>\n",
       "</table>\n",
       "<p>878 rows × 390 columns</p>\n",
       "</div>"
      ],
      "text/plain": [
       "            PID  Lot Frontage  Lot Area  Year Built  Year Remod/Add  \\\n",
       "Id                                                                    \n",
       "2658  902301120          69.0  9.120634    7.554859        7.575585   \n",
       "2718  905108090           0.0  9.175956    7.589336        7.589336   \n",
       "2414  528218130          58.0  9.747068    7.603898        7.603898   \n",
       "1989  902207150          60.0  9.050172    7.561642        7.603898   \n",
       "625   535105100           0.0  9.159047    7.582229        7.582229   \n",
       "...         ...           ...       ...         ...             ...   \n",
       "1662  527377110          80.0  8.987197    7.587817        7.587817   \n",
       "1234  535126140          90.0  9.593560    7.583756        7.600402   \n",
       "1373  904100040          55.0  9.017968    7.584773        7.584773   \n",
       "1672  527425140          60.0  9.104980    7.586296        7.586296   \n",
       "1939  535327160          70.0  9.035987    7.578145        7.578145   \n",
       "\n",
       "      Mas Vnr Area  BsmtFin SF 1  BsmtFin SF 2  Bsmt Unf SF  Total Bsmt SF  \\\n",
       "Id                                                                           \n",
       "2658           0.0           0.0           0.0       1020.0         1020.0   \n",
       "2718           0.0           0.0           0.0       1967.0         1967.0   \n",
       "2414           0.0         554.0           0.0        100.0          654.0   \n",
       "1989           0.0           0.0           0.0        968.0          968.0   \n",
       "625          247.0         609.0           0.0        785.0         1394.0   \n",
       "...            ...           ...           ...          ...            ...   \n",
       "1662           0.0         931.0         153.0          0.0         1084.0   \n",
       "1234         410.0         575.0           0.0        529.0         1104.0   \n",
       "1373           0.0         250.0         492.0        210.0          952.0   \n",
       "1672           0.0         616.0           0.0        248.0          864.0   \n",
       "1939           0.0         793.0           0.0        130.0          923.0   \n",
       "\n",
       "      ...  Sale Type_New  Sale Type_Oth  Sale Type_VWD  Sale Type_WD   \\\n",
       "Id    ...                                                               \n",
       "2658  ...              0              0              0              1   \n",
       "2718  ...              0              0              0              1   \n",
       "2414  ...              1              0              0              0   \n",
       "1989  ...              0              0              0              1   \n",
       "625   ...              0              0              0              1   \n",
       "...   ...            ...            ...            ...            ...   \n",
       "1662  ...              0              0              0              1   \n",
       "1234  ...              0              0              0              1   \n",
       "1373  ...              0              0              0              1   \n",
       "1672  ...              0              0              0              1   \n",
       "1939  ...              0              0              0              1   \n",
       "\n",
       "      Garage Type_num_Attchd  Garage Type_num_Basment  \\\n",
       "Id                                                      \n",
       "2658                       0                        0   \n",
       "2718                       1                        0   \n",
       "2414                       1                        0   \n",
       "1989                       0                        0   \n",
       "625                        1                        0   \n",
       "...                      ...                      ...   \n",
       "1662                       1                        0   \n",
       "1234                       1                        0   \n",
       "1373                       1                        0   \n",
       "1672                       0                        0   \n",
       "1939                       1                        0   \n",
       "\n",
       "      Garage Type_num_BuiltIn  Garage Type_num_CarPort  \\\n",
       "Id                                                       \n",
       "2658                        0                        0   \n",
       "2718                        0                        0   \n",
       "2414                        0                        0   \n",
       "1989                        0                        0   \n",
       "625                         0                        0   \n",
       "...                       ...                      ...   \n",
       "1662                        0                        0   \n",
       "1234                        0                        0   \n",
       "1373                        0                        0   \n",
       "1672                        0                        0   \n",
       "1939                        0                        0   \n",
       "\n",
       "      Garage Type_num_Detchd  Garage Type_num_None  \n",
       "Id                                                  \n",
       "2658                       1                     0  \n",
       "2718                       0                     0  \n",
       "2414                       0                     0  \n",
       "1989                       1                     0  \n",
       "625                        0                     0  \n",
       "...                      ...                   ...  \n",
       "1662                       0                     0  \n",
       "1234                       0                     0  \n",
       "1373                       0                     0  \n",
       "1672                       1                     0  \n",
       "1939                       0                     0  \n",
       "\n",
       "[878 rows x 390 columns]"
      ]
     },
     "execution_count": 45,
     "metadata": {},
     "output_type": "execute_result"
    }
   ],
   "source": [
    "X_test"
   ]
  },
  {
   "cell_type": "code",
   "execution_count": 43,
   "metadata": {},
   "outputs": [
    {
     "data": {
      "text/html": [
       "<div>\n",
       "<style scoped>\n",
       "    .dataframe tbody tr th:only-of-type {\n",
       "        vertical-align: middle;\n",
       "    }\n",
       "\n",
       "    .dataframe tbody tr th {\n",
       "        vertical-align: top;\n",
       "    }\n",
       "\n",
       "    .dataframe thead th {\n",
       "        text-align: right;\n",
       "    }\n",
       "</style>\n",
       "<table border=\"1\" class=\"dataframe\">\n",
       "  <thead>\n",
       "    <tr style=\"text-align: right;\">\n",
       "      <th></th>\n",
       "      <th>PID</th>\n",
       "      <th>Lot Frontage</th>\n",
       "      <th>Lot Area</th>\n",
       "      <th>Year Built</th>\n",
       "      <th>Year Remod/Add</th>\n",
       "      <th>Mas Vnr Area</th>\n",
       "      <th>BsmtFin SF 1</th>\n",
       "      <th>BsmtFin SF 2</th>\n",
       "      <th>Bsmt Unf SF</th>\n",
       "      <th>Total Bsmt SF</th>\n",
       "      <th>...</th>\n",
       "      <th>Sale Type_New</th>\n",
       "      <th>Sale Type_Oth</th>\n",
       "      <th>Sale Type_VWD</th>\n",
       "      <th>Sale Type_WD</th>\n",
       "      <th>Garage Type_num_Attchd</th>\n",
       "      <th>Garage Type_num_Basment</th>\n",
       "      <th>Garage Type_num_BuiltIn</th>\n",
       "      <th>Garage Type_num_CarPort</th>\n",
       "      <th>Garage Type_num_Detchd</th>\n",
       "      <th>Garage Type_num_None</th>\n",
       "    </tr>\n",
       "    <tr>\n",
       "      <th>Id</th>\n",
       "      <th></th>\n",
       "      <th></th>\n",
       "      <th></th>\n",
       "      <th></th>\n",
       "      <th></th>\n",
       "      <th></th>\n",
       "      <th></th>\n",
       "      <th></th>\n",
       "      <th></th>\n",
       "      <th></th>\n",
       "      <th></th>\n",
       "      <th></th>\n",
       "      <th></th>\n",
       "      <th></th>\n",
       "      <th></th>\n",
       "      <th></th>\n",
       "      <th></th>\n",
       "      <th></th>\n",
       "      <th></th>\n",
       "      <th></th>\n",
       "      <th></th>\n",
       "    </tr>\n",
       "  </thead>\n",
       "  <tbody>\n",
       "    <tr>\n",
       "      <th>2658</th>\n",
       "      <td>902301120</td>\n",
       "      <td>69.0</td>\n",
       "      <td>9.120634</td>\n",
       "      <td>7.554859</td>\n",
       "      <td>7.575585</td>\n",
       "      <td>0.0</td>\n",
       "      <td>0.0</td>\n",
       "      <td>0.0</td>\n",
       "      <td>1020.0</td>\n",
       "      <td>1020.0</td>\n",
       "      <td>...</td>\n",
       "      <td>0</td>\n",
       "      <td>0</td>\n",
       "      <td>0</td>\n",
       "      <td>1</td>\n",
       "      <td>0</td>\n",
       "      <td>0</td>\n",
       "      <td>0</td>\n",
       "      <td>0</td>\n",
       "      <td>1</td>\n",
       "      <td>0</td>\n",
       "    </tr>\n",
       "    <tr>\n",
       "      <th>2718</th>\n",
       "      <td>905108090</td>\n",
       "      <td>0.0</td>\n",
       "      <td>9.175956</td>\n",
       "      <td>7.589336</td>\n",
       "      <td>7.589336</td>\n",
       "      <td>0.0</td>\n",
       "      <td>0.0</td>\n",
       "      <td>0.0</td>\n",
       "      <td>1967.0</td>\n",
       "      <td>1967.0</td>\n",
       "      <td>...</td>\n",
       "      <td>0</td>\n",
       "      <td>0</td>\n",
       "      <td>0</td>\n",
       "      <td>1</td>\n",
       "      <td>1</td>\n",
       "      <td>0</td>\n",
       "      <td>0</td>\n",
       "      <td>0</td>\n",
       "      <td>0</td>\n",
       "      <td>0</td>\n",
       "    </tr>\n",
       "    <tr>\n",
       "      <th>2414</th>\n",
       "      <td>528218130</td>\n",
       "      <td>58.0</td>\n",
       "      <td>9.747068</td>\n",
       "      <td>7.603898</td>\n",
       "      <td>7.603898</td>\n",
       "      <td>0.0</td>\n",
       "      <td>554.0</td>\n",
       "      <td>0.0</td>\n",
       "      <td>100.0</td>\n",
       "      <td>654.0</td>\n",
       "      <td>...</td>\n",
       "      <td>1</td>\n",
       "      <td>0</td>\n",
       "      <td>0</td>\n",
       "      <td>0</td>\n",
       "      <td>1</td>\n",
       "      <td>0</td>\n",
       "      <td>0</td>\n",
       "      <td>0</td>\n",
       "      <td>0</td>\n",
       "      <td>0</td>\n",
       "    </tr>\n",
       "    <tr>\n",
       "      <th>1989</th>\n",
       "      <td>902207150</td>\n",
       "      <td>60.0</td>\n",
       "      <td>9.050172</td>\n",
       "      <td>7.561642</td>\n",
       "      <td>7.603898</td>\n",
       "      <td>0.0</td>\n",
       "      <td>0.0</td>\n",
       "      <td>0.0</td>\n",
       "      <td>968.0</td>\n",
       "      <td>968.0</td>\n",
       "      <td>...</td>\n",
       "      <td>0</td>\n",
       "      <td>0</td>\n",
       "      <td>0</td>\n",
       "      <td>1</td>\n",
       "      <td>0</td>\n",
       "      <td>0</td>\n",
       "      <td>0</td>\n",
       "      <td>0</td>\n",
       "      <td>1</td>\n",
       "      <td>0</td>\n",
       "    </tr>\n",
       "    <tr>\n",
       "      <th>625</th>\n",
       "      <td>535105100</td>\n",
       "      <td>0.0</td>\n",
       "      <td>9.159047</td>\n",
       "      <td>7.582229</td>\n",
       "      <td>7.582229</td>\n",
       "      <td>247.0</td>\n",
       "      <td>609.0</td>\n",
       "      <td>0.0</td>\n",
       "      <td>785.0</td>\n",
       "      <td>1394.0</td>\n",
       "      <td>...</td>\n",
       "      <td>0</td>\n",
       "      <td>0</td>\n",
       "      <td>0</td>\n",
       "      <td>1</td>\n",
       "      <td>1</td>\n",
       "      <td>0</td>\n",
       "      <td>0</td>\n",
       "      <td>0</td>\n",
       "      <td>0</td>\n",
       "      <td>0</td>\n",
       "    </tr>\n",
       "    <tr>\n",
       "      <th>...</th>\n",
       "      <td>...</td>\n",
       "      <td>...</td>\n",
       "      <td>...</td>\n",
       "      <td>...</td>\n",
       "      <td>...</td>\n",
       "      <td>...</td>\n",
       "      <td>...</td>\n",
       "      <td>...</td>\n",
       "      <td>...</td>\n",
       "      <td>...</td>\n",
       "      <td>...</td>\n",
       "      <td>...</td>\n",
       "      <td>...</td>\n",
       "      <td>...</td>\n",
       "      <td>...</td>\n",
       "      <td>...</td>\n",
       "      <td>...</td>\n",
       "      <td>...</td>\n",
       "      <td>...</td>\n",
       "      <td>...</td>\n",
       "      <td>...</td>\n",
       "    </tr>\n",
       "    <tr>\n",
       "      <th>1662</th>\n",
       "      <td>527377110</td>\n",
       "      <td>80.0</td>\n",
       "      <td>8.987197</td>\n",
       "      <td>7.587817</td>\n",
       "      <td>7.587817</td>\n",
       "      <td>0.0</td>\n",
       "      <td>931.0</td>\n",
       "      <td>153.0</td>\n",
       "      <td>0.0</td>\n",
       "      <td>1084.0</td>\n",
       "      <td>...</td>\n",
       "      <td>0</td>\n",
       "      <td>0</td>\n",
       "      <td>0</td>\n",
       "      <td>1</td>\n",
       "      <td>1</td>\n",
       "      <td>0</td>\n",
       "      <td>0</td>\n",
       "      <td>0</td>\n",
       "      <td>0</td>\n",
       "      <td>0</td>\n",
       "    </tr>\n",
       "    <tr>\n",
       "      <th>1234</th>\n",
       "      <td>535126140</td>\n",
       "      <td>90.0</td>\n",
       "      <td>9.593560</td>\n",
       "      <td>7.583756</td>\n",
       "      <td>7.600402</td>\n",
       "      <td>410.0</td>\n",
       "      <td>575.0</td>\n",
       "      <td>0.0</td>\n",
       "      <td>529.0</td>\n",
       "      <td>1104.0</td>\n",
       "      <td>...</td>\n",
       "      <td>0</td>\n",
       "      <td>0</td>\n",
       "      <td>0</td>\n",
       "      <td>1</td>\n",
       "      <td>1</td>\n",
       "      <td>0</td>\n",
       "      <td>0</td>\n",
       "      <td>0</td>\n",
       "      <td>0</td>\n",
       "      <td>0</td>\n",
       "    </tr>\n",
       "    <tr>\n",
       "      <th>1373</th>\n",
       "      <td>904100040</td>\n",
       "      <td>55.0</td>\n",
       "      <td>9.017968</td>\n",
       "      <td>7.584773</td>\n",
       "      <td>7.584773</td>\n",
       "      <td>0.0</td>\n",
       "      <td>250.0</td>\n",
       "      <td>492.0</td>\n",
       "      <td>210.0</td>\n",
       "      <td>952.0</td>\n",
       "      <td>...</td>\n",
       "      <td>0</td>\n",
       "      <td>0</td>\n",
       "      <td>0</td>\n",
       "      <td>1</td>\n",
       "      <td>1</td>\n",
       "      <td>0</td>\n",
       "      <td>0</td>\n",
       "      <td>0</td>\n",
       "      <td>0</td>\n",
       "      <td>0</td>\n",
       "    </tr>\n",
       "    <tr>\n",
       "      <th>1672</th>\n",
       "      <td>527425140</td>\n",
       "      <td>60.0</td>\n",
       "      <td>9.104980</td>\n",
       "      <td>7.586296</td>\n",
       "      <td>7.586296</td>\n",
       "      <td>0.0</td>\n",
       "      <td>616.0</td>\n",
       "      <td>0.0</td>\n",
       "      <td>248.0</td>\n",
       "      <td>864.0</td>\n",
       "      <td>...</td>\n",
       "      <td>0</td>\n",
       "      <td>0</td>\n",
       "      <td>0</td>\n",
       "      <td>1</td>\n",
       "      <td>0</td>\n",
       "      <td>0</td>\n",
       "      <td>0</td>\n",
       "      <td>0</td>\n",
       "      <td>1</td>\n",
       "      <td>0</td>\n",
       "    </tr>\n",
       "    <tr>\n",
       "      <th>1939</th>\n",
       "      <td>535327160</td>\n",
       "      <td>70.0</td>\n",
       "      <td>9.035987</td>\n",
       "      <td>7.578145</td>\n",
       "      <td>7.578145</td>\n",
       "      <td>0.0</td>\n",
       "      <td>793.0</td>\n",
       "      <td>0.0</td>\n",
       "      <td>130.0</td>\n",
       "      <td>923.0</td>\n",
       "      <td>...</td>\n",
       "      <td>0</td>\n",
       "      <td>0</td>\n",
       "      <td>0</td>\n",
       "      <td>1</td>\n",
       "      <td>1</td>\n",
       "      <td>0</td>\n",
       "      <td>0</td>\n",
       "      <td>0</td>\n",
       "      <td>0</td>\n",
       "      <td>0</td>\n",
       "    </tr>\n",
       "  </tbody>\n",
       "</table>\n",
       "<p>878 rows × 390 columns</p>\n",
       "</div>"
      ],
      "text/plain": [
       "            PID  Lot Frontage  Lot Area  Year Built  Year Remod/Add  \\\n",
       "Id                                                                    \n",
       "2658  902301120          69.0  9.120634    7.554859        7.575585   \n",
       "2718  905108090           0.0  9.175956    7.589336        7.589336   \n",
       "2414  528218130          58.0  9.747068    7.603898        7.603898   \n",
       "1989  902207150          60.0  9.050172    7.561642        7.603898   \n",
       "625   535105100           0.0  9.159047    7.582229        7.582229   \n",
       "...         ...           ...       ...         ...             ...   \n",
       "1662  527377110          80.0  8.987197    7.587817        7.587817   \n",
       "1234  535126140          90.0  9.593560    7.583756        7.600402   \n",
       "1373  904100040          55.0  9.017968    7.584773        7.584773   \n",
       "1672  527425140          60.0  9.104980    7.586296        7.586296   \n",
       "1939  535327160          70.0  9.035987    7.578145        7.578145   \n",
       "\n",
       "      Mas Vnr Area  BsmtFin SF 1  BsmtFin SF 2  Bsmt Unf SF  Total Bsmt SF  \\\n",
       "Id                                                                           \n",
       "2658           0.0           0.0           0.0       1020.0         1020.0   \n",
       "2718           0.0           0.0           0.0       1967.0         1967.0   \n",
       "2414           0.0         554.0           0.0        100.0          654.0   \n",
       "1989           0.0           0.0           0.0        968.0          968.0   \n",
       "625          247.0         609.0           0.0        785.0         1394.0   \n",
       "...            ...           ...           ...          ...            ...   \n",
       "1662           0.0         931.0         153.0          0.0         1084.0   \n",
       "1234         410.0         575.0           0.0        529.0         1104.0   \n",
       "1373           0.0         250.0         492.0        210.0          952.0   \n",
       "1672           0.0         616.0           0.0        248.0          864.0   \n",
       "1939           0.0         793.0           0.0        130.0          923.0   \n",
       "\n",
       "      ...  Sale Type_New  Sale Type_Oth  Sale Type_VWD  Sale Type_WD   \\\n",
       "Id    ...                                                               \n",
       "2658  ...              0              0              0              1   \n",
       "2718  ...              0              0              0              1   \n",
       "2414  ...              1              0              0              0   \n",
       "1989  ...              0              0              0              1   \n",
       "625   ...              0              0              0              1   \n",
       "...   ...            ...            ...            ...            ...   \n",
       "1662  ...              0              0              0              1   \n",
       "1234  ...              0              0              0              1   \n",
       "1373  ...              0              0              0              1   \n",
       "1672  ...              0              0              0              1   \n",
       "1939  ...              0              0              0              1   \n",
       "\n",
       "      Garage Type_num_Attchd  Garage Type_num_Basment  \\\n",
       "Id                                                      \n",
       "2658                       0                        0   \n",
       "2718                       1                        0   \n",
       "2414                       1                        0   \n",
       "1989                       0                        0   \n",
       "625                        1                        0   \n",
       "...                      ...                      ...   \n",
       "1662                       1                        0   \n",
       "1234                       1                        0   \n",
       "1373                       1                        0   \n",
       "1672                       0                        0   \n",
       "1939                       1                        0   \n",
       "\n",
       "      Garage Type_num_BuiltIn  Garage Type_num_CarPort  \\\n",
       "Id                                                       \n",
       "2658                        0                        0   \n",
       "2718                        0                        0   \n",
       "2414                        0                        0   \n",
       "1989                        0                        0   \n",
       "625                         0                        0   \n",
       "...                       ...                      ...   \n",
       "1662                        0                        0   \n",
       "1234                        0                        0   \n",
       "1373                        0                        0   \n",
       "1672                        0                        0   \n",
       "1939                        0                        0   \n",
       "\n",
       "      Garage Type_num_Detchd  Garage Type_num_None  \n",
       "Id                                                  \n",
       "2658                       1                     0  \n",
       "2718                       0                     0  \n",
       "2414                       0                     0  \n",
       "1989                       1                     0  \n",
       "625                        0                     0  \n",
       "...                      ...                   ...  \n",
       "1662                       0                     0  \n",
       "1234                       0                     0  \n",
       "1373                       0                     0  \n",
       "1672                       1                     0  \n",
       "1939                       0                     0  \n",
       "\n",
       "[878 rows x 390 columns]"
      ]
     },
     "execution_count": 43,
     "metadata": {},
     "output_type": "execute_result"
    }
   ],
   "source": [
    "Xy_train = pd.concat([X_train, y_train], axis=1)\n",
    "X_test"
   ]
  },
  {
   "cell_type": "code",
   "execution_count": 46,
   "metadata": {},
   "outputs": [],
   "source": [
    "Xy_train.to_csv('datasets/Xy_train_209.csv')\n",
    "X_test.to_csv('datasets/X_test_209.csv')"
   ]
  },
  {
   "cell_type": "code",
   "execution_count": 124,
   "metadata": {},
   "outputs": [],
   "source": [
    "interaction = PolynomialFeatures(include_bias=False, )\n",
    "X_train_inter = interaction.fit_transform(X_train)\n",
    "X_test_inter = interaction.fit_transform(X_test)"
   ]
  },
  {
   "cell_type": "code",
   "execution_count": null,
   "metadata": {},
   "outputs": [],
   "source": []
  },
  {
   "cell_type": "code",
   "execution_count": 26,
   "metadata": {},
   "outputs": [
    {
     "data": {
      "text/plain": [
       "LinearRegression(copy_X=True, fit_intercept=True, n_jobs=None, normalize=False)"
      ]
     },
     "execution_count": 26,
     "metadata": {},
     "output_type": "execute_result"
    }
   ],
   "source": [
    "model.fit(X_train, y_train_log)"
   ]
  },
  {
   "cell_type": "code",
   "execution_count": 27,
   "metadata": {},
   "outputs": [],
   "source": [
    "y_pred = model.predict(X_test)"
   ]
  },
  {
   "cell_type": "code",
   "execution_count": 28,
   "metadata": {},
   "outputs": [],
   "source": [
    "X_test.reset_index(inplace=True)"
   ]
  },
  {
   "cell_type": "code",
   "execution_count": 29,
   "metadata": {},
   "outputs": [
    {
     "data": {
      "text/html": [
       "<div>\n",
       "<style scoped>\n",
       "    .dataframe tbody tr th:only-of-type {\n",
       "        vertical-align: middle;\n",
       "    }\n",
       "\n",
       "    .dataframe tbody tr th {\n",
       "        vertical-align: top;\n",
       "    }\n",
       "\n",
       "    .dataframe thead th {\n",
       "        text-align: right;\n",
       "    }\n",
       "</style>\n",
       "<table border=\"1\" class=\"dataframe\">\n",
       "  <thead>\n",
       "    <tr style=\"text-align: right;\">\n",
       "      <th></th>\n",
       "      <th>Id</th>\n",
       "      <th>SalePrice</th>\n",
       "    </tr>\n",
       "  </thead>\n",
       "  <tbody>\n",
       "    <tr>\n",
       "      <th>0</th>\n",
       "      <td>2658</td>\n",
       "      <td>105860.285337</td>\n",
       "    </tr>\n",
       "    <tr>\n",
       "      <th>1</th>\n",
       "      <td>2718</td>\n",
       "      <td>154110.993542</td>\n",
       "    </tr>\n",
       "    <tr>\n",
       "      <th>2</th>\n",
       "      <td>2414</td>\n",
       "      <td>211404.254708</td>\n",
       "    </tr>\n",
       "    <tr>\n",
       "      <th>3</th>\n",
       "      <td>1989</td>\n",
       "      <td>102050.028828</td>\n",
       "    </tr>\n",
       "    <tr>\n",
       "      <th>4</th>\n",
       "      <td>625</td>\n",
       "      <td>175687.419364</td>\n",
       "    </tr>\n",
       "  </tbody>\n",
       "</table>\n",
       "</div>"
      ],
      "text/plain": [
       "     Id      SalePrice\n",
       "0  2658  105860.285337\n",
       "1  2718  154110.993542\n",
       "2  2414  211404.254708\n",
       "3  1989  102050.028828\n",
       "4   625  175687.419364"
      ]
     },
     "execution_count": 29,
     "metadata": {},
     "output_type": "execute_result"
    }
   ],
   "source": [
    "# create output df\n",
    "output = pd.DataFrame( {'Id': X_test['Id']} )\n",
    "output['SalePrice'] = np.exp(y_pred)\n",
    "\n",
    "output.head()"
   ]
  },
  {
   "cell_type": "code",
   "execution_count": null,
   "metadata": {},
   "outputs": [],
   "source": []
  },
  {
   "cell_type": "code",
   "execution_count": 30,
   "metadata": {},
   "outputs": [],
   "source": [
    "#output.to_csv('submissions/submission_30a.csv', index=False)"
   ]
  },
  {
   "cell_type": "code",
   "execution_count": 125,
   "metadata": {},
   "outputs": [],
   "source": [
    "# scale\n",
    "from sklearn.preprocessing import StandardScaler\n",
    "ss = StandardScaler()\n",
    "Z_train = ss.fit_transform(X_train_inter)\n",
    "Z_test = ss.transform(X_test_inter)"
   ]
  },
  {
   "cell_type": "code",
   "execution_count": null,
   "metadata": {},
   "outputs": [],
   "source": []
  },
  {
   "cell_type": "code",
   "execution_count": 126,
   "metadata": {},
   "outputs": [],
   "source": [
    "from sklearn.linear_model import Lasso, LassoCV"
   ]
  },
  {
   "cell_type": "code",
   "execution_count": 127,
   "metadata": {},
   "outputs": [
    {
     "data": {
      "text/plain": [
       "497.7023564332114"
      ]
     },
     "execution_count": 127,
     "metadata": {},
     "output_type": "execute_result"
    }
   ],
   "source": [
    "lasso_cv = LassoCV(alphas=np.logspace(2,3,100), cv=5, max_iter=5000)\n",
    "lasso_cv.fit(Z_train, y_train)\n",
    "lasso_cv.alpha_"
   ]
  },
  {
   "cell_type": "code",
   "execution_count": 113,
   "metadata": {},
   "outputs": [
    {
     "data": {
      "text/plain": [
       "LassoCV(alphas=array([ 794.32823472,  796.17786805,  798.03180835,  799.89006563,\n",
       "        801.75264997,  803.61957142,  805.4908401 ,  807.36646611,\n",
       "        809.24645962,  811.13083079,  813.01958981,  814.9127469 ,\n",
       "        816.81031231,  818.71229629,  820.61870913,  822.52956115,\n",
       "        824.44486269,  826.36462411,  828.28885579,  830.21756813,\n",
       "        832.15077158,  834.0884766 ,  836.03069365,  837.97743326,\n",
       "        839.92870595,  841.88...\n",
       "        965.7139053 ,  967.9626188 ,  970.21656854,  972.47576672,\n",
       "        974.74022556,  977.0099573 ,  979.28497423,  981.56528865,\n",
       "        983.85091289,  986.14185933,  988.43814035,  990.73976838,\n",
       "        993.04675586,  995.35911528,  997.67685915, 1000.        ]),\n",
       "        copy_X=True, cv=5, eps=0.001, fit_intercept=True, max_iter=5000,\n",
       "        n_alphas=100, n_jobs=None, normalize=False, positive=False,\n",
       "        precompute='auto', random_state=None, selection='cyclic', tol=0.0001,\n",
       "        verbose=False)"
      ]
     },
     "execution_count": 113,
     "metadata": {},
     "output_type": "execute_result"
    }
   ],
   "source": []
  },
  {
   "cell_type": "code",
   "execution_count": 114,
   "metadata": {},
   "outputs": [
    {
     "data": {
      "text/plain": [
       "849.7534359086438"
      ]
     },
     "execution_count": 114,
     "metadata": {},
     "output_type": "execute_result"
    }
   ],
   "source": [
    "lasso_cv.alpha_"
   ]
  },
  {
   "cell_type": "code",
   "execution_count": 115,
   "metadata": {},
   "outputs": [
    {
     "name": "stderr",
     "output_type": "stream",
     "text": [
      "/Users/jfitz/opt/anaconda3/lib/python3.7/site-packages/sklearn/model_selection/_split.py:1978: FutureWarning: The default value of cv will change from 3 to 5 in version 0.22. Specify it explicitly to silence this warning.\n",
      "  warnings.warn(CV_WARNING, FutureWarning)\n"
     ]
    },
    {
     "data": {
      "text/plain": [
       "array([0.90990552, 0.81837112, 0.86508781])"
      ]
     },
     "execution_count": 115,
     "metadata": {},
     "output_type": "execute_result"
    }
   ],
   "source": [
    "cross_val_score(lasso_cv, Z_train, y_train)"
   ]
  },
  {
   "cell_type": "code",
   "execution_count": 117,
   "metadata": {},
   "outputs": [],
   "source": [
    "y_pred = lasso.predict(Z_test)"
   ]
  },
  {
   "cell_type": "code",
   "execution_count": 121,
   "metadata": {},
   "outputs": [
    {
     "data": {
      "text/html": [
       "<div>\n",
       "<style scoped>\n",
       "    .dataframe tbody tr th:only-of-type {\n",
       "        vertical-align: middle;\n",
       "    }\n",
       "\n",
       "    .dataframe tbody tr th {\n",
       "        vertical-align: top;\n",
       "    }\n",
       "\n",
       "    .dataframe thead th {\n",
       "        text-align: right;\n",
       "    }\n",
       "</style>\n",
       "<table border=\"1\" class=\"dataframe\">\n",
       "  <thead>\n",
       "    <tr style=\"text-align: right;\">\n",
       "      <th></th>\n",
       "      <th>Id</th>\n",
       "      <th>SalePrice</th>\n",
       "    </tr>\n",
       "  </thead>\n",
       "  <tbody>\n",
       "    <tr>\n",
       "      <th>0</th>\n",
       "      <td>2658</td>\n",
       "      <td>125105.487737</td>\n",
       "    </tr>\n",
       "    <tr>\n",
       "      <th>1</th>\n",
       "      <td>2718</td>\n",
       "      <td>149374.457020</td>\n",
       "    </tr>\n",
       "    <tr>\n",
       "      <th>2</th>\n",
       "      <td>2414</td>\n",
       "      <td>213228.698564</td>\n",
       "    </tr>\n",
       "    <tr>\n",
       "      <th>3</th>\n",
       "      <td>1989</td>\n",
       "      <td>106257.726131</td>\n",
       "    </tr>\n",
       "    <tr>\n",
       "      <th>4</th>\n",
       "      <td>625</td>\n",
       "      <td>177780.903440</td>\n",
       "    </tr>\n",
       "  </tbody>\n",
       "</table>\n",
       "</div>"
      ],
      "text/plain": [
       "     Id      SalePrice\n",
       "0  2658  125105.487737\n",
       "1  2718  149374.457020\n",
       "2  2414  213228.698564\n",
       "3  1989  106257.726131\n",
       "4   625  177780.903440"
      ]
     },
     "execution_count": 121,
     "metadata": {},
     "output_type": "execute_result"
    }
   ],
   "source": [
    "# create output df\n",
    "output = pd.DataFrame( {'Id': X_test.index} )\n",
    "output['SalePrice'] = y_pred\n",
    "\n",
    "output.head()"
   ]
  },
  {
   "cell_type": "code",
   "execution_count": 122,
   "metadata": {},
   "outputs": [],
   "source": [
    "output.to_csv('submissions/submission_209_lasso.csv', index=False)"
   ]
  },
  {
   "cell_type": "code",
   "execution_count": 55,
   "metadata": {},
   "outputs": [],
   "source": [
    "from sklearn.linear_model import LogisticRegression, LogisticRegressionCV"
   ]
  },
  {
   "cell_type": "code",
   "execution_count": null,
   "metadata": {},
   "outputs": [],
   "source": []
  },
  {
   "cell_type": "code",
   "execution_count": null,
   "metadata": {},
   "outputs": [],
   "source": []
  }
 ],
 "metadata": {
  "kernelspec": {
   "display_name": "Python 3",
   "language": "python",
   "name": "python3"
  },
  "language_info": {
   "codemirror_mode": {
    "name": "ipython",
    "version": 3
   },
   "file_extension": ".py",
   "mimetype": "text/x-python",
   "name": "python",
   "nbconvert_exporter": "python",
   "pygments_lexer": "ipython3",
   "version": "3.7.4"
  }
 },
 "nbformat": 4,
 "nbformat_minor": 2
}
