{
 "cells": [
  {
   "cell_type": "markdown",
   "metadata": {},
   "source": [
    "### Import libraries & data"
   ]
  },
  {
   "cell_type": "code",
   "execution_count": 1668,
   "metadata": {},
   "outputs": [],
   "source": [
    "import math\n",
    "import numpy as np\n",
    "import pandas as pd\n",
    "import seaborn as sns\n",
    "import matplotlib.pyplot as plt\n",
    "from IPython.display import display, HTML\n",
    "from sklearn.linear_model import LinearRegression\n",
    "from sklearn.model_selection import train_test_split, cross_val_score\n",
    "from sklearn.preprocessing import PolynomialFeatures"
   ]
  },
  {
   "cell_type": "code",
   "execution_count": 1669,
   "metadata": {},
   "outputs": [
    {
     "data": {
      "text/plain": [
       "((2051, 80), (878, 79))"
      ]
     },
     "execution_count": 1669,
     "metadata": {},
     "output_type": "execute_result"
    }
   ],
   "source": [
    "test = pd.read_csv('datasets/test.csv', index_col=0)\n",
    "train = pd.read_csv('datasets/train.csv', index_col=0)\n",
    "train.shape, test.shape"
   ]
  },
  {
   "cell_type": "code",
   "execution_count": 1670,
   "metadata": {},
   "outputs": [],
   "source": [
    "test['SalePrice'] = np.nan      # align test data with empty SalePrice column\n",
    "train['dataset'] = 0            # ID train data with dataset col = 0\n",
    "test['dataset'] = 1             # ID test data with dataset col = 0\n",
    "df = pd.concat([test, train])   # concatenate\n",
    "df.reset_index(inplace=True)    # get col for Id"
   ]
  },
  {
   "cell_type": "code",
   "execution_count": 1671,
   "metadata": {},
   "outputs": [],
   "source": [
    "df.drop(columns='PID', inplace=True)"
   ]
  },
  {
   "cell_type": "markdown",
   "metadata": {},
   "source": [
    "### Impute missing values"
   ]
  },
  {
   "cell_type": "markdown",
   "metadata": {},
   "source": [
    "<div class=\"alert alert-warning\">\n",
    "Consider being more specific here . . .\n",
    "</div>"
   ]
  },
  {
   "cell_type": "code",
   "execution_count": 1672,
   "metadata": {},
   "outputs": [],
   "source": [
    "# iterate through columns with Na values\n",
    "for col in [c for c in df.columns if df[c].isna().sum() > 0]:\n",
    "    if 'Garage Yr' in col:\n",
    "        df[col] = df[col].fillna(df['Year Built'])   # 'Year Built' for na in 'Garage Yr'\n",
    "    elif df[col].dtype == 'object':\n",
    "        df[col] = df[col].fillna(\"None\")             # 'none' for na in object columns\n",
    "    else:\n",
    "        df[col] = df[col].fillna(0)                  # 0 for na in numerical columns"
   ]
  },
  {
   "cell_type": "markdown",
   "metadata": {},
   "source": [
    "---\n",
    "## Addressing features by category"
   ]
  },
  {
   "cell_type": "markdown",
   "metadata": {},
   "source": [
    "### A) Continuous"
   ]
  },
  {
   "cell_type": "code",
   "execution_count": 1673,
   "metadata": {},
   "outputs": [],
   "source": [
    "continuous_x = ['Lot Frontage', 'Lot Area', 'Year Built', 'Year Remod/Add',\n",
    "                'BsmtFin SF 1', 'BsmtFin SF 2', 'Bsmt Unf SF', 'Total Bsmt SF',\n",
    "                'Mas Vnr Area', '1st Flr SF', '2nd Flr SF', 'Pool Area',\n",
    "                'Low Qual Fin SF', 'Screen Porch', 'Gr Liv Area', 'Garage Yr Blt',\n",
    "                'Garage Area', 'Wood Deck SF', 'Open Porch SF', 'Enclosed Porch',\n",
    "                '3Ssn Porch', 'Misc Val', 'TotRms AbvGrd', 'Yr Sold', 'Mo Sold']"
   ]
  },
  {
   "cell_type": "code",
   "execution_count": 1674,
   "metadata": {},
   "outputs": [
    {
     "data": {
      "text/plain": [
       "Gr Liv Area        0.697038\n",
       "Garage Area        0.650270\n",
       "Total Bsmt SF      0.628925\n",
       "1st Flr SF         0.618486\n",
       "Year Built         0.571849\n",
       "Year Remod/Add     0.550370\n",
       "Garage Yr Blt      0.533922\n",
       "Mas Vnr Area       0.512230\n",
       "TotRms AbvGrd      0.504014\n",
       "BsmtFin SF 1       0.423519\n",
       "Lot Frontage       0.341842\n",
       "Open Porch SF      0.333476\n",
       "Wood Deck SF       0.326490\n",
       "Lot Area           0.296566\n",
       "2nd Flr SF         0.248452\n",
       "Bsmt Unf SF        0.190210\n",
       "Screen Porch       0.134581\n",
       "3Ssn Porch         0.048732\n",
       "Mo Sold            0.032735\n",
       "Pool Area          0.023106\n",
       "BsmtFin SF 2       0.016255\n",
       "Misc Val          -0.007375\n",
       "Yr Sold           -0.015203\n",
       "Low Qual Fin SF   -0.041594\n",
       "Enclosed Porch    -0.135656\n",
       "Name: SalePrice, dtype: float64"
      ]
     },
     "execution_count": 1674,
     "metadata": {},
     "output_type": "execute_result"
    }
   ],
   "source": [
    "# list by r to SalePrice in train\n",
    "train.corr().loc['SalePrice', continuous_x].sort_values(ascending=False)"
   ]
  },
  {
   "cell_type": "markdown",
   "metadata": {},
   "source": [
    "#### Dealing with weaker columns"
   ]
  },
  {
   "cell_type": "code",
   "execution_count": 1675,
   "metadata": {},
   "outputs": [],
   "source": [
    "# make year and month sold categorical\n",
    "df[['Yr Sold', 'Mo Sold']] = df[['Yr Sold', 'Mo Sold']].astype('str')\n",
    "\n",
    "# dummy zeros in 'Pool Area', BsmtFin SF 2', 'Bsmt Unf SF' & 'Low Qual Fin SF'\n",
    "df['has_Pool'] = [1 if x >0 else 0 for x in df['Pool Area']]\n",
    "df['has_BsFn2'] = [1 if x >0 else 0 for x in df['BsmtFin SF 2']]\n",
    "df['has_BsUnf'] = [1 if x >0 else 0 for x in df['Bsmt Unf SF']]\n",
    "df['has_LoQuFin'] = [1 if x > 0 else 0 for x in df['Low Qual Fin SF']]\n",
    "\n",
    "# interact and sum porches\n",
    "df['Total Porch'] = df['Open Porch SF']+df['Enclosed Porch']+df['3Ssn Porch']+df['Screen Porch']\n",
    "df['Porch_inter'] = df['Open Porch SF']*df['Enclosed Porch']*df['3Ssn Porch']*df['Screen Porch']\n",
    "\n",
    "# interact and sum SF\n",
    "df['Total SF'] = df['Gr Liv Area'] + df['Total Bsmt SF'] + df['Total Porch'] + df['Garage Area']\n",
    "df['SF_inter'] = df['Gr Liv Area']*df['Total Bsmt SF']*df['Total Porch']*df['Garage Area']\n",
    "\n",
    "# dummy zeros in weaker porches \n",
    "df['has_EncPo'] = [1 if x > 0 else 0 for x in df['Enclosed Porch']]\n",
    "df['has_ScrPo'] = [1 if x > 0 else 0 for x in df['Screen Porch']]\n",
    "df['has_3SsPo'] = [1 if x > 0 else 0 for x in df['3Ssn Porch']]\n",
    "\n",
    "# drop remaining variables with abs(r)<.2 to target\n",
    "df.drop(columns=['Bsmt Unf SF', 'BsmtFin SF 2', 'Low Qual Fin SF',\n",
    "                 'Screen Porch', '3Ssn Porch', 'Enclosed Porch',\n",
    "                 'Pool Area', 'Misc Val', ], inplace=True)  # (** totally dropping misc val? **)"
   ]
  },
  {
   "cell_type": "code",
   "execution_count": 1676,
   "metadata": {},
   "outputs": [
    {
     "name": "stdout",
     "output_type": "stream",
     "text": [
      "Dropping 2207.0...\n"
     ]
    }
   ],
   "source": [
    "# replace typo with mean in Garage Yr Blt\n",
    "print(f\"Dropping {df['Garage Yr Blt'].max()}...\")\n",
    "df['Garage Yr Blt'].replace(df['Garage Yr Blt'].max(), df['Garage Yr Blt'].mean(), inplace=True)"
   ]
  },
  {
   "cell_type": "markdown",
   "metadata": {},
   "source": [
    "#### Log transform key continous x variables"
   ]
  },
  {
   "cell_type": "code",
   "execution_count": 1677,
   "metadata": {},
   "outputs": [
    {
     "name": "stdout",
     "output_type": "stream",
     "text": [
      "Log transformed Lot Area\n",
      "Log transformed Lot Frontage\n",
      "Log transformed Gr Liv Area\n",
      "Log transformed BsmtFin SF 1\n",
      "Log transformed Total Bsmt SF\n",
      "Log transformed 1st Flr SF\n",
      "Log transformed Total Porch\n",
      "Log transformed Open Porch SF\n",
      "Log transformed Wood Deck SF\n",
      "Log transformed Mas Vnr Area\n",
      "Log transformed TotRms AbvGrd\n"
     ]
    }
   ],
   "source": [
    "x_to_log = ['Lot Area', 'Lot Frontage',  'Gr Liv Area',\n",
    "            'BsmtFin SF 1', 'Total Bsmt SF', '1st Flr SF',\n",
    "            'Total Porch', 'Open Porch SF', 'Wood Deck SF',\n",
    "            'Mas Vnr Area', 'TotRms AbvGrd', ]\n",
    "for x in x_to_log:\n",
    "    df[x+'_log'] = (df[x]+1).apply(np.log)\n",
    "    print('Log transformed', x)"
   ]
  },
  {
   "cell_type": "markdown",
   "metadata": {},
   "source": [
    "---\n",
    "### B) Ordinal Features"
   ]
  },
  {
   "cell_type": "code",
   "execution_count": 1678,
   "metadata": {},
   "outputs": [],
   "source": [
    "ordinal_x = ['BsmtFin Type 1', 'BsmtFin Type 2', 'Exter Qual', 'Exter Cond', 'Bsmt Cond', \n",
    "             'Bsmt Qual', 'Heating QC', 'Kitchen Qual', 'Fireplace Qu', 'Garage Qual',\n",
    "             'Garage Cond', 'Pool QC', 'Lot Shape', 'Utilities', 'Land Slope', 'Bsmt Exposure',\n",
    "             'Electrical', 'Functional', 'Garage Finish', 'Paved Drive', 'Fence', 'Overall Qual',\n",
    "             'Overall Cond', 'Mo Sold', ]"
   ]
  },
  {
   "cell_type": "markdown",
   "metadata": {},
   "source": [
    "Before getting r to Saleprice, ordinals must be encoded:"
   ]
  },
  {
   "cell_type": "code",
   "execution_count": 1679,
   "metadata": {},
   "outputs": [],
   "source": [
    "# standard ordinal scale:\n",
    "standard_mapper =  {'Ex': 5, 'Gd': 4, 'TA': 3, 'Fa': 2, 'Po': 1, 'None':0}\n",
    "standard_cols = ['Exter Qual', 'Exter Cond', 'Bsmt Cond', 'Bsmt Qual',\n",
    "               'Heating QC', 'Kitchen Qual', 'Fireplace Qu', 'Garage Qual',\n",
    "               'Garage Cond', 'Pool QC']\n",
    "for col in standard_cols:\n",
    "    df[col] = df[col].replace(standard_mapper).astype('float')"
   ]
  },
  {
   "cell_type": "code",
   "execution_count": 1680,
   "metadata": {},
   "outputs": [],
   "source": [
    "# basement ordinals:\n",
    "bsmt_mapper =  { 'None': 0, 'Unf': 0, 'LwQ': 2, 'Rec': 3, 'BLQ': 4, 'ALQ': 5, 'GLQ': 6, }\n",
    "bsmt_cols = ['BsmtFin Type 1', 'BsmtFin Type 2']\n",
    "for col in bsmt_cols:\n",
    "    df[col] = df[col].replace(bsmt_mapper).astype('float')"
   ]
  },
  {
   "cell_type": "code",
   "execution_count": 1681,
   "metadata": {},
   "outputs": [],
   "source": [
    "# unique ordinals:\n",
    "unique_ords = {\n",
    "    'Lot Shape': { 'None': 0, 'Reg': 0, 'IR1': 1, 'IR2': 2, 'IR3': 3, },\n",
    "    'Utilities': { 'AllPub': 4, 'NoSewr': 3, 'NoSeWa': 2, 'ELO': 1, 'None': 0, },\n",
    "    'Land Slope': { 'None': 0, 'Gtl': 0, 'Mod': 1, 'Sev': 2, },\n",
    "    'Bsmt Exposure': { 'Gd': 5, 'Av': 3, 'Mn': 2, 'No': 0, 'None': 0, },\n",
    "    'Electrical': { 'SBrkr': 4, 'FuseA': 3, 'FuseF': 2, 'FuseP': 1, 'Mix': 4, 'None': 0, },\n",
    "    'Functional': { 'None': 0, 'Typ': 0, 'Min1': 2, 'Min2': 3, 'Mod': 4, 'Maj1': 6, 'Maj2': 7, 'Sev': 8, 'Sal': 10, },\n",
    "    'Garage Finish': { 'Fin': 3, 'RFn': 2, 'Unf': 1, 'None': 0, },\n",
    "    'Paved Drive': { 'Y': 3, 'P': 2, 'N': 1, 'None': 0, },\n",
    "    'Fence': { 'GdPrv': 4, 'MnPrv': 3, 'GdWo': 2, 'MnWw': 1, 'None': 0, },}\n",
    "for col, mapper in unique_ords.items():\n",
    "    df[col] = df[col].replace(mapper).astype('float')"
   ]
  },
  {
   "cell_type": "code",
   "execution_count": 1682,
   "metadata": {},
   "outputs": [
    {
     "name": "stderr",
     "output_type": "stream",
     "text": [
      "/Users/jfitz/opt/anaconda3/lib/python3.7/site-packages/pandas/core/indexing.py:961: FutureWarning: \n",
      "Passing list-likes to .loc or [] with any missing label will raise\n",
      "KeyError in the future, you can use .reindex() as an alternative.\n",
      "\n",
      "See the documentation here:\n",
      "https://pandas.pydata.org/pandas-docs/stable/user_guide/indexing.html#deprecate-loc-reindex-listlike\n",
      "  return getattr(section, self.name)[new_key]\n"
     ]
    },
    {
     "data": {
      "text/plain": [
       "Overall Qual      0.800207\n",
       "Exter Qual        0.712146\n",
       "Kitchen Qual      0.692336\n",
       "Bsmt Qual         0.612188\n",
       "Garage Finish     0.557839\n",
       "Fireplace Qu      0.538925\n",
       "Heating QC        0.458354\n",
       "Bsmt Exposure     0.417279\n",
       "BsmtFin Type 1    0.321022\n",
       "Lot Shape         0.294542\n",
       "Paved Drive       0.290472\n",
       "Garage Qual       0.285281\n",
       "Garage Cond       0.265021\n",
       "Electrical        0.246507\n",
       "Bsmt Cond         0.225075\n",
       "Land Slope        0.057990\n",
       "Exter Cond        0.036418\n",
       "Pool QC           0.029275\n",
       "Utilities         0.026404\n",
       "BsmtFin Type 2   -0.022096\n",
       "Overall Cond     -0.097019\n",
       "Functional       -0.126927\n",
       "Fence            -0.159060\n",
       "Mo Sold                NaN\n",
       "Name: SalePrice, dtype: float64"
      ]
     },
     "execution_count": 1682,
     "metadata": {},
     "output_type": "execute_result"
    }
   ],
   "source": [
    "# list by r to SalePrice in train\n",
    "df[df['dataset']==0].corr().loc['SalePrice', ordinal_x].sort_values(ascending=False)"
   ]
  },
  {
   "cell_type": "markdown",
   "metadata": {},
   "source": [
    "<div class='alert alert-success'>\n",
    "Use this graphic to explain binarizing\n",
    "</div>"
   ]
  },
  {
   "cell_type": "code",
   "execution_count": 1683,
   "metadata": {},
   "outputs": [
    {
     "data": {
      "image/png": "[encoded data removed]",
      "text/plain": [
       "<Figure size 432x288 with 1 Axes>"
      ]
     },
     "metadata": {
      "needs_background": "light"
     },
     "output_type": "display_data"
    }
   ],
   "source": [
    "plt.scatter(df[df['dataset']==0]['Overall Cond'], df[df['dataset']==0]['SalePrice']);"
   ]
  },
  {
   "cell_type": "code",
   "execution_count": 1684,
   "metadata": {},
   "outputs": [],
   "source": [
    "# binarize 'Electrical', 'Paved Drive', 'BsmtFin Type 2' and 'Overall Cond'\n",
    "df['Electrical'] = [1 if x == 4 else 0 for x in df['Electrical']]         # has SBrkr or not(else)\n",
    "df['Paved Drive'] = [1 if x == 3 else 0 for x in df['Paved Drive']]        # has paved drive or not(Partial/No)\n",
    "df['Overall Cond'] = [1 if x >= 5 else 0 for x in df['Overall Cond']]    # >=5 overall cond or <5 \n",
    "df['BsmtFin Type 2'] = [1 if x == 3 else 0 for x in df['BsmtFin Type 2']] # has BsFin T2 or not(None/Unf)\n",
    "\n",
    "# drop columns with >99% values in one category\n",
    "df.drop(columns=['Pool QC', 'Utilities',], inplace=True)"
   ]
  },
  {
   "cell_type": "markdown",
   "metadata": {},
   "source": [
    "Some ordinals lend themselves better than others to encoding:"
   ]
  },
  {
   "cell_type": "code",
   "execution_count": 1685,
   "metadata": {},
   "outputs": [],
   "source": [
    "# treat as categorical and ordinal:\n",
    "cat_plus_ord = ['Overall Qual', 'Exter Qual', 'Kitchen Qual', 'Heating QC', 'Bsmt Qual',\n",
    "                 'Fence', 'Overall Cond', 'Garage Finish', 'Fireplace Qu', 'Garage Qual']\n",
    "for x in cat_plus_ord:\n",
    "    df[x+'_ord'] = df[x]        # store encoded ordinal scale\n",
    "    df[x] = df[x].astype('str') # revert orig to str for dummies"
   ]
  },
  {
   "cell_type": "code",
   "execution_count": 1686,
   "metadata": {},
   "outputs": [],
   "source": [
    "# treat as categorical only:\n",
    "cat_only = ['Bsmt Exposure', 'BsmtFin Type 1', 'BsmtFin Type 2', 'Lot Shape', 'Exter Cond', \n",
    "            'Land Slope', 'Bsmt Qual', 'Overall Cond', 'Functional', 'Paved Drive', 'Bsmt Cond',\n",
    "            'Garage Cond', ]\n",
    "for x in cat_only:\n",
    "    df[x] = df[x].astype('str') # revert to str for dummies"
   ]
  },
  {
   "cell_type": "markdown",
   "metadata": {},
   "source": [
    "#### Log transform key ordinals"
   ]
  },
  {
   "cell_type": "code",
   "execution_count": 1687,
   "metadata": {},
   "outputs": [
    {
     "name": "stdout",
     "output_type": "stream",
     "text": [
      "Log transformed Fence_ord\n",
      "Log transformed Garage Qual_ord\n",
      "Log transformed Garage Finish_ord\n",
      "Log transformed Heating QC_ord\n",
      "Log transformed Fireplace Qu_ord\n"
     ]
    }
   ],
   "source": [
    "x_to_log =  ['Fence', 'Garage Qual', 'Garage Finish', 'Heating QC', 'Fireplace Qu', ]\n",
    "for x in x_to_log:\n",
    "    x+='_ord'                             # get ordinal (numeric) version of x\n",
    "    df[x+'_log'] = (df[x]+1).apply(np.log)  # log transform\n",
    "    print('Log transformed', x)           # print success"
   ]
  },
  {
   "cell_type": "code",
   "execution_count": 1688,
   "metadata": {},
   "outputs": [],
   "source": [
    "# exploiting seasonality | credit to https://jackdry.com/house-prices-advanced-regression-techniques-kaggle\n",
    "#df['sin_Mo Sold'] = np.sin(2 * np.pi * df[\"Mo Sold\"] / 12)\n",
    "#df['cos_Mo Sold'] = np.cos(2 * np.pi * df[\"Mo Sold\"] / 12)\n",
    "#df = df.drop(\"Mo Sold\", axis=1)"
   ]
  },
  {
   "cell_type": "markdown",
   "metadata": {},
   "source": [
    "---\n",
    "### c) Nominal"
   ]
  },
  {
   "cell_type": "code",
   "execution_count": 1689,
   "metadata": {},
   "outputs": [],
   "source": [
    "nominal_x = ['MS SubClass', 'Street', 'Alley', 'Land Contour', 'Lot Config', 'MS Zoning',\n",
    "             'Neighborhood', 'House Style', 'Condition 1', 'Condition 2','Bldg Type',\n",
    "             'House Style', 'Roof Style', 'Roof Matl', 'Exterior 1st', 'Exterior 2nd',\n",
    "             'Mas Vnr Type', 'Foundation', 'Heating', 'Bsmt Full Bath', 'Bsmt Half Bath',\n",
    "             'Full Bath', 'Half Bath', 'Bedroom AbvGr', 'Kitchen AbvGr', 'Fireplaces',\n",
    "             'Garage Type', 'Garage Cars', 'Sale Type', 'Lot Config',\n",
    "             'Central Air',  'Misc Feature',]\n",
    "\n",
    "# create total bath column (sum baths)\n",
    "df['Total Bath'] = df['Bsmt Full Bath'] + df['Full Bath'] + .5*(df['Bsmt Half Bath'] + df['Half Bath'])\n",
    "\n"
   ]
  },
  {
   "cell_type": "code",
   "execution_count": 1690,
   "metadata": {},
   "outputs": [],
   "source": [
    "# binarize a few nominals: \n",
    "df['Heating'] = [1 if x == 'GasA' else 0 for x in df['Heating']]            # has GasA type heating?\n",
    "df['Misc Feature'] = [1 if x == 'Shed' else 0 for x in df['Misc Feature']]  # has shed?\n",
    "df['Bsmt Half Bath'] = [1 if x > 0 else 0 for x in df['Bsmt Half Bath']]    # has bsmt half bath?\n",
    "\n"
   ]
  },
  {
   "cell_type": "code",
   "execution_count": 1691,
   "metadata": {},
   "outputs": [],
   "source": [
    "## treat these as categorical:\n",
    "cat_only = ['MS SubClass', 'Street', 'Alley', 'Lot Config', 'MS Zoning', 'Neighborhood',\n",
    "                'House Style', 'Condition 1',  'Condition 2', 'Bldg Type', 'House Style',\n",
    "                'Roof Style', 'Roof Matl', 'Exterior 1st', 'Exterior 2nd', 'Mas Vnr Type',\n",
    "                'Foundation', 'Bsmt Half Bath', 'Kitchen AbvGr', 'Heating', 'Misc Feature',\n",
    "                'Garage Type', 'Sale Type', 'Land Contour', 'Central Air']\n",
    "# str for dummy\n",
    "df[cat_only] = df[cat_only].astype('str')"
   ]
  },
  {
   "cell_type": "code",
   "execution_count": 1692,
   "metadata": {},
   "outputs": [],
   "source": [
    "## treat these as categorical AND numerical:\n",
    "cat_plus_nom = ['Full Bath', 'Half Bath', 'Bsmt Full Bath', 'Total Bath',\n",
    "                'Bedroom AbvGr', 'Fireplaces', 'Garage Cars' ] \n",
    "# str for dummy\n",
    "for x in cat_plus_nom:\n",
    "    df[x+'_cat'] = df[x].astype('str')"
   ]
  },
  {
   "cell_type": "markdown",
   "metadata": {},
   "source": [
    "#### Log transform key nominals"
   ]
  },
  {
   "cell_type": "code",
   "execution_count": 1693,
   "metadata": {},
   "outputs": [
    {
     "name": "stdout",
     "output_type": "stream",
     "text": [
      "Log transformed Full Bath\n",
      "Log transformed Half Bath\n",
      "Log transformed Bsmt Full Bath\n",
      "Log transformed Total Bath\n",
      "Log transformed Fireplaces\n",
      "Log transformed Garage Cars\n"
     ]
    }
   ],
   "source": [
    "x_to_log = ['Full Bath', 'Half Bath', 'Bsmt Full Bath', 'Total Bath', 'Fireplaces', 'Garage Cars']\n",
    "for x in x_to_log:\n",
    "    df[x+'_log'] = (df[x]+1).apply(np.log)  # log transform\n",
    "    print('Log transformed', x)           # print success"
   ]
  },
  {
   "cell_type": "markdown",
   "metadata": {},
   "source": [
    "Dummies for big zeros"
   ]
  },
  {
   "cell_type": "code",
   "execution_count": 1694,
   "metadata": {},
   "outputs": [],
   "source": [
    "# (big zero dummies)\n",
    "dummify_zeros = ['Mas Vnr Area', 'Total Bsmt SF', '2nd Flr SF', 'Garage Area', 'Wood Deck SF', 'Open Porch SF',]"
   ]
  },
  {
   "cell_type": "markdown",
   "metadata": {},
   "source": [
    "remove outliers from:\n",
    " def   'Garage Yr Blt',>2050\n",
    " def   'Lot Frontage'>175,\n",
    " def   'Lot Area'>100000,\n",
    "    'BsmtFin SF 1',>3000\n",
    "    'Total Bsmt SF'> 4000\n",
    "    '1st Flr SF',>3000\n",
    "    'Gr Liv Area',>4000\n",
    "    'TotRms AbvGrd*dropem!',\n",
    "    'Wood Deck SF',>1000\n",
    "    \n",
    "    "
   ]
  },
  {
   "cell_type": "markdown",
   "metadata": {},
   "source": [
    "<div class='alert alert-warning'>\n",
    "    ### Feature interactions\n",
    "</div>"
   ]
  },
  {
   "cell_type": "code",
   "execution_count": null,
   "metadata": {},
   "outputs": [],
   "source": [
    "df['Total SF*Overall Qual'] = df['Total SF']*df['Overall Qual']\n",
    "df['Garage Cars*Overall Qual'] = df['Garage Cars']*df['Overall Qual']\n",
    "df['Total Bsmt SF*Overall Qual'] = df['Total Bsmt SF']*df['Overall Qual']\n",
    "df['1st Flr SF*Overall Qual'] = df['1st Flr SF']*df['Overall Qual']\n",
    "df['Year Built*Overall Qual'] = df['Year Built']*df['Overall Qual']\n",
    "df['Full Bath*Overall Qual'] = df['Full Bath']*df['Overall Qual']\n",
    "df['Garage Area*Overall Qual'] = df['Garage Area']*df['Overall Qual']\n",
    "df['Fireplaces*Overall Qual'] = df['Fireplaces']*df['Overall Qual']\n",
    "\n",
    "df['Gr Liv Area*Garage Cars'] = df['Gr Liv Area']*df['Garage Cars']\n",
    "df['Full Bath*Garage Cars'] = df['Gr Liv Area']*df['Garage Cars']\n",
    "\n",
    "#kitchen qual times number of kitchens\n",
    "#aka __ qual of thing * __ total n of thing\n",
    "\n",
    "#log any of these?\n",
    "\n"
   ]
  },
  {
   "cell_type": "code",
   "execution_count": 1696,
   "metadata": {},
   "outputs": [],
   "source": [
    "# exploiting seasonality | credit to https://jackdry.com/house-prices-advanced-regression-techniques-kaggle\n",
    "#df[\"SinMoSold\"] = np.sin(2 * np.pi * df[\"Mo Sold\"] / 12)\n",
    "#df[\"CosMoSold\"] = np.cos(2 * np.pi * df[\"Mo Sold\"] / 12)\n",
    "#df = df.drop(\"Mo Sold\", axis=1)"
   ]
  },
  {
   "cell_type": "markdown",
   "metadata": {},
   "source": [
    "### Get Dummies"
   ]
  },
  {
   "cell_type": "code",
   "execution_count": 1698,
   "metadata": {},
   "outputs": [
    {
     "data": {
      "text/plain": [
       "(2929, 424)"
      ]
     },
     "execution_count": 1698,
     "metadata": {},
     "output_type": "execute_result"
    }
   ],
   "source": [
    "df = pd.get_dummies(df, drop_first=True)\n",
    "df.shape"
   ]
  },
  {
   "cell_type": "markdown",
   "metadata": {},
   "source": [
    "---\n",
    "# Modeling"
   ]
  },
  {
   "cell_type": "markdown",
   "metadata": {},
   "source": [
    "### Recover train and test"
   ]
  },
  {
   "cell_type": "code",
   "execution_count": 1706,
   "metadata": {},
   "outputs": [],
   "source": [
    "# define train X and y\n",
    "X_train = df[df['dataset'] == 0]\n",
    "y_train = X_train['SalePrice']\n",
    "X_train.drop(columns='dataset', inplace=True)\n",
    "X_train.drop(columns='SalePrice', inplace=True)\n",
    "\n",
    "# define test X\n",
    "X_test = df[df['dataset'] == 1]\n",
    "X_test.drop(columns='dataset', inplace=True)\n",
    "X_test.drop(columns='SalePrice', inplace=True)"
   ]
  },
  {
   "cell_type": "code",
   "execution_count": 1741,
   "metadata": {},
   "outputs": [],
   "source": []
  },
  {
   "cell_type": "code",
   "execution_count": 1746,
   "metadata": {},
   "outputs": [
    {
     "data": {
      "text/plain": [
       "array([0.86847138, 0.87681095, 0.38171697, 0.88791362, 0.68929466])"
      ]
     },
     "execution_count": 1746,
     "metadata": {},
     "output_type": "execute_result"
    }
   ],
   "source": [
    "lr = LinearRegression()\n",
    "\n",
    "lr.fit(X_train, y_train)\n",
    "\n",
    "cross_val_score(lr, X_train, y_train, cv=5)"
   ]
  },
  {
   "cell_type": "code",
   "execution_count": 1748,
   "metadata": {},
   "outputs": [
    {
     "data": {
      "text/plain": [
       "(0.9556924157430556, 0.5438202665943643)"
      ]
     },
     "execution_count": 1748,
     "metadata": {},
     "output_type": "execute_result"
    }
   ],
   "source": [
    "Xs_train, Xs_test, ys_train, ys_test = train_test_split(X_train, y_train, random_state=117)\n",
    "\n",
    "lr.fit(Xs_train, ys_train)\n",
    "\n",
    "lr.score(Xs_train, ys_train), lr.score(Xs_test, ys_test)"
   ]
  },
  {
   "cell_type": "code",
   "execution_count": 1757,
   "metadata": {},
   "outputs": [
    {
     "data": {
      "text/plain": [
       "227831.88133085647"
      ]
     },
     "execution_count": 1757,
     "metadata": {},
     "output_type": "execute_result"
    }
   ],
   "source": [
    "lr.coef_[.argmax()]"
   ]
  },
  {
   "cell_type": "code",
   "execution_count": null,
   "metadata": {},
   "outputs": [],
   "source": []
  },
  {
   "cell_type": "code",
   "execution_count": null,
   "metadata": {},
   "outputs": [],
   "source": [
    "ridge_alphas = np.logspace(0,3,100)\n",
    "\n",
    "# Cross-validate over our list of ridge alphas.\n",
    "ridge_cv = RidgeCV(alphas= ridge_alphas, scoring='r2', cv=5)\n",
    "\n",
    "# Fit model using best ridge alpha!\n",
    "ridge_cv.fit(Z_train, y_train);"
   ]
  },
  {
   "cell_type": "code",
   "execution_count": null,
   "metadata": {},
   "outputs": [],
   "source": []
  },
  {
   "cell_type": "code",
   "execution_count": null,
   "metadata": {},
   "outputs": [],
   "source": []
  },
  {
   "cell_type": "code",
   "execution_count": 1700,
   "metadata": {},
   "outputs": [],
   "source": [
    "lr = LinearRegression()"
   ]
  },
  {
   "cell_type": "code",
   "execution_count": 1701,
   "metadata": {},
   "outputs": [
    {
     "data": {
      "text/plain": [
       "LinearRegression(copy_X=True, fit_intercept=True, n_jobs=None, normalize=False)"
      ]
     },
     "execution_count": 1701,
     "metadata": {},
     "output_type": "execute_result"
    }
   ],
   "source": [
    "lr.fit(X_train, y_train)"
   ]
  },
  {
   "cell_type": "code",
   "execution_count": 1702,
   "metadata": {},
   "outputs": [],
   "source": [
    "y_pred = lr.predict(X_test)"
   ]
  },
  {
   "cell_type": "code",
   "execution_count": 1703,
   "metadata": {},
   "outputs": [
    {
     "data": {
      "text/html": [
       "<div>\n",
       "<style scoped>\n",
       "    .dataframe tbody tr th:only-of-type {\n",
       "        vertical-align: middle;\n",
       "    }\n",
       "\n",
       "    .dataframe tbody tr th {\n",
       "        vertical-align: top;\n",
       "    }\n",
       "\n",
       "    .dataframe thead th {\n",
       "        text-align: right;\n",
       "    }\n",
       "</style>\n",
       "<table border=\"1\" class=\"dataframe\">\n",
       "  <thead>\n",
       "    <tr style=\"text-align: right;\">\n",
       "      <th></th>\n",
       "      <th>Id</th>\n",
       "      <th>SalePrice</th>\n",
       "    </tr>\n",
       "  </thead>\n",
       "  <tbody>\n",
       "    <tr>\n",
       "      <th>0</th>\n",
       "      <td>2658</td>\n",
       "      <td>106156.039090</td>\n",
       "    </tr>\n",
       "    <tr>\n",
       "      <th>1</th>\n",
       "      <td>2718</td>\n",
       "      <td>154084.180593</td>\n",
       "    </tr>\n",
       "    <tr>\n",
       "      <th>2</th>\n",
       "      <td>2414</td>\n",
       "      <td>221761.013085</td>\n",
       "    </tr>\n",
       "    <tr>\n",
       "      <th>3</th>\n",
       "      <td>1989</td>\n",
       "      <td>113892.264304</td>\n",
       "    </tr>\n",
       "    <tr>\n",
       "      <th>4</th>\n",
       "      <td>625</td>\n",
       "      <td>178955.112895</td>\n",
       "    </tr>\n",
       "  </tbody>\n",
       "</table>\n",
       "</div>"
      ],
      "text/plain": [
       "     Id      SalePrice\n",
       "0  2658  106156.039090\n",
       "1  2718  154084.180593\n",
       "2  2414  221761.013085\n",
       "3  1989  113892.264304\n",
       "4   625  178955.112895"
      ]
     },
     "execution_count": 1703,
     "metadata": {},
     "output_type": "execute_result"
    }
   ],
   "source": [
    "# create output df\n",
    "output = pd.DataFrame( {'Id': X_test['Id']} )\n",
    "output['SalePrice'] = y_pred\n",
    "\n",
    "output.head()"
   ]
  },
  {
   "cell_type": "code",
   "execution_count": 1704,
   "metadata": {},
   "outputs": [],
   "source": [
    "output.to_csv('submissions/submission_32.csv', index=False)"
   ]
  },
  {
   "cell_type": "code",
   "execution_count": null,
   "metadata": {},
   "outputs": [],
   "source": []
  }
 ],
 "metadata": {
  "kernelspec": {
   "display_name": "Python 3",
   "language": "python",
   "name": "python3"
  },
  "language_info": {
   "codemirror_mode": {
    "name": "ipython",
    "version": 3
   },
   "file_extension": ".py",
   "mimetype": "text/x-python",
   "name": "python",
   "nbconvert_exporter": "python",
   "pygments_lexer": "ipython3",
   "version": "3.7.4"
  }
 },
 "nbformat": 4,
 "nbformat_minor": 2
}
